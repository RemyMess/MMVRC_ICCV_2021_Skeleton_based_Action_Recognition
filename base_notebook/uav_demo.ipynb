{
 "cells": [
  {
   "cell_type": "markdown",
   "metadata": {},
   "source": [
    "# Path Signature Methodology for Landmark-based Human Action Recognition\n",
    "\n",
    "This notebook is based on the paper\n",
    "> Weixin Yang, Terry Lyons, Hao Ni, Cordelia Schmid, Lianwen Jin, \"Developing the Path Signature Methodology and its Application to Landmark-based Human Action Recognition\", arXiv preprint arXiv:1707.03993v2, 2019\n",
    "\n",
    "which is available as an arXiv __[preprint](https://arxiv.org/ftp/arxiv/papers/1707/1707.03993.pdf)__. \n",
    "\n",
    "Human action recognition is a challenging task in computer vision with many potential applications, ranging from human-computer interaction and video understanding to video surveillance, behavioural analysis and many more. In this task we are given a short video clip showing one person (or possibly several) performing exactly one action and the task is to output the action that was performed in the video.\n",
    "\n",
    "In this notebook we give an introduction to the methodology developed in above paper. We begin with explaining the landmark-based approach and why it is a desirable approach. We then show how to generate a feature set based on above paper and train a simple classifier on the __[Joint-annotated Human Motion Data Base (JHMDB)](http://jhmdb.is.tue.mpg.de/)__ dataset.\n",
    "\n",
    "We begin by setting up the coding environment."
   ]
  },
  {
   "cell_type": "markdown",
   "metadata": {},
   "source": [
    "## Set up the Notebook\n",
    "### Install Dependencies\n",
    "There are two steps for installing the dependencies for this notebook:"
   ]
  },
  {
   "cell_type": "code",
   "execution_count": 1,
   "metadata": {},
   "outputs": [
    {
     "output_type": "stream",
     "name": "stdout",
     "text": [
      "Collecting git+git://github.com/kschlegel/PSFDataset.git@fc616da584aec841f2497bd03139318841d9ea73 (from -r requirements.txt (line 9))\n",
      "  Cloning git://github.com/kschlegel/PSFDataset.git (to revision fc616da584aec841f2497bd03139318841d9ea73) to c:\\users\\wyang\\appdata\\local\\temp\\pip-req-build-bdfnj32g\n",
      "Collecting git+git://github.com/kschlegel/DatasetLoader.git@88587de554bf377874655e29aa1397d9ff348f49 (from -r requirements.txt (line 10))\n",
      "  Cloning git://github.com/kschlegel/DatasetLoader.git (to revision 88587de554bf377874655e29aa1397d9ff348f49) to c:\\users\\wyang\\appdata\\local\\temp\\pip-req-build-1enkrteh\n",
      "Collecting notebook==6.1.1\n",
      "  Using cached notebook-6.1.1-py3-none-any.whl (9.4 MB)\n",
      "Requirement already satisfied: ipywidgets==7.5.1 in c:\\users\\wyang\\appdata\\local\\continuum\\anaconda3\\envs\\python36\\lib\\site-packages (from -r requirements.txt (line 2)) (7.5.1)\n",
      "Collecting opencv-python==4.2.0.34\n",
      "  Using cached opencv_python-4.2.0.34-cp36-cp36m-win_amd64.whl (33.0 MB)\n",
      "Collecting scikit-learn==0.23.1\n",
      "  Using cached scikit_learn-0.23.1-cp36-cp36m-win_amd64.whl (6.8 MB)\n",
      "Collecting matplotlib==3.2.1\n",
      "  Using cached matplotlib-3.2.1-cp36-cp36m-win_amd64.whl (9.2 MB)\n",
      "Requirement already satisfied: moviepy==1.0.3 in c:\\users\\wyang\\appdata\\local\\continuum\\anaconda3\\envs\\python36\\lib\\site-packages (from -r requirements.txt (line 6)) (1.0.3)\n",
      "Collecting requests==2.22.0\n",
      "  Using cached requests-2.22.0-py2.py3-none-any.whl (57 kB)\n",
      "Collecting tqdm==4.46.1\n",
      "  Using cached tqdm-4.46.1-py2.py3-none-any.whl (63 kB)\n",
      "Requirement already satisfied: numpy>=1.18.5 in c:\\users\\wyang\\appdata\\local\\continuum\\anaconda3\\envs\\python36\\lib\\site-packages (from datasetloader==0.0.1->-r requirements.txt (line 10)) (1.18.5)\n",
      "Requirement already satisfied: scipy>=1.4.1 in c:\\users\\wyang\\appdata\\local\\continuum\\anaconda3\\envs\\python36\\lib\\site-packages (from datasetloader==0.0.1->-r requirements.txt (line 10)) (1.4.1)\n",
      "Requirement already satisfied: h5py>=2.10.0 in c:\\users\\wyang\\appdata\\local\\continuum\\anaconda3\\envs\\python36\\lib\\site-packages (from datasetloader==0.0.1->-r requirements.txt (line 10)) (2.10.0)\n",
      "Requirement already satisfied: esig>=0.7.1 in c:\\users\\wyang\\appdata\\local\\continuum\\anaconda3\\envs\\python36\\lib\\site-packages (from psfdataset==0.0.1->-r requirements.txt (line 9)) (0.7.3)\n",
      "Requirement already satisfied: typing_extensions>=3.7.4.2 in c:\\users\\wyang\\appdata\\local\\continuum\\anaconda3\\envs\\python36\\lib\\site-packages (from psfdataset==0.0.1->-r requirements.txt (line 9)) (3.7.4.3)\n",
      "Requirement already satisfied: widgetsnbextension~=3.5.0 in c:\\users\\wyang\\appdata\\local\\continuum\\anaconda3\\envs\\python36\\lib\\site-packages (from ipywidgets==7.5.1->-r requirements.txt (line 2)) (3.5.1)\n",
      "Requirement already satisfied: ipython>=4.0.0 in c:\\users\\wyang\\appdata\\local\\continuum\\anaconda3\\envs\\python36\\lib\\site-packages (from ipywidgets==7.5.1->-r requirements.txt (line 2)) (7.8.0)\n",
      "Requirement already satisfied: ipykernel>=4.5.1 in c:\\users\\wyang\\appdata\\local\\continuum\\anaconda3\\envs\\python36\\lib\\site-packages (from ipywidgets==7.5.1->-r requirements.txt (line 2)) (5.3.4)\n",
      "Requirement already satisfied: nbformat>=4.2.0 in c:\\users\\wyang\\appdata\\local\\continuum\\anaconda3\\envs\\python36\\lib\\site-packages (from ipywidgets==7.5.1->-r requirements.txt (line 2)) (4.4.0)\n",
      "Requirement already satisfied: traitlets>=4.3.1 in c:\\users\\wyang\\appdata\\local\\continuum\\anaconda3\\envs\\python36\\lib\\site-packages (from ipywidgets==7.5.1->-r requirements.txt (line 2)) (4.3.2)\n",
      "Requirement already satisfied: cycler>=0.10 in c:\\users\\wyang\\appdata\\local\\continuum\\anaconda3\\envs\\python36\\lib\\site-packages (from matplotlib==3.2.1->-r requirements.txt (line 5)) (0.10.0)\n",
      "Requirement already satisfied: kiwisolver>=1.0.1 in c:\\users\\wyang\\appdata\\local\\continuum\\anaconda3\\envs\\python36\\lib\\site-packages (from matplotlib==3.2.1->-r requirements.txt (line 5)) (1.2.0)\n",
      "Requirement already satisfied: pyparsing!=2.0.4,!=2.1.2,!=2.1.6,>=2.0.1 in c:\\users\\wyang\\appdata\\local\\continuum\\anaconda3\\envs\\python36\\lib\\site-packages (from matplotlib==3.2.1->-r requirements.txt (line 5)) (2.4.0)\n",
      "Requirement already satisfied: python-dateutil>=2.1 in c:\\users\\wyang\\appdata\\local\\continuum\\anaconda3\\envs\\python36\\lib\\site-packages (from matplotlib==3.2.1->-r requirements.txt (line 5)) (2.8.0)\n",
      "Requirement already satisfied: decorator<5.0,>=4.0.2 in c:\\users\\wyang\\appdata\\local\\continuum\\anaconda3\\envs\\python36\\lib\\site-packages (from moviepy==1.0.3->-r requirements.txt (line 6)) (4.4.0)\n",
      "Requirement already satisfied: proglog<=1.0.0 in c:\\users\\wyang\\appdata\\local\\continuum\\anaconda3\\envs\\python36\\lib\\site-packages (from moviepy==1.0.3->-r requirements.txt (line 6)) (0.1.9)\n",
      "Requirement already satisfied: imageio-ffmpeg>=0.2.0 in c:\\users\\wyang\\appdata\\local\\continuum\\anaconda3\\envs\\python36\\lib\\site-packages (from moviepy==1.0.3->-r requirements.txt (line 6)) (0.4.2)\n",
      "Requirement already satisfied: imageio<3.0,>=2.5 in c:\\users\\wyang\\appdata\\local\\continuum\\anaconda3\\envs\\python36\\lib\\site-packages (from moviepy==1.0.3->-r requirements.txt (line 6)) (2.5.0)\n",
      "Requirement already satisfied: pyzmq>=17 in c:\\users\\wyang\\appdata\\local\\continuum\\anaconda3\\envs\\python36\\lib\\site-packages (from notebook==6.1.1->-r requirements.txt (line 1)) (18.0.0)\n",
      "Requirement already satisfied: Send2Trash in c:\\users\\wyang\\appdata\\local\\continuum\\anaconda3\\envs\\python36\\lib\\site-packages (from notebook==6.1.1->-r requirements.txt (line 1)) (1.5.0)\n",
      "Collecting argon2-cffi\n",
      "  Using cached argon2_cffi-20.1.0-cp36-cp36m-win_amd64.whl (42 kB)\n",
      "Requirement already satisfied: jupyter-core>=4.6.1 in c:\\users\\wyang\\appdata\\local\\continuum\\anaconda3\\envs\\python36\\lib\\site-packages (from notebook==6.1.1->-r requirements.txt (line 1)) (4.7.1)\n",
      "Requirement already satisfied: tornado>=5.0 in c:\\users\\wyang\\appdata\\local\\continuum\\anaconda3\\envs\\python36\\lib\\site-packages (from notebook==6.1.1->-r requirements.txt (line 1)) (6.1)\n",
      "Requirement already satisfied: ipython-genutils in c:\\users\\wyang\\appdata\\local\\continuum\\anaconda3\\envs\\python36\\lib\\site-packages (from notebook==6.1.1->-r requirements.txt (line 1)) (0.2.0)\n",
      "Requirement already satisfied: nbconvert in c:\\users\\wyang\\appdata\\local\\continuum\\anaconda3\\envs\\python36\\lib\\site-packages (from notebook==6.1.1->-r requirements.txt (line 1)) (5.5.0)\n",
      "Collecting terminado>=0.8.3\n",
      "  Downloading terminado-0.10.0-py3-none-any.whl (14 kB)\n",
      "Requirement already satisfied: prometheus-client in c:\\users\\wyang\\appdata\\local\\continuum\\anaconda3\\envs\\python36\\lib\\site-packages (from notebook==6.1.1->-r requirements.txt (line 1)) (0.7.1)\n",
      "Requirement already satisfied: jinja2 in c:\\users\\wyang\\appdata\\local\\continuum\\anaconda3\\envs\\python36\\lib\\site-packages (from notebook==6.1.1->-r requirements.txt (line 1)) (2.10.1)\n",
      "Collecting jupyter-client>=5.3.4\n",
      "  Using cached jupyter_client-6.1.12-py3-none-any.whl (112 kB)\n",
      "Requirement already satisfied: chardet<3.1.0,>=3.0.2 in c:\\users\\wyang\\appdata\\local\\continuum\\anaconda3\\envs\\python36\\lib\\site-packages (from requests==2.22.0->-r requirements.txt (line 7)) (3.0.4)\n",
      "Requirement already satisfied: urllib3!=1.25.0,!=1.25.1,<1.26,>=1.21.1 in c:\\users\\wyang\\appdata\\local\\continuum\\anaconda3\\envs\\python36\\lib\\site-packages (from requests==2.22.0->-r requirements.txt (line 7)) (1.24.3)\n",
      "Requirement already satisfied: idna<2.9,>=2.5 in c:\\users\\wyang\\appdata\\local\\continuum\\anaconda3\\envs\\python36\\lib\\site-packages (from requests==2.22.0->-r requirements.txt (line 7)) (2.8)\n",
      "Requirement already satisfied: certifi>=2017.4.17 in c:\\users\\wyang\\appdata\\local\\continuum\\anaconda3\\envs\\python36\\lib\\site-packages (from requests==2.22.0->-r requirements.txt (line 7)) (2020.12.5)\n",
      "Requirement already satisfied: threadpoolctl>=2.0.0 in c:\\users\\wyang\\appdata\\local\\continuum\\anaconda3\\envs\\python36\\lib\\site-packages (from scikit-learn==0.23.1->-r requirements.txt (line 4)) (2.1.0)\n",
      "Requirement already satisfied: joblib>=0.11 in c:\\users\\wyang\\appdata\\local\\continuum\\anaconda3\\envs\\python36\\lib\\site-packages (from scikit-learn==0.23.1->-r requirements.txt (line 4)) (0.14.1)\n",
      "Requirement already satisfied: six in c:\\users\\wyang\\appdata\\local\\continuum\\anaconda3\\envs\\python36\\lib\\site-packages (from cycler>=0.10->matplotlib==3.2.1->-r requirements.txt (line 5)) (1.12.0)\n",
      "Requirement already satisfied: pillow in c:\\users\\wyang\\appdata\\local\\continuum\\anaconda3\\envs\\python36\\lib\\site-packages (from imageio<3.0,>=2.5->moviepy==1.0.3->-r requirements.txt (line 6)) (6.1.0)\n",
      "Requirement already satisfied: pickleshare in c:\\users\\wyang\\appdata\\local\\continuum\\anaconda3\\envs\\python36\\lib\\site-packages (from ipython>=4.0.0->ipywidgets==7.5.1->-r requirements.txt (line 2)) (0.7.5)\n",
      "Requirement already satisfied: colorama in c:\\users\\wyang\\appdata\\local\\continuum\\anaconda3\\envs\\python36\\lib\\site-packages (from ipython>=4.0.0->ipywidgets==7.5.1->-r requirements.txt (line 2)) (0.4.1)\n",
      "Requirement already satisfied: prompt-toolkit<2.1.0,>=2.0.0 in c:\\users\\wyang\\appdata\\local\\continuum\\anaconda3\\envs\\python36\\lib\\site-packages (from ipython>=4.0.0->ipywidgets==7.5.1->-r requirements.txt (line 2)) (2.0.9)\n",
      "Requirement already satisfied: jedi>=0.10 in c:\\users\\wyang\\appdata\\local\\continuum\\anaconda3\\envs\\python36\\lib\\site-packages (from ipython>=4.0.0->ipywidgets==7.5.1->-r requirements.txt (line 2)) (0.13.3)\n",
      "Requirement already satisfied: setuptools>=18.5 in c:\\users\\wyang\\appdata\\local\\continuum\\anaconda3\\envs\\python36\\lib\\site-packages (from ipython>=4.0.0->ipywidgets==7.5.1->-r requirements.txt (line 2)) (41.0.1)\n",
      "Requirement already satisfied: backcall in c:\\users\\wyang\\appdata\\local\\continuum\\anaconda3\\envs\\python36\\lib\\site-packages (from ipython>=4.0.0->ipywidgets==7.5.1->-r requirements.txt (line 2)) (0.1.0)\n",
      "Requirement already satisfied: pygments in c:\\users\\wyang\\appdata\\local\\continuum\\anaconda3\\envs\\python36\\lib\\site-packages (from ipython>=4.0.0->ipywidgets==7.5.1->-r requirements.txt (line 2)) (2.4.2)\n",
      "Requirement already satisfied: parso>=0.3.0 in c:\\users\\wyang\\appdata\\local\\continuum\\anaconda3\\envs\\python36\\lib\\site-packages (from jedi>=0.10->ipython>=4.0.0->ipywidgets==7.5.1->-r requirements.txt (line 2)) (0.5.0)\n",
      "Requirement already satisfied: pywin32>=1.0 in c:\\users\\wyang\\appdata\\local\\continuum\\anaconda3\\envs\\python36\\lib\\site-packages (from jupyter-core>=4.6.1->notebook==6.1.1->-r requirements.txt (line 1)) (227)\n",
      "Requirement already satisfied: jsonschema!=2.5.0,>=2.4 in c:\\users\\wyang\\appdata\\local\\continuum\\anaconda3\\envs\\python36\\lib\\site-packages (from nbformat>=4.2.0->ipywidgets==7.5.1->-r requirements.txt (line 2)) (3.0.1)\n",
      "Requirement already satisfied: attrs>=17.4.0 in c:\\users\\wyang\\appdata\\local\\continuum\\anaconda3\\envs\\python36\\lib\\site-packages (from jsonschema!=2.5.0,>=2.4->nbformat>=4.2.0->ipywidgets==7.5.1->-r requirements.txt (line 2)) (19.1.0)\n",
      "Requirement already satisfied: pyrsistent>=0.14.0 in c:\\users\\wyang\\appdata\\local\\continuum\\anaconda3\\envs\\python36\\lib\\site-packages (from jsonschema!=2.5.0,>=2.4->nbformat>=4.2.0->ipywidgets==7.5.1->-r requirements.txt (line 2)) (0.14.11)\n",
      "Requirement already satisfied: wcwidth in c:\\users\\wyang\\appdata\\local\\continuum\\anaconda3\\envs\\python36\\lib\\site-packages (from prompt-toolkit<2.1.0,>=2.0.0->ipython>=4.0.0->ipywidgets==7.5.1->-r requirements.txt (line 2)) (0.1.7)\n",
      "Collecting pywinpty>=1.1.0\n",
      "  Downloading pywinpty-1.1.1-cp36-none-win_amd64.whl (1.4 MB)\n",
      "Requirement already satisfied: cffi>=1.0.0 in c:\\users\\wyang\\appdata\\local\\continuum\\anaconda3\\envs\\python36\\lib\\site-packages (from argon2-cffi->notebook==6.1.1->-r requirements.txt (line 1)) (1.12.3)\n",
      "Requirement already satisfied: pycparser in c:\\users\\wyang\\appdata\\local\\continuum\\anaconda3\\envs\\python36\\lib\\site-packages (from cffi>=1.0.0->argon2-cffi->notebook==6.1.1->-r requirements.txt (line 1)) (2.19)\n",
      "Requirement already satisfied: MarkupSafe>=0.23 in c:\\users\\wyang\\appdata\\local\\continuum\\anaconda3\\envs\\python36\\lib\\site-packages (from jinja2->notebook==6.1.1->-r requirements.txt (line 1)) (1.1.1)\n",
      "Requirement already satisfied: bleach in c:\\users\\wyang\\appdata\\local\\continuum\\anaconda3\\envs\\python36\\lib\\site-packages (from nbconvert->notebook==6.1.1->-r requirements.txt (line 1)) (1.5.0)\n",
      "Requirement already satisfied: mistune>=0.8.1 in c:\\users\\wyang\\appdata\\local\\continuum\\anaconda3\\envs\\python36\\lib\\site-packages (from nbconvert->notebook==6.1.1->-r requirements.txt (line 1)) (0.8.4)\n",
      "Requirement already satisfied: testpath in c:\\users\\wyang\\appdata\\local\\continuum\\anaconda3\\envs\\python36\\lib\\site-packages (from nbconvert->notebook==6.1.1->-r requirements.txt (line 1)) (0.4.2)\n",
      "Requirement already satisfied: defusedxml in c:\\users\\wyang\\appdata\\local\\continuum\\anaconda3\\envs\\python36\\lib\\site-packages (from nbconvert->notebook==6.1.1->-r requirements.txt (line 1)) (0.6.0)\n",
      "Requirement already satisfied: entrypoints>=0.2.2 in c:\\users\\wyang\\appdata\\local\\continuum\\anaconda3\\envs\\python36\\lib\\site-packages (from nbconvert->notebook==6.1.1->-r requirements.txt (line 1)) (0.3)\n",
      "Requirement already satisfied: pandocfilters>=1.4.1 in c:\\users\\wyang\\appdata\\local\\continuum\\anaconda3\\envs\\python36\\lib\\site-packages (from nbconvert->notebook==6.1.1->-r requirements.txt (line 1)) (1.4.2)\n",
      "Requirement already satisfied: html5lib!=0.9999,!=0.99999,<0.99999999,>=0.999 in c:\\users\\wyang\\appdata\\local\\continuum\\anaconda3\\envs\\python36\\lib\\site-packages (from bleach->nbconvert->notebook==6.1.1->-r requirements.txt (line 1)) (0.9999999)\n",
      "Installing collected packages: pywinpty, jupyter-client, terminado, argon2-cffi, tqdm, notebook, requests, scikit-learn, opencv-python, matplotlib\n",
      "  Attempting uninstall: pywinpty\n",
      "    Found existing installation: pywinpty 0.5.5\n",
      "    Uninstalling pywinpty-0.5.5:\n",
      "      Successfully uninstalled pywinpty-0.5.5\n",
      "  Attempting uninstall: jupyter-client\n",
      "    Found existing installation: jupyter-client 5.3.1\n",
      "    Uninstalling jupyter-client-5.3.1:\n",
      "      Successfully uninstalled jupyter-client-5.3.1\n",
      "  Attempting uninstall: terminado\n",
      "    Found existing installation: terminado 0.8.2\n",
      "  Running command git clone -q git://github.com/kschlegel/PSFDataset.git 'C:\\Users\\wyang\\AppData\\Local\\Temp\\pip-req-build-bdfnj32g'\n",
      "  Running command git rev-parse -q --verify 'sha^fc616da584aec841f2497bd03139318841d9ea73'\n",
      "  Running command git fetch -q git://github.com/kschlegel/PSFDataset.git fc616da584aec841f2497bd03139318841d9ea73\n",
      "  Running command git checkout -q fc616da584aec841f2497bd03139318841d9ea73\n",
      "  Running command git clone -q git://github.com/kschlegel/DatasetLoader.git 'C:\\Users\\wyang\\AppData\\Local\\Temp\\pip-req-build-1enkrteh'\n",
      "  Running command git rev-parse -q --verify 'sha^88587de554bf377874655e29aa1397d9ff348f49'\n",
      "  Running command git fetch -q git://github.com/kschlegel/DatasetLoader.git 88587de554bf377874655e29aa1397d9ff348f49\n",
      "  Running command git checkout -q 88587de554bf377874655e29aa1397d9ff348f49\n",
      "ERROR: Cannot uninstall 'terminado'. It is a distutils installed project and thus we cannot accurately determine which files belong to it which would lead to only a partial uninstall.\n",
      "WARNING: You are using pip version 21.0.1; however, version 21.1.1 is available.\n",
      "You should consider upgrading via the 'C:\\Users\\wyang\\AppData\\Local\\Continuum\\anaconda3\\envs\\python36\\python.exe -m pip install --upgrade pip' command.\n"
     ]
    }
   ],
   "source": [
    "import sys\n",
    "!{sys.executable} -m pip install -r requirements.txt"
   ]
  },
  {
   "cell_type": "markdown",
   "metadata": {},
   "source": [
    "For the learning we are going to use __[PyTorch](https://pytorch.org/)__. The correct version of PyTorch to install depends on your hardware, operating system and CUDA version, thus __it is recommended to install PyTorch manually__, following the [official instructions](https://pytorch.org/get-started/locally/).<br>\n",
    "This notebook was developped and tested using PyTorch version 1.5.0, instructions for installing this version can be found [here](https://pytorch.org/get-started/previous-versions/#v150).<br>\n",
    "If you don't want to install PyTorch manually you can try uncommenting the second line in the following cell and run it and the notebook will attempt to install PyTorch v1.5.0 for you, we cannot guarantee you will end up with the right version to match your system though."
   ]
  },
  {
   "cell_type": "code",
   "execution_count": null,
   "metadata": {},
   "outputs": [],
   "source": [
    "# Uncomment the following line to try to install torch via the extra requirements file (not recommended):\n",
    "# !{sys.executable} -m pip install -r requirements_torch.txt"
   ]
  },
  {
   "cell_type": "markdown",
   "metadata": {},
   "source": [
    "### Import Packages"
   ]
  },
  {
   "cell_type": "code",
   "execution_count": 1,
   "metadata": {},
   "outputs": [
    {
     "output_type": "stream",
     "name": "stdout",
     "text": [
      "Ignoring attempt to add_dll_directory.\n"
     ]
    }
   ],
   "source": [
    "import os.path\n",
    "import sys\n",
    "import zipfile\n",
    "\n",
    "from tqdm.notebook import tqdm, trange\n",
    "import numpy as np\n",
    "import matplotlib.pyplot as plt\n",
    "from sklearn.metrics import accuracy_score, confusion_matrix, ConfusionMatrixDisplay\n",
    "import torch\n",
    "\n",
    "from psfdataset import PSFDataset, transforms\n",
    "\n",
    "import pickle\n",
    "from sklearn.model_selection import StratifiedKFold\n",
    "from joblib import Parallel, delayed\n",
    "from pose_data_tools.preprocess import pre_normalization, get_data_duration"
   ]
  },
  {
   "cell_type": "markdown",
   "metadata": {},
   "source": [
    "## Download and Load the Dataset"
   ]
  },
  {
   "cell_type": "code",
   "execution_count": 2,
   "metadata": {},
   "outputs": [
    {
     "output_type": "stream",
     "name": "stdout",
     "text": [
      "(16718, 2, 305, 17, 2) (16718,) (16718,)\n"
     ]
    }
   ],
   "source": [
    "# load data\n",
    "\n",
    "def load_uav_data(dir_name, flag = 'train'):\n",
    "    data_uav = np.load(os.path.join(dir_name,'{}_process_data.npy'.format(flag)))#mmap_mode = None, 'r‘\n",
    "    N,C,T,V,M = data_uav.shape\n",
    "    #print(N,C,T,V,M)\n",
    "\n",
    "    with open(os.path.join(dir_name,'{}_process_label.pkl'.format(flag)), 'rb') as f:\n",
    "        sample_name, label_uav = pickle.load(f)\n",
    "    \n",
    "    label_uav = np.array(label_uav)\n",
    "\n",
    "    length_uav = np.load(os.path.join(dir_name,'{}_process_length.npy'.format(flag)))\n",
    "    #print(label_uav.shape)\n",
    "    return data_uav,label_uav,length_uav\n",
    "\n",
    "DATASET_PATH = \"C:\\\\Users\\\\wyang\\\\PycharmProjects\\\\data\\\\skeleton_action_recognition_train_split\"\n",
    "#\"./data/skeleton_action_recognition_train_split\"\n",
    "\n",
    "data_uav,label_uav,length_uav = load_uav_data(DATASET_PATH,'train')\n",
    "data_uav = data_uav[:,:2] # all the z values are zeros\n",
    "print(data_uav.shape,label_uav.shape,length_uav.shape)\n"
   ]
  },
  {
   "cell_type": "code",
   "execution_count": 3,
   "metadata": {},
   "outputs": [
    {
     "output_type": "stream",
     "name": "stdout",
     "text": [
      "Check data imbalance...\n[127. 127. 127. 126. 124. 126. 126. 126. 127. 125. 126. 125. 124. 124.\n 123. 125. 124. 127. 125. 125. 124. 124. 124. 125. 126. 125. 126. 124.\n 124. 126. 123. 125. 124. 126. 122. 123. 121. 121. 123. 121. 122. 123.\n 123. 120. 120. 120. 122. 122. 122. 120. 120. 120. 120. 119. 121. 121.\n 122. 118. 119. 120. 119. 119. 122. 122. 122. 120. 121. 120. 119. 118.\n 118. 118. 119. 119.  94.  94.  93.  94.  93.  94.  93.  93.  93.  93.\n  92.  93.  92.  93.  93.  92.  93.  93.  93.  93.  93.  93.  93.  93.\n  90. 110. 109. 109. 108. 107. 108. 107. 107. 107. 107. 104. 106. 106.\n 106. 106. 106. 106. 105. 105. 105. 105. 105. 101. 108.  87. 101. 109.\n 110. 106.  86. 122.  92.  85.  85.  87.  85.  85.  97.  97.  98.  99.\n  97.  98.  98. 100.  98.  97.  86.  20.  86.  98. 102.  95.  20.  20.\n  20.]\nAvg sample num:  107.85806451612903\nMax sample num:  127.0\nMin sample num:  20.0\nCreate 5-fold for cross validation...\n1 - fold: Trainset size:  13374  Valset size:  3344\n2 - fold: Trainset size:  13374  Valset size:  3344\n3 - fold: Trainset size:  13374  Valset size:  3344\n4 - fold: Trainset size:  13375  Valset size:  3343\n5 - fold: Trainset size:  13375  Valset size:  3343\n"
     ]
    }
   ],
   "source": [
    "class_num = 155\n",
    "cross_val_fold_num = 5\n",
    "\n",
    "print('Check data imbalance...')\n",
    "class_cnt = np.zeros(class_num)\n",
    "for l in label_uav:\n",
    "    class_cnt[l] += 1\n",
    "print(class_cnt)\n",
    "print('Avg sample num: ',class_cnt.mean())\n",
    "print('Max sample num: ',class_cnt.max())\n",
    "print('Min sample num: ',class_cnt.min())\n",
    "\n",
    "k_fold = StratifiedKFold(cross_val_fold_num)\n",
    "k_fold.get_n_splits(data_uav,label_uav)\n",
    "k_fold_idx_dict = dict()\n",
    "\n",
    "print('Create {}-fold for cross validation...'.format(cross_val_fold_num))\n",
    "for k, (train, val) in enumerate(k_fold.split(data_uav,label_uav)):\n",
    "    k_fold_idx_dict.update({str(k):{'train':train, 'val':val}})\n",
    "    print(k+1,'- fold:','Trainset size: ',len(train),' Valset size: ',len(val))\n"
   ]
  },
  {
   "cell_type": "markdown",
   "metadata": {},
   "source": [
    "## Path Signature Methodology\n",
    "You can see that in this dataset each person is represented by 15 landmarks in 2D. Thus the skeleton in an individual frame can be considered a point in $\\mathbb{R}^{15}\\times\\mathbb{R}^2\\simeq\\mathbb{R}^{30}$. We can then view a sequence of skeletons $x=(x_0,...,x_N)\\subset\\mathbb{R}^{30}$ from a video clip with $N+1$ frames as a discretisation of an underlying continuous path $P:[0,1]\\rightarrow\\mathbb{R}^{30}$, where each frames skeleton $x_i$ is a sample of the human motion at a time $t=\\frac{i}{N}\\in[0,1]$. Classifying the action now means making sense of this path.\n",
    "\n",
    "### The Path Signature\n",
    "The path signature is one of the central objects of the mathematical field of rough path theory. It is a powerful tool to efficiently and concisely describe a path like the continuous path $P:[0,1]\\rightarrow\\mathbb{R}^{30}$ above. The path signature describes the path independently of its time parametrisation but preserves the order in which things happen. Thus it is invariant to e.g. the sampling rate, a desirable property since a human action itself is invariant to the frame rate of the video recording or the speed at which the action was performed. Moreover, the signature is robust with respect to missing frames.\n",
    "\n",
    "The signature is defined as repeated integrals of the path $P$. If we denote the $d$ components of the path $P$ at time $t$ by $(X^1_t,\\ldots,X^d_t)$ (in our case $d=30$) then the first order integrals of the path $P$ are given by \n",
    "$${S(P)}^{i}=\\int\\limits_{0<s<1} d X_{s}^{i}=X_{1}^{i}-X_{0}^{i}$$\n",
    "for every $i\\in\\{1,\\ldots,d\\}$. Similarly the second order integrals are given by \n",
    "$${S(P)}^{i, j}=\\iint\\limits_{0<t_1<t_2<1} d X_{t_1}^{i} d X_{t_2}^{j}$$\n",
    "for every $i,j\\in\\{1,\\ldots,d\\}$. Repeating this process, for any integer $k\\geq1$ the repeated integral of order $k$ is given by\n",
    "$${S(P)}^{i_{1}, \\ldots, i_{k}}=\\idotsint\\limits_{0<t_{1}<\\cdots<t_{k}<1} d X_{t_{1}}^{i_{1}} \\ldots d X_{t_{k}}^{i_{k}}$$\n",
    "for every collection of indices $i_1,\\ldots,i_k\\in\\{1,\\ldots,d\\}$. The signature of the path $P$ is now given by the infinite sequence of all such repeated integrals\n",
    "$${S(P)}=\\left(1, {S(P)}^{1}, \\ldots, {S(P)}^{d}, {S(P)}^{1,1}, {S(P)}^{1,2}, \\ldots\\right)$$\n",
    "The number of integrations $k\\in\\mathbb{N}$ over the path $P$ is commonly referred to as the level of the signature. Each of the $k$ integrations is along one coordinate axis. The index set $i_1,\\ldots,i_k$ describes the set of coordinate axes and the order in which we perform these $k$ integrations. For a path in $d$ dimensions we have $d^k$ possible choices for this index set $i_1,\\ldots,i_k$ of integrations. This means the number of terms in the sequence $Sig(x)$ grows exponentially with the level $k$.\n",
    "\n",
    "Since the full signature is an infinite sequence of repeated integrals in practice we have to choose a finite truncation by computing the integrals only up to a finite level $N$, i.e. $0\\leq k\\leq N$ in above equation. This is referred to as the Signature of level $N$, denoted by $Sig^N(x)$. Since the number of integrals grows exponentially with each extra level commonly only few (less than 10) levels of the signature are computed.\n",
    "\n",
    "In practice, to compute the signature from a skeleton sequence $x=(x_0,...,x_N)\\subset\\mathbb{R}^{30}$ we assume the path $P$ to be the piecewise linear interpolation of the skeleton sequence, i.e. $P(\\frac{i}{N})=x_i$ for each $i\\in\\{0,\\ldots,N\\}$, and linear in between the sample points.\n",
    "\n",
    "Some more detail on the path signature can be found in our main reference, the paper by Yang et al., or in one of the following references:\n",
    "\n",
    "* I. Chevyrev and A. Kormilitzin, \"A Primer on the Signature Method in Machine Learning\", arXiv preprint arXiv:1603.03788, 2016, https://arxiv.org/pdf/1603.03788.pdf\n",
    "\n",
    "* T. Lyons, \"Rough paths, Signatures and the modelling of functions on streams\", In <i>Proceedings of the International Congress of Mathematicians: Seoul</i>, pp. 163‐184, 2014, (available on arXiv: https://arxiv.org/pdf/1405.4537.pdf)\n",
    "\n",
    "* T. Lyons, M. J. Caruana and T. Lévy, \"Differential Equations Driven by Rough Paths: Ecole d’Eté de Probabilités de Saint-Flour XXXIV-2004\", <i>Lecture Notes in Mathematics École d'Été de Probabilités de Saint-Flour</i>, Springer 2007, DOI https://doi.org/10.1007/978-3-540-71285-5"
   ]
  },
  {
   "cell_type": "markdown",
   "metadata": {},
   "source": [
    "### Path Transformations\n",
    "The full signature $Sig(x)$ determines the path essentially uniquely, but we only consider a finite truncation $Sig^N(x)$. The k-th term of the signature is of size $\\mathcal{O}(\\frac{1}{k!})$ so often this may not be an issue as the first $N$ levels of the signature contain the largest terms. But if the function we try to learn strongly depends on higher order terms of the signature then important information has been lost.\n",
    "In order tackle this problem a number of path transformations have been introduced which help to capture various important properties of a path in lower order terms of the signature. A description of the variety of the path transformations and their effects can be found in the above mentioned paper. We are going to describe the selection of path transformations we are using in this notebook and illustrate them with easy examples.\n",
    "\n",
    "0. **Crop & Normalize**\n",
    "\n",
    "    These are not path signature specific path transformations. As it is common in machine learning we crop and normalize the landmark coordinates to be within the interval $[-1,1]$ by cropping to the landmark bounding box, extending the shorter side symmetrically to a square box and then scaling the box down to the target interval.\n",
    "\n",
    "\n",
    "1. **Spatio-Temporal Path**\n",
    "\n",
    "    There are two kinds of path transformations, spatial and temporal transformations, which assume a different structure of the path.\n",
    "    \n",
    "    Transformations such as the crop and normalise above are spatial transformations, operating on the spatial coordinates at each individual time step not on a time series. Similarly it is possible to view a set of $n$ landmarks as $n$ samples of a path in $\\mathbb{R}^2$ and then take the signature of each of those spatial paths of length $n$. As an example, you could take all possible pairs of landmarks within one frames and consider each pair a path with 2 sample points. Thus spatial transformations expect a sequence of the form `[frame][landmark][coordinates]` to loop over the frames and process the spatial coordinates.\n",
    "    \n",
    "    Temporal transformations on the other hand operate on all or a subset of the spatial coordinates across time, some examples are presented below. For this reason they expect a sequence of the form `[element][frame][coordinates]` which is referred to as a spatio-temporal path. Thus after applying all spatial transformations we want to use we need to transform from a spatial path into a spatio-temporal path before proceeding with temporal transformations.\n",
    "    \n",
    "    \n",
    "2. **Multi-delayed transformation**\n",
    "\n",
    "    To better encode temporal dependencies one can use the multi-delayed transformation of the  path. For this the path is augmented with several delayed versions of itself so that at any point of the path the information of several timesteps is available. The individual copies of the path are zero-padded as required.\n",
    "    \n",
    "    As an example, the path $[[2,3],[4,6],[8,9]]$ with a delay of 1 turns into $[[[2,3],[0,0]],[[4,6],[2,3]],[[8,9],[4,6]],[[0,0],[8,9]]]$. (Note our implementation adds another dimension and outputs in a path in $\\mathbb{R}^{d+1}\\times\\mathbb{R}^n$ where $d$ is the delay and $n$ is the dimension of the original path.\n",
    "    \n",
    "    \n",
    "3. **Temporal disintegration into dyadic path signatures**\n",
    "\n",
    "    For long paths it can often be more efficient (comparable performance on a smaller feature set) to consider lower level terms of signatures on intermediate time intervals rather than higher order terms of the signature of the full path. An efficient way of doing this is to take signatures of a dyadic hierarchical structure. At each dyadic level we split the intervals of the previous level in half, i.e. level 0 contains the whole path, level 1 its two halves, level 2 the four quarters etc., as can be seen on the left in the diagram below. To avoid breaking events occurring near the splits into subintervals we can consider overlapping dyadic intervals, i.e. three halfs $[0,T/2]$, $[T/4,3T/4]$ and $[T/2,T]$ on level 1, 7 quarters $[0,T/4],[T/8,3T/8],...,[3T/4,T]$ etc., as can be seen on the right in the diagram below.\n",
    "    \n",
    "    ![Visualisation of (overlapping) dyadic intervals](dyadic_intervals.png)\n",
    "    \n",
    "    To illustrate this point in our reference paper Yang et al. state that they observed better performance for taking signatures of level 2 over a overlapping dyadic hierarchy up to level 2 (i.e. the whole interval, halves and quarters) than taking signatures of level 5 of the whole time interval. Since the size of the truncated signature grows exponentially with the level, taking signatures of 1 full + 3 half + 7 quarter = 11 pieces of level 2 results in a considerably smaller feature set than a level 5 signature of the whole sequence."
   ]
  },
  {
   "cell_type": "code",
   "execution_count": 7,
   "metadata": {},
   "outputs": [],
   "source": [
    "tr = transforms.Compose([\n",
    "    #transforms.spatial.Crop(),\n",
    "    #transforms.spatial.Normalize(),\n",
    "    transforms.spatial.Tuples(2),\n",
    "    transforms.SpatioTemporalPath(),\n",
    "    transforms.temporal.MultiDelayedTransformation(2),\n",
    "    transforms.temporal.DyadicPathSignatures(dyadic_levels=2,\n",
    "                                             signature_level=4,\n",
    "                                             overlapping=True)\n",
    "])"
   ]
  },
  {
   "cell_type": "markdown",
   "metadata": {},
   "source": [
    "### Generate the Path Signature Feature Set"
   ]
  },
  {
   "cell_type": "code",
   "execution_count": 9,
   "metadata": {},
   "outputs": [],
   "source": [
    "def get_iter(data,label,length): \n",
    "    \"\"\"\n",
    "    Returns iterators over the data.\n",
    "    \"\"\"\n",
    "    it = []\n",
    "    for d,lab,l in zip(data, label, length):\n",
    "        it += [(d[:l],lab)]\n",
    "        \n",
    "    return iter(it)\n",
    "\n",
    "\n",
    "def featureNormalize(feaset, valfeaset):\n",
    "    feaset = np.stack(feaset)\n",
    "    valfeaset = np.stack(valfeaset)\n",
    "    shape = feaset.shape\n",
    "    feaset = feaset.reshape(shape[0],-1)\n",
    "    norm_factors = np.fabs(feaset).max(0,keepdims = True)\n",
    "    zero_factors = (norm_factors == 0)\n",
    "    norm_factors += np.array(zero_factors, dtype = np.float32)\n",
    "    norm_factors = 1.0 / norm_factors\n",
    "    norm_factors = norm_factors.reshape(1,-1)\n",
    "    feaset = feaset * norm_factors\n",
    "    feaset = feaset.reshape(shape)\n",
    "\n",
    "    val_shape = valfeaset.shape\n",
    "    valfeaset = (valfeaset.reshape(val_shape[0],-1) * norm_factors).reshape(val_shape)\n",
    "    return feaset, valfeaset\n"
   ]
  },
  {
   "cell_type": "code",
   "execution_count": 11,
   "metadata": {},
   "outputs": [
    {
     "output_type": "stream",
     "name": "stderr",
     "text": [
      "2it [00:00, 18.66it/s](16718, 305, 17, 2)\n",
      "(1338, 305, 17, 2)\n",
      "(335, 305, 17, 2)\n",
      "Feature extraction...\n",
      "1338it [01:03, 20.92it/s]\n",
      "335it [00:17, 19.37it/s]\n",
      "Zero Norm Factor warning:  68 (array([0, 0, 0, 0, 0, 0, 0, 0, 0, 0, 0, 0, 0, 0, 0, 0, 0, 0, 0, 0, 0, 0,\n",
      "       0, 0, 0, 0, 0, 0, 0, 0, 0, 0, 0, 0, 0, 0, 0, 0, 0, 0, 0, 0, 0, 0,\n",
      "       0, 0, 0, 0, 0, 0, 0, 0, 0, 0, 0, 0, 0, 0, 0, 0, 0, 0, 0, 0, 0, 0,\n",
      "       0, 0], dtype=int64), array([  2,   8,  15,  21,  28,  34,  41,  47,  54,  60,  67,  73,  80,\n",
      "        86,  93,  99, 106, 112, 119, 125, 132, 138, 145, 151, 158, 164,\n",
      "       171, 177, 184, 190, 197, 203, 210, 216, 223, 229, 236, 242, 249,\n",
      "       255, 262, 268, 275, 281, 288, 294, 301, 307, 314, 320, 327, 333,\n",
      "       340, 346, 353, 359, 366, 372, 379, 385, 392, 398, 405, 411, 418,\n",
      "       424, 431, 437], dtype=int64))\n",
      "569.9500542818968\n",
      "Number of trainingset elements: 1338\n",
      "Number of testset elements 335\n",
      "Dimension of feature vector: 442\n"
     ]
    }
   ],
   "source": [
    "isLoadFeature = False\n",
    "\n",
    "data = np.transpose(data_uav,(0,2,4,3,1))[:,:,0:1,...] #to (N,T,M,V,C)\n",
    "data = data.reshape(*data.shape[:2], -1, *data.shape[4:])\n",
    "print(data.shape)\n",
    "\n",
    "fold_idx = 0\n",
    "train_index = k_fold_idx_dict[str(fold_idx)]['train'][::10]\n",
    "val_index = k_fold_idx_dict[str(fold_idx)]['val'][::10]\n",
    "\n",
    "train_data = data[train_index]\n",
    "print(train_data.shape)\n",
    "train_label = label_uav[train_index]\n",
    "train_length = length_uav[train_index]\n",
    "\n",
    "val_data = data[val_index]\n",
    "print(val_data.shape)\n",
    "val_label = label_uav[val_index]\n",
    "val_length = length_uav[val_index]\n",
    "\n",
    "\n",
    "trainingset = PSFDataset(transform=tr)\n",
    "valset = PSFDataset(transform=tr)\n",
    "\n",
    "\n",
    "if isLoadFeature:\n",
    "    trainingset.load(\"uav_train\")\n",
    "    valset.load(\"uav_test\")\n",
    "else:\n",
    "    print('Feature extraction...')\n",
    "    trainingset.fill_from_iterator(get_iter(train_data, train_label, length_uav))\n",
    "    valset.fill_from_iterator(get_iter(val_data, val_label, length_uav))\n",
    "    \n",
    "    trainingset.save(\"uav_train\")\n",
    "    valset.save(\"uav_test\")\n",
    "\n",
    "trainingset._data, valset._data = featureNormalize(trainingset._data, valset._data)\n",
    "\n",
    "print(\"Number of trainingset elements:\", len(trainingset))\n",
    "print(\"Number of testset elements\", len(valset))\n",
    "print(\"Dimension of feature vector:\", trainingset.get_data_dimension())"
   ]
  },
  {
   "cell_type": "markdown",
   "metadata": {},
   "source": [
    "## Learn an action classifier"
   ]
  },
  {
   "cell_type": "markdown",
   "metadata": {},
   "source": [
    "### Setup PyTorch\n",
    "Set random seed:"
   ]
  },
  {
   "cell_type": "code",
   "execution_count": 12,
   "metadata": {},
   "outputs": [],
   "source": [
    "torch.manual_seed(0)\n",
    "if torch.cuda.is_available():\n",
    "    torch.cuda.manual_seed_all(0)"
   ]
  },
  {
   "cell_type": "markdown",
   "metadata": {},
   "source": [
    "Train on GPU if available:"
   ]
  },
  {
   "cell_type": "code",
   "execution_count": 13,
   "metadata": {},
   "outputs": [
    {
     "output_type": "stream",
     "name": "stdout",
     "text": [
      "Device: cuda:0\n"
     ]
    }
   ],
   "source": [
    "device = torch.device(\"cuda:0\" if torch.cuda.is_available() else \"cpu\")\n",
    "#device = torch.device(\"cpu\")\n",
    "print(\"Device:\", device)"
   ]
  },
  {
   "cell_type": "markdown",
   "metadata": {},
   "source": [
    "### Define the Learning Framework\n",
    "#### The Signature is a Universal Approximator - Learn a Linear Model\n",
    "The aim of the path signature methodology is not to replace deep learning or any other machine learning techniques but to complement them. The signature can be thought of as a <b>\"universal nonlinearity\"</b>, every continuous function of a\n",
    "path may be approximated arbitrarily well by a linear function of its signature. This is clearly a very desirable property, mathematical details and proofs can be found in the papers referenced in the section introducing the path signature.\n",
    "\n",
    "The universality of the signature and the various path transformations allow us to learn a simple _linear function_ on top of our path signature feature set to do the classification and achieve strong results. For research exploring using the path signature transform in combination with deep learning consider e.g. the following papers and the references therein:\n",
    "* P. Kidger, P. Bonnier, I. Perez Arribas, C. Salvi and T. Lyons, \"Deep Signature Transforms\", In <i>Advances in Neural Information Processing Systems 32</i>, pp. 3105-3115, 2019, http://papers.nips.cc/paper/8574-deep-signature-transforms.pdf\n",
    "* S. Liao, T. Lyons, W. Yang and H. Ni, \"Learning stochastic differential equations using RNN with log signature features\",  arXiv preprint arXiv:1908.08286, 2019, https://arxiv.org/abs/1908.08286\n",
    "\n",
    "In this notebook we are not using any deep learning, but learn a <i>linear classifier</i>. This has the advantages that it is easy to train and leads to an interpretable classifier. To determine which features are most important for the classifiers decision we only need to find the largest activations of the linear map. The paper cited above does this for their final, most complex feature set and identifies which combinations of joints, and which time intervals are most relevant for the classifiers decisions."
   ]
  },
  {
   "cell_type": "code",
   "execution_count": 14,
   "metadata": {},
   "outputs": [
    {
     "output_type": "execute_result",
     "data": {
      "text/plain": [
       "LinearClassifierNet(\n",
       "  (linear1): Linear(in_features=442, out_features=256, bias=True)\n",
       "  (dropout1): Dropout(p=0.5, inplace=False)\n",
       "  (output): Linear(in_features=256, out_features=155, bias=True)\n",
       ")"
      ]
     },
     "metadata": {},
     "execution_count": 14
    }
   ],
   "source": [
    "class LinearClassifierNet(torch.nn.Module):\n",
    "    def __init__(self, input_dim, output_dim):\n",
    "        torch.nn.Module.__init__(self)\n",
    "        intermedia_dim = 256\n",
    "        self.linear1 = torch.nn.Linear(input_dim, intermedia_dim)\n",
    "        self.dropout1 = torch.nn.Dropout(0.5)\n",
    "        self.output = torch.nn.Linear(intermedia_dim, output_dim)\n",
    "\n",
    "    def forward(self, x):\n",
    "        x = self.linear1(x)\n",
    "        x = self.dropout1(x)\n",
    "        x = self.output(x)\n",
    "        return x\n",
    "\n",
    "model = LinearClassifierNet(input_dim=trainingset.get_data_dimension(),\n",
    "                            output_dim=class_num)\n",
    "model.to(device=device, dtype=torch.double)"
   ]
  },
  {
   "cell_type": "markdown",
   "metadata": {},
   "source": [
    "#### Set the hyperparameters"
   ]
  },
  {
   "cell_type": "code",
   "execution_count": 15,
   "metadata": {},
   "outputs": [],
   "source": [
    "BATCH_SIZE = 20\n",
    "LR = 0.001\n",
    "EPOCHS = 100"
   ]
  },
  {
   "cell_type": "markdown",
   "metadata": {},
   "source": [
    "#### Create the Loss & Optimizer\n",
    "We train using the popular ADAM optimizer and the Cross Entropy loss which is standard for multi-class classification tasks."
   ]
  },
  {
   "cell_type": "code",
   "execution_count": 16,
   "metadata": {},
   "outputs": [],
   "source": [
    "loss_fn = torch.nn.CrossEntropyLoss()\n",
    "optimizer = torch.optim.Adam(model.parameters(), lr=LR)"
   ]
  },
  {
   "cell_type": "markdown",
   "metadata": {},
   "source": [
    "#### Create PyTorch DataLoaders"
   ]
  },
  {
   "cell_type": "code",
   "execution_count": 17,
   "metadata": {},
   "outputs": [],
   "source": [
    "training_loader = torch.utils.data.DataLoader(trainingset,\n",
    "                                              batch_size=BATCH_SIZE,\n",
    "                                              shuffle=True,\n",
    "                                              num_workers=2)\n",
    "test_loader = torch.utils.data.DataLoader(valset,\n",
    "                                          batch_size=1,\n",
    "                                          shuffle=False,\n",
    "                                          num_workers=1)"
   ]
  },
  {
   "cell_type": "markdown",
   "metadata": {},
   "source": [
    "### Train the Model\n",
    "Define standard functions to perform one epoch of training on the training data and to test the network on the test data."
   ]
  },
  {
   "cell_type": "code",
   "execution_count": 18,
   "metadata": {},
   "outputs": [],
   "source": [
    "def train_network(epoch):\n",
    "    model.train()\n",
    "    cumulated_loss = 0.0\n",
    "    #alpha = 0.00001\n",
    "    for i, data in tqdm(enumerate(training_loader), desc=\"Epoch \" + str(epoch), leave=False):\n",
    "        inputs, labels = data[0].to(device), data[1].to(device, dtype=torch.long)\n",
    "        optimizer.zero_grad()\n",
    "        outputs = model(inputs)\n",
    "        #regularization_loss = 0\n",
    "        #for param in model.parameters(): regularization_loss += torch.sum(torch.abs(param))\n",
    "        loss = loss_fn(outputs, labels)# + alpha * regularization_loss\n",
    "        loss.backward()\n",
    "        optimizer.step()\n",
    "        cumulated_loss += loss.item()\n",
    "    return (cumulated_loss / len(training_loader))\n",
    "\n",
    "def test_network():\n",
    "    cumulated_outputs = np.array([])\n",
    "    cumulated_loss = 0.0\n",
    "    model.eval()\n",
    "    with torch.no_grad():\n",
    "        for data in test_loader:\n",
    "            inputs, labels = data[0].to(device), data[1].to(device, dtype=torch.long)\n",
    "            outputs = model(inputs)\n",
    "            loss = loss_fn(outputs, labels)\n",
    "            cumulated_loss += loss.item()\n",
    "\n",
    "            outputs = torch.argmax(torch.softmax(outputs, dim=1), dim=1)\n",
    "            cumulated_outputs = np.concatenate((cumulated_outputs, outputs.cpu().numpy()), axis=None)\n",
    "        test_loss = cumulated_loss / len(test_loader)\n",
    "        return test_loss, cumulated_outputs"
   ]
  },
  {
   "cell_type": "code",
   "execution_count": 19,
   "metadata": {},
   "outputs": [
    {
     "output_type": "stream",
     "name": "stdout",
     "text": [
      "Initial accuracy: 0.0029850746268656717\n"
     ]
    },
    {
     "output_type": "display_data",
     "data": {
      "text/plain": "HBox(children=(FloatProgress(value=0.0, description='Training', style=ProgressStyle(description_width='initial…",
      "application/vnd.jupyter.widget-view+json": {
       "version_major": 2,
       "version_minor": 0,
       "model_id": "a1592b462ed24211a661ee9b3ee131f0"
      }
     },
     "metadata": {}
    },
    {
     "output_type": "display_data",
     "data": {
      "text/plain": "HBox(children=(FloatProgress(value=1.0, bar_style='info', description='Epoch 0', layout=Layout(width='20px'), …",
      "application/vnd.jupyter.widget-view+json": {
       "version_major": 2,
       "version_minor": 0,
       "model_id": "15493597958c441da18574b0069f01a2"
      }
     },
     "metadata": {}
    },
    {
     "output_type": "stream",
     "name": "stdout",
     "text": [
      "epoch: 1 \ttrain_loss: 5.084025074975926 \ttest_loss: 5.07125664784386 \tAccuracy: 0.008955223880597015\n"
     ]
    },
    {
     "output_type": "display_data",
     "data": {
      "text/plain": "HBox(children=(FloatProgress(value=1.0, bar_style='info', description='Epoch 1', layout=Layout(width='20px'), …",
      "application/vnd.jupyter.widget-view+json": {
       "version_major": 2,
       "version_minor": 0,
       "model_id": "f08b67fc0e444d74806c5c77b05cfba1"
      }
     },
     "metadata": {}
    },
    {
     "output_type": "stream",
     "name": "stdout",
     "text": [
      "epoch: 2 \ttrain_loss: 4.952421886591417 \ttest_loss: 4.954849757627529 \tAccuracy: 0.008955223880597015\n"
     ]
    },
    {
     "output_type": "display_data",
     "data": {
      "text/plain": "HBox(children=(FloatProgress(value=1.0, bar_style='info', description='Epoch 2', layout=Layout(width='20px'), …",
      "application/vnd.jupyter.widget-view+json": {
       "version_major": 2,
       "version_minor": 0,
       "model_id": "bae85617ad1a401f8214172323ecad48"
      }
     },
     "metadata": {}
    },
    {
     "output_type": "stream",
     "name": "stdout",
     "text": [
      "epoch: 3 \ttrain_loss: 4.832496400877995 \ttest_loss: 4.909464163747052 \tAccuracy: 0.03880597014925373\n"
     ]
    },
    {
     "output_type": "display_data",
     "data": {
      "text/plain": "HBox(children=(FloatProgress(value=1.0, bar_style='info', description='Epoch 3', layout=Layout(width='20px'), …",
      "application/vnd.jupyter.widget-view+json": {
       "version_major": 2,
       "version_minor": 0,
       "model_id": "3e3f7c8826c947dab9b49e19ef1f6faf"
      }
     },
     "metadata": {}
    },
    {
     "output_type": "stream",
     "name": "stdout",
     "text": [
      "epoch: 4 \ttrain_loss: 4.736012596176108 \ttest_loss: 4.85110435024258 \tAccuracy: 0.026865671641791045\n"
     ]
    },
    {
     "output_type": "display_data",
     "data": {
      "text/plain": "HBox(children=(FloatProgress(value=1.0, bar_style='info', description='Epoch 4', layout=Layout(width='20px'), …",
      "application/vnd.jupyter.widget-view+json": {
       "version_major": 2,
       "version_minor": 0,
       "model_id": "3c9f4fa030d64849bb89039e8d00daa1"
      }
     },
     "metadata": {}
    },
    {
     "output_type": "stream",
     "name": "stdout",
     "text": [
      "epoch: 5 \ttrain_loss: 4.66212129861131 \ttest_loss: 4.789155037040198 \tAccuracy: 0.041791044776119404\n"
     ]
    },
    {
     "output_type": "display_data",
     "data": {
      "text/plain": "HBox(children=(FloatProgress(value=1.0, bar_style='info', description='Epoch 5', layout=Layout(width='20px'), …",
      "application/vnd.jupyter.widget-view+json": {
       "version_major": 2,
       "version_minor": 0,
       "model_id": "356edd903dd844a581a8d8150c5fa0cb"
      }
     },
     "metadata": {}
    },
    {
     "output_type": "stream",
     "name": "stdout",
     "text": [
      "epoch: 6 \ttrain_loss: 4.602908042006628 \ttest_loss: 4.713855370999884 \tAccuracy: 0.04477611940298507\n"
     ]
    },
    {
     "output_type": "display_data",
     "data": {
      "text/plain": "HBox(children=(FloatProgress(value=1.0, bar_style='info', description='Epoch 6', layout=Layout(width='20px'), …",
      "application/vnd.jupyter.widget-view+json": {
       "version_major": 2,
       "version_minor": 0,
       "model_id": "3f259083589941d5b70dfaec3391a1a4"
      }
     },
     "metadata": {}
    },
    {
     "output_type": "stream",
     "name": "stdout",
     "text": [
      "epoch: 7 \ttrain_loss: 4.51012554325498 \ttest_loss: 4.714510504225882 \tAccuracy: 0.03880597014925373\n"
     ]
    },
    {
     "output_type": "display_data",
     "data": {
      "text/plain": "HBox(children=(FloatProgress(value=1.0, bar_style='info', description='Epoch 7', layout=Layout(width='20px'), …",
      "application/vnd.jupyter.widget-view+json": {
       "version_major": 2,
       "version_minor": 0,
       "model_id": "8b52262f47594703b05e3c70a28c2bd6"
      }
     },
     "metadata": {}
    },
    {
     "output_type": "stream",
     "name": "stdout",
     "text": [
      "epoch: 8 \ttrain_loss: 4.440037239701638 \ttest_loss: 4.63819627417556 \tAccuracy: 0.0626865671641791\n"
     ]
    },
    {
     "output_type": "display_data",
     "data": {
      "text/plain": "HBox(children=(FloatProgress(value=1.0, bar_style='info', description='Epoch 8', layout=Layout(width='20px'), …",
      "application/vnd.jupyter.widget-view+json": {
       "version_major": 2,
       "version_minor": 0,
       "model_id": "fd1cc6b5f8ac4a0ea091fe08a2f683b4"
      }
     },
     "metadata": {}
    },
    {
     "output_type": "stream",
     "name": "stdout",
     "text": [
      "epoch: 9 \ttrain_loss: 4.376661525629727 \ttest_loss: 4.576368493353443 \tAccuracy: 0.050746268656716415\n"
     ]
    },
    {
     "output_type": "display_data",
     "data": {
      "text/plain": "HBox(children=(FloatProgress(value=1.0, bar_style='info', description='Epoch 9', layout=Layout(width='20px'), …",
      "application/vnd.jupyter.widget-view+json": {
       "version_major": 2,
       "version_minor": 0,
       "model_id": "e5eac84bb9fb4bd3875a07887aef0049"
      }
     },
     "metadata": {}
    },
    {
     "output_type": "stream",
     "name": "stdout",
     "text": [
      "epoch: 10 \ttrain_loss: 4.318430321539403 \ttest_loss: 4.609728584761864 \tAccuracy: 0.03283582089552239\n"
     ]
    },
    {
     "output_type": "display_data",
     "data": {
      "text/plain": "HBox(children=(FloatProgress(value=1.0, bar_style='info', description='Epoch 10', layout=Layout(width='20px'),…",
      "application/vnd.jupyter.widget-view+json": {
       "version_major": 2,
       "version_minor": 0,
       "model_id": "1a82e1fd1ebf4648b2392019c745fa51"
      }
     },
     "metadata": {}
    },
    {
     "output_type": "stream",
     "name": "stdout",
     "text": [
      "epoch: 11 \ttrain_loss: 4.226034270567585 \ttest_loss: 4.518322221625484 \tAccuracy: 0.03880597014925373\n"
     ]
    },
    {
     "output_type": "display_data",
     "data": {
      "text/plain": "HBox(children=(FloatProgress(value=1.0, bar_style='info', description='Epoch 11', layout=Layout(width='20px'),…",
      "application/vnd.jupyter.widget-view+json": {
       "version_major": 2,
       "version_minor": 0,
       "model_id": "f13e4247a7894e1bb00a6cc7669c19d9"
      }
     },
     "metadata": {}
    },
    {
     "output_type": "stream",
     "name": "stdout",
     "text": [
      "epoch: 12 \ttrain_loss: 4.176508022010618 \ttest_loss: 4.4906643494594345 \tAccuracy: 0.05373134328358209\n"
     ]
    },
    {
     "output_type": "display_data",
     "data": {
      "text/plain": "HBox(children=(FloatProgress(value=1.0, bar_style='info', description='Epoch 12', layout=Layout(width='20px'),…",
      "application/vnd.jupyter.widget-view+json": {
       "version_major": 2,
       "version_minor": 0,
       "model_id": "5fe664cba20648b6af99f8cff7c1a284"
      }
     },
     "metadata": {}
    },
    {
     "output_type": "stream",
     "name": "stdout",
     "text": [
      "epoch: 13 \ttrain_loss: 4.084160706891935 \ttest_loss: 4.529879394535604 \tAccuracy: 0.05373134328358209\n"
     ]
    },
    {
     "output_type": "display_data",
     "data": {
      "text/plain": "HBox(children=(FloatProgress(value=1.0, bar_style='info', description='Epoch 13', layout=Layout(width='20px'),…",
      "application/vnd.jupyter.widget-view+json": {
       "version_major": 2,
       "version_minor": 0,
       "model_id": "9e2ddda647204ef9bcbf73d33409ba7d"
      }
     },
     "metadata": {}
    },
    {
     "output_type": "stream",
     "name": "stdout",
     "text": [
      "epoch: 14 \ttrain_loss: 4.031375146179624 \ttest_loss: 4.4638834407996155 \tAccuracy: 0.0626865671641791\n"
     ]
    },
    {
     "output_type": "display_data",
     "data": {
      "text/plain": "HBox(children=(FloatProgress(value=1.0, bar_style='info', description='Epoch 14', layout=Layout(width='20px'),…",
      "application/vnd.jupyter.widget-view+json": {
       "version_major": 2,
       "version_minor": 0,
       "model_id": "8620cf6c200145ccb1c4490b10f6377b"
      }
     },
     "metadata": {}
    },
    {
     "output_type": "stream",
     "name": "stdout",
     "text": [
      "epoch: 15 \ttrain_loss: 3.969659385963086 \ttest_loss: 4.401389146461159 \tAccuracy: 0.08059701492537313\n"
     ]
    },
    {
     "output_type": "display_data",
     "data": {
      "text/plain": "HBox(children=(FloatProgress(value=1.0, bar_style='info', description='Epoch 15', layout=Layout(width='20px'),…",
      "application/vnd.jupyter.widget-view+json": {
       "version_major": 2,
       "version_minor": 0,
       "model_id": "c2b24c438c11486b8a6f12fee9db7f86"
      }
     },
     "metadata": {}
    },
    {
     "output_type": "stream",
     "name": "stdout",
     "text": [
      "epoch: 16 \ttrain_loss: 3.9090621509352017 \ttest_loss: 4.350220044035396 \tAccuracy: 0.07761194029850746\n"
     ]
    },
    {
     "output_type": "display_data",
     "data": {
      "text/plain": "HBox(children=(FloatProgress(value=1.0, bar_style='info', description='Epoch 16', layout=Layout(width='20px'),…",
      "application/vnd.jupyter.widget-view+json": {
       "version_major": 2,
       "version_minor": 0,
       "model_id": "340e1ebfdd174072aebcad2fe1db7f19"
      }
     },
     "metadata": {}
    },
    {
     "output_type": "stream",
     "name": "stdout",
     "text": [
      "epoch: 17 \ttrain_loss: 3.834724545547043 \ttest_loss: 4.363057382423546 \tAccuracy: 0.08358208955223881\n"
     ]
    },
    {
     "output_type": "display_data",
     "data": {
      "text/plain": "HBox(children=(FloatProgress(value=1.0, bar_style='info', description='Epoch 17', layout=Layout(width='20px'),…",
      "application/vnd.jupyter.widget-view+json": {
       "version_major": 2,
       "version_minor": 0,
       "model_id": "f8cfef76d8984cd0bc4e84c69861020d"
      }
     },
     "metadata": {}
    },
    {
     "output_type": "stream",
     "name": "stdout",
     "text": [
      "epoch: 18 \ttrain_loss: 3.7986924425353976 \ttest_loss: 4.304057042224084 \tAccuracy: 0.10746268656716418\n"
     ]
    },
    {
     "output_type": "display_data",
     "data": {
      "text/plain": "HBox(children=(FloatProgress(value=1.0, bar_style='info', description='Epoch 18', layout=Layout(width='20px'),…",
      "application/vnd.jupyter.widget-view+json": {
       "version_major": 2,
       "version_minor": 0,
       "model_id": "6e9c1f688acc4e73b6d527854309febb"
      }
     },
     "metadata": {}
    },
    {
     "output_type": "stream",
     "name": "stdout",
     "text": [
      "epoch: 19 \ttrain_loss: 3.772712623833875 \ttest_loss: 4.369851535220159 \tAccuracy: 0.06865671641791045\n"
     ]
    },
    {
     "output_type": "display_data",
     "data": {
      "text/plain": "HBox(children=(FloatProgress(value=1.0, bar_style='info', description='Epoch 19', layout=Layout(width='20px'),…",
      "application/vnd.jupyter.widget-view+json": {
       "version_major": 2,
       "version_minor": 0,
       "model_id": "d9b330fc60a64f9b82b953c15e7f92ce"
      }
     },
     "metadata": {}
    },
    {
     "output_type": "stream",
     "name": "stdout",
     "text": [
      "epoch: 20 \ttrain_loss: 3.7095488339102674 \ttest_loss: 4.278102067156948 \tAccuracy: 0.09850746268656717\n"
     ]
    },
    {
     "output_type": "display_data",
     "data": {
      "text/plain": "HBox(children=(FloatProgress(value=1.0, bar_style='info', description='Epoch 20', layout=Layout(width='20px'),…",
      "application/vnd.jupyter.widget-view+json": {
       "version_major": 2,
       "version_minor": 0,
       "model_id": "2d1cc0dd339440b89f8a3d3701ec297c"
      }
     },
     "metadata": {}
    },
    {
     "output_type": "stream",
     "name": "stdout",
     "text": [
      "epoch: 21 \ttrain_loss: 3.651228857260113 \ttest_loss: 4.310459763520632 \tAccuracy: 0.08656716417910448\n"
     ]
    },
    {
     "output_type": "display_data",
     "data": {
      "text/plain": "HBox(children=(FloatProgress(value=1.0, bar_style='info', description='Epoch 21', layout=Layout(width='20px'),…",
      "application/vnd.jupyter.widget-view+json": {
       "version_major": 2,
       "version_minor": 0,
       "model_id": "e28cf44180994c93bc833826f7db78e9"
      }
     },
     "metadata": {}
    },
    {
     "output_type": "stream",
     "name": "stdout",
     "text": [
      "epoch: 22 \ttrain_loss: 3.603262102803682 \ttest_loss: 4.271343187282519 \tAccuracy: 0.1044776119402985\n"
     ]
    },
    {
     "output_type": "display_data",
     "data": {
      "text/plain": "HBox(children=(FloatProgress(value=1.0, bar_style='info', description='Epoch 22', layout=Layout(width='20px'),…",
      "application/vnd.jupyter.widget-view+json": {
       "version_major": 2,
       "version_minor": 0,
       "model_id": "10d80fecf19749d89290f795c4383fcd"
      }
     },
     "metadata": {}
    },
    {
     "output_type": "stream",
     "name": "stdout",
     "text": [
      "epoch: 23 \ttrain_loss: 3.575268412642519 \ttest_loss: 4.262183092382778 \tAccuracy: 0.08358208955223881\n"
     ]
    },
    {
     "output_type": "display_data",
     "data": {
      "text/plain": "HBox(children=(FloatProgress(value=1.0, bar_style='info', description='Epoch 23', layout=Layout(width='20px'),…",
      "application/vnd.jupyter.widget-view+json": {
       "version_major": 2,
       "version_minor": 0,
       "model_id": "98a3729353fc472194c40fe29881e818"
      }
     },
     "metadata": {}
    },
    {
     "output_type": "stream",
     "name": "stdout",
     "text": [
      "epoch: 24 \ttrain_loss: 3.541631130531438 \ttest_loss: 4.320798963904677 \tAccuracy: 0.08358208955223881\n"
     ]
    },
    {
     "output_type": "display_data",
     "data": {
      "text/plain": "HBox(children=(FloatProgress(value=1.0, bar_style='info', description='Epoch 24', layout=Layout(width='20px'),…",
      "application/vnd.jupyter.widget-view+json": {
       "version_major": 2,
       "version_minor": 0,
       "model_id": "080af8d261294cb3b0402586413e1434"
      }
     },
     "metadata": {}
    },
    {
     "output_type": "stream",
     "name": "stdout",
     "text": [
      "epoch: 25 \ttrain_loss: 3.5000688438691414 \ttest_loss: 4.232942930051544 \tAccuracy: 0.08656716417910448\n"
     ]
    },
    {
     "output_type": "display_data",
     "data": {
      "text/plain": "HBox(children=(FloatProgress(value=1.0, bar_style='info', description='Epoch 25', layout=Layout(width='20px'),…",
      "application/vnd.jupyter.widget-view+json": {
       "version_major": 2,
       "version_minor": 0,
       "model_id": "c768ea1ce21346a2b301f8798b28b8e5"
      }
     },
     "metadata": {}
    },
    {
     "output_type": "stream",
     "name": "stdout",
     "text": [
      "epoch: 26 \ttrain_loss: 3.4592699730465664 \ttest_loss: 4.250255125362352 \tAccuracy: 0.1044776119402985\n"
     ]
    },
    {
     "output_type": "display_data",
     "data": {
      "text/plain": "HBox(children=(FloatProgress(value=1.0, bar_style='info', description='Epoch 26', layout=Layout(width='20px'),…",
      "application/vnd.jupyter.widget-view+json": {
       "version_major": 2,
       "version_minor": 0,
       "model_id": "6029e69eaeeb44099075a3cfa6c65e46"
      }
     },
     "metadata": {}
    },
    {
     "output_type": "stream",
     "name": "stdout",
     "text": [
      "epoch: 27 \ttrain_loss: 3.4300277354259765 \ttest_loss: 4.275397798292094 \tAccuracy: 0.10746268656716418\n"
     ]
    },
    {
     "output_type": "display_data",
     "data": {
      "text/plain": "HBox(children=(FloatProgress(value=1.0, bar_style='info', description='Epoch 27', layout=Layout(width='20px'),…",
      "application/vnd.jupyter.widget-view+json": {
       "version_major": 2,
       "version_minor": 0,
       "model_id": "3c21aacc5bf841ef84665e620e500f6e"
      }
     },
     "metadata": {}
    },
    {
     "output_type": "stream",
     "name": "stdout",
     "text": [
      "epoch: 28 \ttrain_loss: 3.399033968101323 \ttest_loss: 4.201097216157883 \tAccuracy: 0.10149253731343283\n"
     ]
    },
    {
     "output_type": "display_data",
     "data": {
      "text/plain": "HBox(children=(FloatProgress(value=1.0, bar_style='info', description='Epoch 28', layout=Layout(width='20px'),…",
      "application/vnd.jupyter.widget-view+json": {
       "version_major": 2,
       "version_minor": 0,
       "model_id": "4cdbdec6fe57427d9222858dc72526d3"
      }
     },
     "metadata": {}
    },
    {
     "output_type": "stream",
     "name": "stdout",
     "text": [
      "epoch: 29 \ttrain_loss: 3.352705201315005 \ttest_loss: 4.198805067550293 \tAccuracy: 0.10149253731343283\n"
     ]
    },
    {
     "output_type": "display_data",
     "data": {
      "text/plain": "HBox(children=(FloatProgress(value=1.0, bar_style='info', description='Epoch 29', layout=Layout(width='20px'),…",
      "application/vnd.jupyter.widget-view+json": {
       "version_major": 2,
       "version_minor": 0,
       "model_id": "23dce2031af441e28cf4633580180919"
      }
     },
     "metadata": {}
    },
    {
     "output_type": "stream",
     "name": "stdout",
     "text": [
      "epoch: 30 \ttrain_loss: 3.344051256240919 \ttest_loss: 4.234315230523262 \tAccuracy: 0.11641791044776119\n"
     ]
    },
    {
     "output_type": "display_data",
     "data": {
      "text/plain": "HBox(children=(FloatProgress(value=1.0, bar_style='info', description='Epoch 30', layout=Layout(width='20px'),…",
      "application/vnd.jupyter.widget-view+json": {
       "version_major": 2,
       "version_minor": 0,
       "model_id": "8a94191ead1e4913b94773a7ac63962a"
      }
     },
     "metadata": {}
    },
    {
     "output_type": "stream",
     "name": "stdout",
     "text": [
      "epoch: 31 \ttrain_loss: 3.3378149806066837 \ttest_loss: 4.258581428231924 \tAccuracy: 0.09850746268656717\n"
     ]
    },
    {
     "output_type": "display_data",
     "data": {
      "text/plain": "HBox(children=(FloatProgress(value=1.0, bar_style='info', description='Epoch 31', layout=Layout(width='20px'),…",
      "application/vnd.jupyter.widget-view+json": {
       "version_major": 2,
       "version_minor": 0,
       "model_id": "c2882b376974485392b9b608086f5b32"
      }
     },
     "metadata": {}
    },
    {
     "output_type": "stream",
     "name": "stdout",
     "text": [
      "epoch: 32 \ttrain_loss: 3.287833733704003 \ttest_loss: 4.2391023446758425 \tAccuracy: 0.1044776119402985\n"
     ]
    },
    {
     "output_type": "display_data",
     "data": {
      "text/plain": "HBox(children=(FloatProgress(value=1.0, bar_style='info', description='Epoch 32', layout=Layout(width='20px'),…",
      "application/vnd.jupyter.widget-view+json": {
       "version_major": 2,
       "version_minor": 0,
       "model_id": "f8ff99355ba7407c80bf4dce6616b465"
      }
     },
     "metadata": {}
    },
    {
     "output_type": "stream",
     "name": "stdout",
     "text": [
      "epoch: 33 \ttrain_loss: 3.2751069579212357 \ttest_loss: 4.198955712646724 \tAccuracy: 0.12238805970149254\n"
     ]
    },
    {
     "output_type": "display_data",
     "data": {
      "text/plain": "HBox(children=(FloatProgress(value=1.0, bar_style='info', description='Epoch 33', layout=Layout(width='20px'),…",
      "application/vnd.jupyter.widget-view+json": {
       "version_major": 2,
       "version_minor": 0,
       "model_id": "c1df8a329b2f462e8b56af78ded91547"
      }
     },
     "metadata": {}
    },
    {
     "output_type": "stream",
     "name": "stdout",
     "text": [
      "epoch: 34 \ttrain_loss: 3.250413029841781 \ttest_loss: 4.2109557499473445 \tAccuracy: 0.11044776119402985\n"
     ]
    },
    {
     "output_type": "display_data",
     "data": {
      "text/plain": "HBox(children=(FloatProgress(value=1.0, bar_style='info', description='Epoch 34', layout=Layout(width='20px'),…",
      "application/vnd.jupyter.widget-view+json": {
       "version_major": 2,
       "version_minor": 0,
       "model_id": "75961132e9224f13ab505e0263b89f47"
      }
     },
     "metadata": {}
    },
    {
     "output_type": "stream",
     "name": "stdout",
     "text": [
      "epoch: 35 \ttrain_loss: 3.20168426573222 \ttest_loss: 4.227691405183833 \tAccuracy: 0.11044776119402985\n"
     ]
    },
    {
     "output_type": "display_data",
     "data": {
      "text/plain": "HBox(children=(FloatProgress(value=1.0, bar_style='info', description='Epoch 35', layout=Layout(width='20px'),…",
      "application/vnd.jupyter.widget-view+json": {
       "version_major": 2,
       "version_minor": 0,
       "model_id": "af17d143ebbc4570a867918b41e3a734"
      }
     },
     "metadata": {}
    },
    {
     "output_type": "stream",
     "name": "stdout",
     "text": [
      "epoch: 36 \ttrain_loss: 3.2206529600800753 \ttest_loss: 4.2369946977523885 \tAccuracy: 0.1044776119402985\n"
     ]
    },
    {
     "output_type": "display_data",
     "data": {
      "text/plain": "HBox(children=(FloatProgress(value=1.0, bar_style='info', description='Epoch 36', layout=Layout(width='20px'),…",
      "application/vnd.jupyter.widget-view+json": {
       "version_major": 2,
       "version_minor": 0,
       "model_id": "00f61d8c023544dc917389deafaf9562"
      }
     },
     "metadata": {}
    },
    {
     "output_type": "stream",
     "name": "stdout",
     "text": [
      "epoch: 37 \ttrain_loss: 3.158008791588364 \ttest_loss: 4.2369666785076765 \tAccuracy: 0.11343283582089553\n"
     ]
    },
    {
     "output_type": "display_data",
     "data": {
      "text/plain": "HBox(children=(FloatProgress(value=1.0, bar_style='info', description='Epoch 37', layout=Layout(width='20px'),…",
      "application/vnd.jupyter.widget-view+json": {
       "version_major": 2,
       "version_minor": 0,
       "model_id": "4e19673002a347f4a89188da39962f21"
      }
     },
     "metadata": {}
    },
    {
     "output_type": "stream",
     "name": "stdout",
     "text": [
      "epoch: 38 \ttrain_loss: 3.1345844054328422 \ttest_loss: 4.195810136232905 \tAccuracy: 0.1044776119402985\n"
     ]
    },
    {
     "output_type": "display_data",
     "data": {
      "text/plain": "HBox(children=(FloatProgress(value=1.0, bar_style='info', description='Epoch 38', layout=Layout(width='20px'),…",
      "application/vnd.jupyter.widget-view+json": {
       "version_major": 2,
       "version_minor": 0,
       "model_id": "3496344c826d4436be24681f74a1f78f"
      }
     },
     "metadata": {}
    },
    {
     "output_type": "stream",
     "name": "stdout",
     "text": [
      "epoch: 39 \ttrain_loss: 3.138520201732402 \ttest_loss: 4.195837742641663 \tAccuracy: 0.1253731343283582\n"
     ]
    },
    {
     "output_type": "display_data",
     "data": {
      "text/plain": "HBox(children=(FloatProgress(value=1.0, bar_style='info', description='Epoch 39', layout=Layout(width='20px'),…",
      "application/vnd.jupyter.widget-view+json": {
       "version_major": 2,
       "version_minor": 0,
       "model_id": "9f9e96caa1f644b5a3a34f3a05904f43"
      }
     },
     "metadata": {}
    },
    {
     "output_type": "stream",
     "name": "stdout",
     "text": [
      "epoch: 40 \ttrain_loss: 3.092552901107303 \ttest_loss: 4.134224137999623 \tAccuracy: 0.09253731343283582\n"
     ]
    },
    {
     "output_type": "display_data",
     "data": {
      "text/plain": "HBox(children=(FloatProgress(value=1.0, bar_style='info', description='Epoch 40', layout=Layout(width='20px'),…",
      "application/vnd.jupyter.widget-view+json": {
       "version_major": 2,
       "version_minor": 0,
       "model_id": "b91760010d61466596287f75d23b07cd"
      }
     },
     "metadata": {}
    },
    {
     "output_type": "stream",
     "name": "stdout",
     "text": [
      "epoch: 41 \ttrain_loss: 3.0690327563608117 \ttest_loss: 4.170746960888729 \tAccuracy: 0.11343283582089553\n"
     ]
    },
    {
     "output_type": "display_data",
     "data": {
      "text/plain": "HBox(children=(FloatProgress(value=1.0, bar_style='info', description='Epoch 41', layout=Layout(width='20px'),…",
      "application/vnd.jupyter.widget-view+json": {
       "version_major": 2,
       "version_minor": 0,
       "model_id": "ed43bd4dc4bd45268b77fe7b412befaa"
      }
     },
     "metadata": {}
    },
    {
     "output_type": "stream",
     "name": "stdout",
     "text": [
      "epoch: 42 \ttrain_loss: 3.065670512010988 \ttest_loss: 4.169161882545558 \tAccuracy: 0.12835820895522387\n"
     ]
    },
    {
     "output_type": "display_data",
     "data": {
      "text/plain": "HBox(children=(FloatProgress(value=1.0, bar_style='info', description='Epoch 42', layout=Layout(width='20px'),…",
      "application/vnd.jupyter.widget-view+json": {
       "version_major": 2,
       "version_minor": 0,
       "model_id": "d2e9cacff262496aa7b7efb1e7ee4662"
      }
     },
     "metadata": {}
    },
    {
     "output_type": "stream",
     "name": "stdout",
     "text": [
      "epoch: 43 \ttrain_loss: 3.008061823172149 \ttest_loss: 4.165596240098545 \tAccuracy: 0.12835820895522387\n"
     ]
    },
    {
     "output_type": "display_data",
     "data": {
      "text/plain": "HBox(children=(FloatProgress(value=1.0, bar_style='info', description='Epoch 43', layout=Layout(width='20px'),…",
      "application/vnd.jupyter.widget-view+json": {
       "version_major": 2,
       "version_minor": 0,
       "model_id": "09d68767a257414ba31ea01339653373"
      }
     },
     "metadata": {}
    },
    {
     "output_type": "stream",
     "name": "stdout",
     "text": [
      "epoch: 44 \ttrain_loss: 3.0186210232218804 \ttest_loss: 4.264117078409522 \tAccuracy: 0.10746268656716418\n"
     ]
    },
    {
     "output_type": "display_data",
     "data": {
      "text/plain": "HBox(children=(FloatProgress(value=1.0, bar_style='info', description='Epoch 44', layout=Layout(width='20px'),…",
      "application/vnd.jupyter.widget-view+json": {
       "version_major": 2,
       "version_minor": 0,
       "model_id": "70ccd6c6d94a44b9b274464688320e09"
      }
     },
     "metadata": {}
    },
    {
     "output_type": "stream",
     "name": "stdout",
     "text": [
      "epoch: 45 \ttrain_loss: 3.031717376313298 \ttest_loss: 4.214169284707575 \tAccuracy: 0.12238805970149254\n"
     ]
    },
    {
     "output_type": "display_data",
     "data": {
      "text/plain": "HBox(children=(FloatProgress(value=1.0, bar_style='info', description='Epoch 45', layout=Layout(width='20px'),…",
      "application/vnd.jupyter.widget-view+json": {
       "version_major": 2,
       "version_minor": 0,
       "model_id": "e592deb62eee4fd5a68c4f18e0e47b55"
      }
     },
     "metadata": {}
    },
    {
     "output_type": "stream",
     "name": "stdout",
     "text": [
      "epoch: 46 \ttrain_loss: 2.9806524378438843 \ttest_loss: 4.204811161654794 \tAccuracy: 0.12835820895522387\n"
     ]
    },
    {
     "output_type": "display_data",
     "data": {
      "text/plain": "HBox(children=(FloatProgress(value=1.0, bar_style='info', description='Epoch 46', layout=Layout(width='20px'),…",
      "application/vnd.jupyter.widget-view+json": {
       "version_major": 2,
       "version_minor": 0,
       "model_id": "b7c6d655419c4edb94fcc99c017e975f"
      }
     },
     "metadata": {}
    },
    {
     "output_type": "stream",
     "name": "stdout",
     "text": [
      "epoch: 47 \ttrain_loss: 2.9873453336202918 \ttest_loss: 4.19194240021939 \tAccuracy: 0.11940298507462686\n"
     ]
    },
    {
     "output_type": "display_data",
     "data": {
      "text/plain": "HBox(children=(FloatProgress(value=1.0, bar_style='info', description='Epoch 47', layout=Layout(width='20px'),…",
      "application/vnd.jupyter.widget-view+json": {
       "version_major": 2,
       "version_minor": 0,
       "model_id": "4d49d7e2f9a548f79dedf4c207d918f4"
      }
     },
     "metadata": {}
    },
    {
     "output_type": "stream",
     "name": "stdout",
     "text": [
      "epoch: 48 \ttrain_loss: 2.92973798033147 \ttest_loss: 4.282075289863646 \tAccuracy: 0.1044776119402985\n"
     ]
    },
    {
     "output_type": "display_data",
     "data": {
      "text/plain": "HBox(children=(FloatProgress(value=1.0, bar_style='info', description='Epoch 48', layout=Layout(width='20px'),…",
      "application/vnd.jupyter.widget-view+json": {
       "version_major": 2,
       "version_minor": 0,
       "model_id": "bee66278167e4d4da8c01a3120bdcf72"
      }
     },
     "metadata": {}
    },
    {
     "output_type": "stream",
     "name": "stdout",
     "text": [
      "epoch: 49 \ttrain_loss: 2.9468897503784928 \ttest_loss: 4.268186056618571 \tAccuracy: 0.09850746268656717\n"
     ]
    },
    {
     "output_type": "display_data",
     "data": {
      "text/plain": "HBox(children=(FloatProgress(value=1.0, bar_style='info', description='Epoch 49', layout=Layout(width='20px'),…",
      "application/vnd.jupyter.widget-view+json": {
       "version_major": 2,
       "version_minor": 0,
       "model_id": "9aac2ee42c6445d28321010abc055873"
      }
     },
     "metadata": {}
    },
    {
     "output_type": "stream",
     "name": "stdout",
     "text": [
      "epoch: 50 \ttrain_loss: 2.934245609650756 \ttest_loss: 4.1581114322841115 \tAccuracy: 0.13432835820895522\n"
     ]
    },
    {
     "output_type": "display_data",
     "data": {
      "text/plain": "HBox(children=(FloatProgress(value=1.0, bar_style='info', description='Epoch 50', layout=Layout(width='20px'),…",
      "application/vnd.jupyter.widget-view+json": {
       "version_major": 2,
       "version_minor": 0,
       "model_id": "b5116dee92a74d4188ef5229256872a0"
      }
     },
     "metadata": {}
    },
    {
     "output_type": "stream",
     "name": "stdout",
     "text": [
      "epoch: 51 \ttrain_loss: 2.916643416652145 \ttest_loss: 4.19396941530125 \tAccuracy: 0.11641791044776119\n"
     ]
    },
    {
     "output_type": "display_data",
     "data": {
      "text/plain": "HBox(children=(FloatProgress(value=1.0, bar_style='info', description='Epoch 51', layout=Layout(width='20px'),…",
      "application/vnd.jupyter.widget-view+json": {
       "version_major": 2,
       "version_minor": 0,
       "model_id": "f0981c8ce6f748f18b86fe7e5147318c"
      }
     },
     "metadata": {}
    },
    {
     "output_type": "stream",
     "name": "stdout",
     "text": [
      "epoch: 52 \ttrain_loss: 2.8875015682572074 \ttest_loss: 4.224172595577391 \tAccuracy: 0.12238805970149254\n"
     ]
    },
    {
     "output_type": "display_data",
     "data": {
      "text/plain": "HBox(children=(FloatProgress(value=1.0, bar_style='info', description='Epoch 52', layout=Layout(width='20px'),…",
      "application/vnd.jupyter.widget-view+json": {
       "version_major": 2,
       "version_minor": 0,
       "model_id": "f28e6259934a457f9a48216fe2bf1e69"
      }
     },
     "metadata": {}
    },
    {
     "output_type": "stream",
     "name": "stdout",
     "text": [
      "epoch: 53 \ttrain_loss: 2.8594949322293104 \ttest_loss: 4.161673416629219 \tAccuracy: 0.13432835820895522\n"
     ]
    },
    {
     "output_type": "display_data",
     "data": {
      "text/plain": "HBox(children=(FloatProgress(value=1.0, bar_style='info', description='Epoch 53', layout=Layout(width='20px'),…",
      "application/vnd.jupyter.widget-view+json": {
       "version_major": 2,
       "version_minor": 0,
       "model_id": "a68f21ca16814d2e9f8a67ff2b21153d"
      }
     },
     "metadata": {}
    },
    {
     "output_type": "stream",
     "name": "stdout",
     "text": [
      "epoch: 54 \ttrain_loss: 2.84621450271676 \ttest_loss: 4.234011248864557 \tAccuracy: 0.13134328358208955\n"
     ]
    },
    {
     "output_type": "display_data",
     "data": {
      "text/plain": "HBox(children=(FloatProgress(value=1.0, bar_style='info', description='Epoch 54', layout=Layout(width='20px'),…",
      "application/vnd.jupyter.widget-view+json": {
       "version_major": 2,
       "version_minor": 0,
       "model_id": "0a3c63a93b09417bbb00577225c93c44"
      }
     },
     "metadata": {}
    },
    {
     "output_type": "stream",
     "name": "stdout",
     "text": [
      "epoch: 55 \ttrain_loss: 2.8601967471085494 \ttest_loss: 4.227534761724796 \tAccuracy: 0.14328358208955225\n"
     ]
    },
    {
     "output_type": "display_data",
     "data": {
      "text/plain": "HBox(children=(FloatProgress(value=1.0, bar_style='info', description='Epoch 55', layout=Layout(width='20px'),…",
      "application/vnd.jupyter.widget-view+json": {
       "version_major": 2,
       "version_minor": 0,
       "model_id": "a1c733b9a8854de086449e6ab574ba7f"
      }
     },
     "metadata": {}
    },
    {
     "output_type": "stream",
     "name": "stdout",
     "text": [
      "epoch: 56 \ttrain_loss: 2.7966996825555257 \ttest_loss: 4.195946126943592 \tAccuracy: 0.13134328358208955\n"
     ]
    },
    {
     "output_type": "display_data",
     "data": {
      "text/plain": "HBox(children=(FloatProgress(value=1.0, bar_style='info', description='Epoch 56', layout=Layout(width='20px'),…",
      "application/vnd.jupyter.widget-view+json": {
       "version_major": 2,
       "version_minor": 0,
       "model_id": "1fda09a6118e49e39e925ef811bd5f2f"
      }
     },
     "metadata": {}
    },
    {
     "output_type": "stream",
     "name": "stdout",
     "text": [
      "epoch: 57 \ttrain_loss: 2.783614460089158 \ttest_loss: 4.1716665662381 \tAccuracy: 0.1373134328358209\n"
     ]
    },
    {
     "output_type": "display_data",
     "data": {
      "text/plain": "HBox(children=(FloatProgress(value=1.0, bar_style='info', description='Epoch 57', layout=Layout(width='20px'),…",
      "application/vnd.jupyter.widget-view+json": {
       "version_major": 2,
       "version_minor": 0,
       "model_id": "bd2c5101905b4a28ac81bd8286d8db50"
      }
     },
     "metadata": {}
    },
    {
     "output_type": "stream",
     "name": "stdout",
     "text": [
      "epoch: 58 \ttrain_loss: 2.7813949641200972 \ttest_loss: 4.2391967829050206 \tAccuracy: 0.13432835820895522\n"
     ]
    },
    {
     "output_type": "display_data",
     "data": {
      "text/plain": "HBox(children=(FloatProgress(value=1.0, bar_style='info', description='Epoch 58', layout=Layout(width='20px'),…",
      "application/vnd.jupyter.widget-view+json": {
       "version_major": 2,
       "version_minor": 0,
       "model_id": "512adb9a92704bbb85b028ef764b4b5a"
      }
     },
     "metadata": {}
    },
    {
     "output_type": "stream",
     "name": "stdout",
     "text": [
      "epoch: 59 \ttrain_loss: 2.792775356652059 \ttest_loss: 4.232217778183555 \tAccuracy: 0.10149253731343283\n"
     ]
    },
    {
     "output_type": "display_data",
     "data": {
      "text/plain": "HBox(children=(FloatProgress(value=1.0, bar_style='info', description='Epoch 59', layout=Layout(width='20px'),…",
      "application/vnd.jupyter.widget-view+json": {
       "version_major": 2,
       "version_minor": 0,
       "model_id": "7a551922ee5b47cf823d7f73455c9a2d"
      }
     },
     "metadata": {}
    },
    {
     "output_type": "stream",
     "name": "stdout",
     "text": [
      "epoch: 60 \ttrain_loss: 2.753451453953328 \ttest_loss: 4.184337682315298 \tAccuracy: 0.1253731343283582\n"
     ]
    },
    {
     "output_type": "display_data",
     "data": {
      "text/plain": "HBox(children=(FloatProgress(value=1.0, bar_style='info', description='Epoch 60', layout=Layout(width='20px'),…",
      "application/vnd.jupyter.widget-view+json": {
       "version_major": 2,
       "version_minor": 0,
       "model_id": "51784850203747fbbc15c116d194d916"
      }
     },
     "metadata": {}
    },
    {
     "output_type": "stream",
     "name": "stdout",
     "text": [
      "epoch: 61 \ttrain_loss: 2.7295053875122877 \ttest_loss: 4.198746231363918 \tAccuracy: 0.14626865671641792\n"
     ]
    },
    {
     "output_type": "display_data",
     "data": {
      "text/plain": "HBox(children=(FloatProgress(value=1.0, bar_style='info', description='Epoch 61', layout=Layout(width='20px'),…",
      "application/vnd.jupyter.widget-view+json": {
       "version_major": 2,
       "version_minor": 0,
       "model_id": "0c9084ac819746caa44f20209e15f14c"
      }
     },
     "metadata": {}
    },
    {
     "output_type": "stream",
     "name": "stdout",
     "text": [
      "epoch: 62 \ttrain_loss: 2.768832120253722 \ttest_loss: 4.21688790624378 \tAccuracy: 0.12238805970149254\n"
     ]
    },
    {
     "output_type": "display_data",
     "data": {
      "text/plain": "HBox(children=(FloatProgress(value=1.0, bar_style='info', description='Epoch 62', layout=Layout(width='20px'),…",
      "application/vnd.jupyter.widget-view+json": {
       "version_major": 2,
       "version_minor": 0,
       "model_id": "a43e162a373d40e186c81c9bc1af7aa2"
      }
     },
     "metadata": {}
    },
    {
     "output_type": "stream",
     "name": "stdout",
     "text": [
      "epoch: 63 \ttrain_loss: 2.6921566793885257 \ttest_loss: 4.306294855103423 \tAccuracy: 0.11940298507462686\n"
     ]
    },
    {
     "output_type": "display_data",
     "data": {
      "text/plain": "HBox(children=(FloatProgress(value=1.0, bar_style='info', description='Epoch 63', layout=Layout(width='20px'),…",
      "application/vnd.jupyter.widget-view+json": {
       "version_major": 2,
       "version_minor": 0,
       "model_id": "cc4d05f6dc834a988306765088a91b10"
      }
     },
     "metadata": {}
    },
    {
     "output_type": "stream",
     "name": "stdout",
     "text": [
      "epoch: 64 \ttrain_loss: 2.7196938443684 \ttest_loss: 4.225261199266547 \tAccuracy: 0.14925373134328357\n"
     ]
    },
    {
     "output_type": "display_data",
     "data": {
      "text/plain": "HBox(children=(FloatProgress(value=1.0, bar_style='info', description='Epoch 64', layout=Layout(width='20px'),…",
      "application/vnd.jupyter.widget-view+json": {
       "version_major": 2,
       "version_minor": 0,
       "model_id": "c6410246718741a9ba2bfa74c1640eb9"
      }
     },
     "metadata": {}
    },
    {
     "output_type": "stream",
     "name": "stdout",
     "text": [
      "epoch: 65 \ttrain_loss: 2.6752449566108467 \ttest_loss: 4.249572679193789 \tAccuracy: 0.1253731343283582\n"
     ]
    },
    {
     "output_type": "display_data",
     "data": {
      "text/plain": "HBox(children=(FloatProgress(value=1.0, bar_style='info', description='Epoch 65', layout=Layout(width='20px'),…",
      "application/vnd.jupyter.widget-view+json": {
       "version_major": 2,
       "version_minor": 0,
       "model_id": "72ff14827b67432cbdf1f78f1e2a7b6c"
      }
     },
     "metadata": {}
    },
    {
     "output_type": "stream",
     "name": "stdout",
     "text": [
      "epoch: 66 \ttrain_loss: 2.6643685000390143 \ttest_loss: 4.262324642030661 \tAccuracy: 0.12835820895522387\n"
     ]
    },
    {
     "output_type": "display_data",
     "data": {
      "text/plain": "HBox(children=(FloatProgress(value=1.0, bar_style='info', description='Epoch 66', layout=Layout(width='20px'),…",
      "application/vnd.jupyter.widget-view+json": {
       "version_major": 2,
       "version_minor": 0,
       "model_id": "bc64cdbb39c041e59567693f398bda47"
      }
     },
     "metadata": {}
    },
    {
     "output_type": "stream",
     "name": "stdout",
     "text": [
      "epoch: 67 \ttrain_loss: 2.6936239192943368 \ttest_loss: 4.228562143713435 \tAccuracy: 0.13432835820895522\n"
     ]
    },
    {
     "output_type": "display_data",
     "data": {
      "text/plain": "HBox(children=(FloatProgress(value=1.0, bar_style='info', description='Epoch 67', layout=Layout(width='20px'),…",
      "application/vnd.jupyter.widget-view+json": {
       "version_major": 2,
       "version_minor": 0,
       "model_id": "57278dc29879411d83dbc8073397fd32"
      }
     },
     "metadata": {}
    },
    {
     "output_type": "stream",
     "name": "stdout",
     "text": [
      "epoch: 68 \ttrain_loss: 2.6628114525700273 \ttest_loss: 4.257729861947184 \tAccuracy: 0.13134328358208955\n"
     ]
    },
    {
     "output_type": "display_data",
     "data": {
      "text/plain": "HBox(children=(FloatProgress(value=1.0, bar_style='info', description='Epoch 68', layout=Layout(width='20px'),…",
      "application/vnd.jupyter.widget-view+json": {
       "version_major": 2,
       "version_minor": 0,
       "model_id": "e0354c0292c04b9b9dbb38d2dbec52d2"
      }
     },
     "metadata": {}
    },
    {
     "output_type": "stream",
     "name": "stdout",
     "text": [
      "epoch: 69 \ttrain_loss: 2.590904800372547 \ttest_loss: 4.275169194091878 \tAccuracy: 0.1373134328358209\n"
     ]
    },
    {
     "output_type": "display_data",
     "data": {
      "text/plain": "HBox(children=(FloatProgress(value=1.0, bar_style='info', description='Epoch 69', layout=Layout(width='20px'),…",
      "application/vnd.jupyter.widget-view+json": {
       "version_major": 2,
       "version_minor": 0,
       "model_id": "c63d8ae67c6a408083802f734e68362d"
      }
     },
     "metadata": {}
    },
    {
     "output_type": "stream",
     "name": "stdout",
     "text": [
      "epoch: 70 \ttrain_loss: 2.634761949194058 \ttest_loss: 4.266636162038346 \tAccuracy: 0.14626865671641792\n"
     ]
    },
    {
     "output_type": "display_data",
     "data": {
      "text/plain": "HBox(children=(FloatProgress(value=1.0, bar_style='info', description='Epoch 70', layout=Layout(width='20px'),…",
      "application/vnd.jupyter.widget-view+json": {
       "version_major": 2,
       "version_minor": 0,
       "model_id": "6576365955db4ac7bc1c8796624de0bd"
      }
     },
     "metadata": {}
    },
    {
     "output_type": "stream",
     "name": "stdout",
     "text": [
      "epoch: 71 \ttrain_loss: 2.601410700692941 \ttest_loss: 4.293915926033755 \tAccuracy: 0.15223880597014924\n"
     ]
    },
    {
     "output_type": "display_data",
     "data": {
      "text/plain": "HBox(children=(FloatProgress(value=1.0, bar_style='info', description='Epoch 71', layout=Layout(width='20px'),…",
      "application/vnd.jupyter.widget-view+json": {
       "version_major": 2,
       "version_minor": 0,
       "model_id": "3d9901ead78845e79a8d7d8692ac25d5"
      }
     },
     "metadata": {}
    },
    {
     "output_type": "stream",
     "name": "stdout",
     "text": [
      "epoch: 72 \ttrain_loss: 2.6049296056389117 \ttest_loss: 4.242080474847675 \tAccuracy: 0.11940298507462686\n"
     ]
    },
    {
     "output_type": "display_data",
     "data": {
      "text/plain": "HBox(children=(FloatProgress(value=1.0, bar_style='info', description='Epoch 72', layout=Layout(width='20px'),…",
      "application/vnd.jupyter.widget-view+json": {
       "version_major": 2,
       "version_minor": 0,
       "model_id": "dc4155d2a2914f7f9cbb9dc2c6fb7baa"
      }
     },
     "metadata": {}
    },
    {
     "output_type": "stream",
     "name": "stdout",
     "text": [
      "epoch: 73 \ttrain_loss: 2.609071926045521 \ttest_loss: 4.28914860134443 \tAccuracy: 0.11641791044776119\n"
     ]
    },
    {
     "output_type": "display_data",
     "data": {
      "text/plain": "HBox(children=(FloatProgress(value=1.0, bar_style='info', description='Epoch 73', layout=Layout(width='20px'),…",
      "application/vnd.jupyter.widget-view+json": {
       "version_major": 2,
       "version_minor": 0,
       "model_id": "4cd13640a0af483084e1d634d66740df"
      }
     },
     "metadata": {}
    },
    {
     "output_type": "stream",
     "name": "stdout",
     "text": [
      "epoch: 74 \ttrain_loss: 2.5612931418299483 \ttest_loss: 4.29104661027061 \tAccuracy: 0.14328358208955225\n"
     ]
    },
    {
     "output_type": "display_data",
     "data": {
      "text/plain": "HBox(children=(FloatProgress(value=1.0, bar_style='info', description='Epoch 74', layout=Layout(width='20px'),…",
      "application/vnd.jupyter.widget-view+json": {
       "version_major": 2,
       "version_minor": 0,
       "model_id": "4950ebfa5e754b0d8b850fe271efe7b8"
      }
     },
     "metadata": {}
    },
    {
     "output_type": "stream",
     "name": "stdout",
     "text": [
      "epoch: 75 \ttrain_loss: 2.5733959747079354 \ttest_loss: 4.285031643144852 \tAccuracy: 0.12238805970149254\n"
     ]
    },
    {
     "output_type": "display_data",
     "data": {
      "text/plain": "HBox(children=(FloatProgress(value=1.0, bar_style='info', description='Epoch 75', layout=Layout(width='20px'),…",
      "application/vnd.jupyter.widget-view+json": {
       "version_major": 2,
       "version_minor": 0,
       "model_id": "5d530edb9cd346a3a29795259284494c"
      }
     },
     "metadata": {}
    },
    {
     "output_type": "stream",
     "name": "stdout",
     "text": [
      "epoch: 76 \ttrain_loss: 2.5889274544379854 \ttest_loss: 4.26938875343863 \tAccuracy: 0.1373134328358209\n"
     ]
    },
    {
     "output_type": "display_data",
     "data": {
      "text/plain": "HBox(children=(FloatProgress(value=1.0, bar_style='info', description='Epoch 76', layout=Layout(width='20px'),…",
      "application/vnd.jupyter.widget-view+json": {
       "version_major": 2,
       "version_minor": 0,
       "model_id": "dbbd9a0ab28f467080f4ecf33f2f700e"
      }
     },
     "metadata": {}
    },
    {
     "output_type": "stream",
     "name": "stdout",
     "text": [
      "epoch: 77 \ttrain_loss: 2.5338056342835484 \ttest_loss: 4.306697968425154 \tAccuracy: 0.12835820895522387\n"
     ]
    },
    {
     "output_type": "display_data",
     "data": {
      "text/plain": "HBox(children=(FloatProgress(value=1.0, bar_style='info', description='Epoch 77', layout=Layout(width='20px'),…",
      "application/vnd.jupyter.widget-view+json": {
       "version_major": 2,
       "version_minor": 0,
       "model_id": "269fda97590e4f0fb1b7df13d62337b5"
      }
     },
     "metadata": {}
    },
    {
     "output_type": "stream",
     "name": "stdout",
     "text": [
      "epoch: 78 \ttrain_loss: 2.5310662136815174 \ttest_loss: 4.24654080608575 \tAccuracy: 0.16119402985074627\n"
     ]
    },
    {
     "output_type": "display_data",
     "data": {
      "text/plain": "HBox(children=(FloatProgress(value=1.0, bar_style='info', description='Epoch 78', layout=Layout(width='20px'),…",
      "application/vnd.jupyter.widget-view+json": {
       "version_major": 2,
       "version_minor": 0,
       "model_id": "43e4c9c12b434fb5ba2e353ce7f0afba"
      }
     },
     "metadata": {}
    },
    {
     "output_type": "stream",
     "name": "stdout",
     "text": [
      "epoch: 79 \ttrain_loss: 2.5151580115884222 \ttest_loss: 4.313269060820775 \tAccuracy: 0.13134328358208955\n"
     ]
    },
    {
     "output_type": "display_data",
     "data": {
      "text/plain": "HBox(children=(FloatProgress(value=1.0, bar_style='info', description='Epoch 79', layout=Layout(width='20px'),…",
      "application/vnd.jupyter.widget-view+json": {
       "version_major": 2,
       "version_minor": 0,
       "model_id": "306fb59b5fcb4a58871781416c1dd46e"
      }
     },
     "metadata": {}
    },
    {
     "output_type": "stream",
     "name": "stdout",
     "text": [
      "epoch: 80 \ttrain_loss: 2.5419380443268302 \ttest_loss: 4.29977130277791 \tAccuracy: 0.15522388059701492\n"
     ]
    },
    {
     "output_type": "display_data",
     "data": {
      "text/plain": "HBox(children=(FloatProgress(value=1.0, bar_style='info', description='Epoch 80', layout=Layout(width='20px'),…",
      "application/vnd.jupyter.widget-view+json": {
       "version_major": 2,
       "version_minor": 0,
       "model_id": "0b5f2eac6fa14d41ad5fd196c7598541"
      }
     },
     "metadata": {}
    },
    {
     "output_type": "stream",
     "name": "stdout",
     "text": [
      "epoch: 81 \ttrain_loss: 2.5115529327460004 \ttest_loss: 4.354285678447181 \tAccuracy: 0.13134328358208955\n"
     ]
    },
    {
     "output_type": "display_data",
     "data": {
      "text/plain": "HBox(children=(FloatProgress(value=1.0, bar_style='info', description='Epoch 81', layout=Layout(width='20px'),…",
      "application/vnd.jupyter.widget-view+json": {
       "version_major": 2,
       "version_minor": 0,
       "model_id": "64c1471e54fe4a939c30ed8b3cbaf0b2"
      }
     },
     "metadata": {}
    },
    {
     "output_type": "stream",
     "name": "stdout",
     "text": [
      "epoch: 82 \ttrain_loss: 2.524735000227499 \ttest_loss: 4.346955519162142 \tAccuracy: 0.13134328358208955\n"
     ]
    },
    {
     "output_type": "display_data",
     "data": {
      "text/plain": "HBox(children=(FloatProgress(value=1.0, bar_style='info', description='Epoch 82', layout=Layout(width='20px'),…",
      "application/vnd.jupyter.widget-view+json": {
       "version_major": 2,
       "version_minor": 0,
       "model_id": "dd9f38e54810478580c5d2679faae562"
      }
     },
     "metadata": {}
    },
    {
     "output_type": "stream",
     "name": "stdout",
     "text": [
      "epoch: 83 \ttrain_loss: 2.4953649135651155 \ttest_loss: 4.279002541030936 \tAccuracy: 0.15522388059701492\n"
     ]
    },
    {
     "output_type": "display_data",
     "data": {
      "text/plain": "HBox(children=(FloatProgress(value=1.0, bar_style='info', description='Epoch 83', layout=Layout(width='20px'),…",
      "application/vnd.jupyter.widget-view+json": {
       "version_major": 2,
       "version_minor": 0,
       "model_id": "822b7044237841e6b58be795dc9fdef0"
      }
     },
     "metadata": {}
    },
    {
     "output_type": "stream",
     "name": "stdout",
     "text": [
      "epoch: 84 \ttrain_loss: 2.509650984386219 \ttest_loss: 4.36158126172792 \tAccuracy: 0.14029850746268657\n"
     ]
    },
    {
     "output_type": "display_data",
     "data": {
      "text/plain": "HBox(children=(FloatProgress(value=1.0, bar_style='info', description='Epoch 84', layout=Layout(width='20px'),…",
      "application/vnd.jupyter.widget-view+json": {
       "version_major": 2,
       "version_minor": 0,
       "model_id": "e80d87f7deec482db463915f759267ec"
      }
     },
     "metadata": {}
    },
    {
     "output_type": "stream",
     "name": "stdout",
     "text": [
      "epoch: 85 \ttrain_loss: 2.4653660677776466 \ttest_loss: 4.3148597586184705 \tAccuracy: 0.14626865671641792\n"
     ]
    },
    {
     "output_type": "display_data",
     "data": {
      "text/plain": "HBox(children=(FloatProgress(value=1.0, bar_style='info', description='Epoch 85', layout=Layout(width='20px'),…",
      "application/vnd.jupyter.widget-view+json": {
       "version_major": 2,
       "version_minor": 0,
       "model_id": "e0363cccf61a44f2bb2b18db5ab3d45a"
      }
     },
     "metadata": {}
    },
    {
     "output_type": "stream",
     "name": "stdout",
     "text": [
      "epoch: 86 \ttrain_loss: 2.4752307456466682 \ttest_loss: 4.321714228128666 \tAccuracy: 0.1253731343283582\n"
     ]
    },
    {
     "output_type": "display_data",
     "data": {
      "text/plain": "HBox(children=(FloatProgress(value=1.0, bar_style='info', description='Epoch 86', layout=Layout(width='20px'),…",
      "application/vnd.jupyter.widget-view+json": {
       "version_major": 2,
       "version_minor": 0,
       "model_id": "e89e0ba09cc940668af7af3730036971"
      }
     },
     "metadata": {}
    },
    {
     "output_type": "stream",
     "name": "stdout",
     "text": [
      "epoch: 87 \ttrain_loss: 2.445195352294655 \ttest_loss: 4.292575196950693 \tAccuracy: 0.1253731343283582\n"
     ]
    },
    {
     "output_type": "display_data",
     "data": {
      "text/plain": "HBox(children=(FloatProgress(value=1.0, bar_style='info', description='Epoch 87', layout=Layout(width='20px'),…",
      "application/vnd.jupyter.widget-view+json": {
       "version_major": 2,
       "version_minor": 0,
       "model_id": "91e85e00b9f54e3e93e41f09f1c1c52a"
      }
     },
     "metadata": {}
    },
    {
     "output_type": "stream",
     "name": "stdout",
     "text": [
      "epoch: 88 \ttrain_loss: 2.4728513767978453 \ttest_loss: 4.278030646268078 \tAccuracy: 0.15223880597014924\n"
     ]
    },
    {
     "output_type": "display_data",
     "data": {
      "text/plain": "HBox(children=(FloatProgress(value=1.0, bar_style='info', description='Epoch 88', layout=Layout(width='20px'),…",
      "application/vnd.jupyter.widget-view+json": {
       "version_major": 2,
       "version_minor": 0,
       "model_id": "0037166721684a30b47cfea79ae50dca"
      }
     },
     "metadata": {}
    },
    {
     "output_type": "stream",
     "name": "stdout",
     "text": [
      "epoch: 89 \ttrain_loss: 2.412239394170476 \ttest_loss: 4.319925497192322 \tAccuracy: 0.14029850746268657\n"
     ]
    },
    {
     "output_type": "display_data",
     "data": {
      "text/plain": "HBox(children=(FloatProgress(value=1.0, bar_style='info', description='Epoch 89', layout=Layout(width='20px'),…",
      "application/vnd.jupyter.widget-view+json": {
       "version_major": 2,
       "version_minor": 0,
       "model_id": "5dc8a42e968540a98430f6b04414896a"
      }
     },
     "metadata": {}
    },
    {
     "output_type": "stream",
     "name": "stdout",
     "text": [
      "epoch: 90 \ttrain_loss: 2.4267150547139917 \ttest_loss: 4.358927892931594 \tAccuracy: 0.1373134328358209\n"
     ]
    },
    {
     "output_type": "display_data",
     "data": {
      "text/plain": "HBox(children=(FloatProgress(value=1.0, bar_style='info', description='Epoch 90', layout=Layout(width='20px'),…",
      "application/vnd.jupyter.widget-view+json": {
       "version_major": 2,
       "version_minor": 0,
       "model_id": "6d20369bf7ca44d3b9b29be75fb03254"
      }
     },
     "metadata": {}
    },
    {
     "output_type": "stream",
     "name": "stdout",
     "text": [
      "epoch: 91 \ttrain_loss: 2.431774842386959 \ttest_loss: 4.323813248446204 \tAccuracy: 0.1373134328358209\n"
     ]
    },
    {
     "output_type": "display_data",
     "data": {
      "text/plain": "HBox(children=(FloatProgress(value=1.0, bar_style='info', description='Epoch 91', layout=Layout(width='20px'),…",
      "application/vnd.jupyter.widget-view+json": {
       "version_major": 2,
       "version_minor": 0,
       "model_id": "0d6581ef34584204a5fe716c7227d222"
      }
     },
     "metadata": {}
    },
    {
     "output_type": "stream",
     "name": "stdout",
     "text": [
      "epoch: 92 \ttrain_loss: 2.3791631392535746 \ttest_loss: 4.3933787577229015 \tAccuracy: 0.13432835820895522\n"
     ]
    },
    {
     "output_type": "display_data",
     "data": {
      "text/plain": "HBox(children=(FloatProgress(value=1.0, bar_style='info', description='Epoch 92', layout=Layout(width='20px'),…",
      "application/vnd.jupyter.widget-view+json": {
       "version_major": 2,
       "version_minor": 0,
       "model_id": "aa322fdf281f434cb53892d6da91eeda"
      }
     },
     "metadata": {}
    },
    {
     "output_type": "stream",
     "name": "stdout",
     "text": [
      "epoch: 93 \ttrain_loss: 2.403325329566099 \ttest_loss: 4.41947324862947 \tAccuracy: 0.11044776119402985\n"
     ]
    },
    {
     "output_type": "display_data",
     "data": {
      "text/plain": "HBox(children=(FloatProgress(value=1.0, bar_style='info', description='Epoch 93', layout=Layout(width='20px'),…",
      "application/vnd.jupyter.widget-view+json": {
       "version_major": 2,
       "version_minor": 0,
       "model_id": "df5ceddf408441b59caf76dfa4ec05bc"
      }
     },
     "metadata": {}
    },
    {
     "output_type": "stream",
     "name": "stdout",
     "text": [
      "epoch: 94 \ttrain_loss: 2.3996185658720472 \ttest_loss: 4.273172716564492 \tAccuracy: 0.14626865671641792\n"
     ]
    },
    {
     "output_type": "display_data",
     "data": {
      "text/plain": "HBox(children=(FloatProgress(value=1.0, bar_style='info', description='Epoch 94', layout=Layout(width='20px'),…",
      "application/vnd.jupyter.widget-view+json": {
       "version_major": 2,
       "version_minor": 0,
       "model_id": "ab3a83c6d3b847efab7771218552223e"
      }
     },
     "metadata": {}
    },
    {
     "output_type": "stream",
     "name": "stdout",
     "text": [
      "epoch: 95 \ttrain_loss: 2.371599901675926 \ttest_loss: 4.349516113979257 \tAccuracy: 0.14626865671641792\n"
     ]
    },
    {
     "output_type": "display_data",
     "data": {
      "text/plain": "HBox(children=(FloatProgress(value=1.0, bar_style='info', description='Epoch 95', layout=Layout(width='20px'),…",
      "application/vnd.jupyter.widget-view+json": {
       "version_major": 2,
       "version_minor": 0,
       "model_id": "8546765135bb43a2845cfae3be226f5b"
      }
     },
     "metadata": {}
    },
    {
     "output_type": "stream",
     "name": "stdout",
     "text": [
      "epoch: 96 \ttrain_loss: 2.3878578175703478 \ttest_loss: 4.320111459309243 \tAccuracy: 0.1373134328358209\n"
     ]
    },
    {
     "output_type": "display_data",
     "data": {
      "text/plain": "HBox(children=(FloatProgress(value=1.0, bar_style='info', description='Epoch 96', layout=Layout(width='20px'),…",
      "application/vnd.jupyter.widget-view+json": {
       "version_major": 2,
       "version_minor": 0,
       "model_id": "f771c20c6cb24d6a83c0e83ea6dc0de0"
      }
     },
     "metadata": {}
    },
    {
     "output_type": "stream",
     "name": "stdout",
     "text": [
      "epoch: 97 \ttrain_loss: 2.352399382656462 \ttest_loss: 4.460188576666267 \tAccuracy: 0.12238805970149254\n"
     ]
    },
    {
     "output_type": "display_data",
     "data": {
      "text/plain": "HBox(children=(FloatProgress(value=1.0, bar_style='info', description='Epoch 97', layout=Layout(width='20px'),…",
      "application/vnd.jupyter.widget-view+json": {
       "version_major": 2,
       "version_minor": 0,
       "model_id": "4e89a93390054623b7cdf40b878bc2a5"
      }
     },
     "metadata": {}
    },
    {
     "output_type": "stream",
     "name": "stdout",
     "text": [
      "epoch: 98 \ttrain_loss: 2.3653843812265944 \ttest_loss: 4.393800574983295 \tAccuracy: 0.14925373134328357\n"
     ]
    },
    {
     "output_type": "display_data",
     "data": {
      "text/plain": "HBox(children=(FloatProgress(value=1.0, bar_style='info', description='Epoch 98', layout=Layout(width='20px'),…",
      "application/vnd.jupyter.widget-view+json": {
       "version_major": 2,
       "version_minor": 0,
       "model_id": "f2e44b13fc1043bdb3e0738a37e8756c"
      }
     },
     "metadata": {}
    },
    {
     "output_type": "stream",
     "name": "stdout",
     "text": [
      "epoch: 99 \ttrain_loss: 2.3519807492183387 \ttest_loss: 4.361146660790703 \tAccuracy: 0.1582089552238806\n"
     ]
    },
    {
     "output_type": "display_data",
     "data": {
      "text/plain": "HBox(children=(FloatProgress(value=1.0, bar_style='info', description='Epoch 99', layout=Layout(width='20px'),…",
      "application/vnd.jupyter.widget-view+json": {
       "version_major": 2,
       "version_minor": 0,
       "model_id": "04f672eb33524d39b435b24fd6e0d1f2"
      }
     },
     "metadata": {}
    },
    {
     "output_type": "stream",
     "name": "stdout",
     "text": [
      "epoch: 100 \ttrain_loss: 2.3375534756222596 \ttest_loss: 4.376957761682278 \tAccuracy: 0.15223880597014924\n\n"
     ]
    }
   ],
   "source": [
    "# Print initial accuracy before training\n",
    "__, outputs = test_network()\n",
    "acc = accuracy_score(valset.get_labels(), outputs)\n",
    "print(\"Initial accuracy:\", acc)\n",
    "bestAcc = acc\n",
    "train_loss_list = []\n",
    "test_loss_list = []\n",
    "PATH = './model.pt'\n",
    "\n",
    "for epoch in trange(EPOCHS, desc=\"Training\"):\n",
    "    train_loss = train_network(epoch)\n",
    "    test_loss, outputs = test_network()\n",
    "\n",
    "    train_loss_list.append(train_loss)\n",
    "    test_loss_list.append(test_loss)\n",
    "    \n",
    "    acc = accuracy_score(valset.get_labels(), outputs)\n",
    "\n",
    "    if acc > bestAcc: \n",
    "        bestAcc = acc\n",
    "        torch.save(model.state_dict(), PATH)\n",
    "    print(\"epoch:\", epoch+1, \"\\ttrain_loss:\", train_loss, \"\\ttest_loss:\", test_loss, \"\\tAccuracy:\", acc)"
   ]
  },
  {
   "cell_type": "markdown",
   "metadata": {},
   "source": [
    "## Results\n",
    "The JHMDB dataset contains 21 classes, with random guessing (and assuming equal amounts of examples for each class) we expect to see $\\frac{1}{21}\\approx 4.76\\%$ correct classifications. After training we achieve an accuracy of $67.54\\%$ percent. Note that this is less than the $80.4\\%$ reported in the paper this notebook is based on. The path transformations we chose above are chosen for speed of computation (allowing to generate the featureset within seconds and train the network within a few minutes on a CPU) for presentational purposes rather than to achieve maximal accuracy. By changing the path transformations and combining feature vectors of different sets of transformations the accuracy can be increased. Details on this can be found in the paper and by changing the code in the cell definin g the path transformations above you can run your own experiments.\n",
    "\n",
    "To examine the performance of the trained classifier in more detail, print the confusion matrix:"
   ]
  },
  {
   "cell_type": "code",
   "execution_count": 21,
   "metadata": {},
   "outputs": [
    {
     "output_type": "display_data",
     "data": {
      "text/plain": "<Figure size 1080x1080 with 2 Axes>",
      "image/svg+xml": "<?xml version=\"1.0\" encoding=\"utf-8\" standalone=\"no\"?>\r\n<!DOCTYPE svg PUBLIC \"-//W3C//DTD SVG 1.1//EN\"\r\n  \"http://www.w3.org/Graphics/SVG/1.1/DTD/svg11.dtd\">\r\n<!-- Created with matplotlib (https://matplotlib.org/) -->\r\n<svg height=\"839.478125pt\" version=\"1.1\" viewBox=\"0 0 819.748125 839.478125\" width=\"819.748125pt\" xmlns=\"http://www.w3.org/2000/svg\" xmlns:xlink=\"http://www.w3.org/1999/xlink\">\r\n <defs>\r\n  <style type=\"text/css\">\r\n*{stroke-linecap:butt;stroke-linejoin:round;}\r\n  </style>\r\n </defs>\r\n <g id=\"figure_1\">\r\n  <g id=\"patch_1\">\r\n   <path d=\"M 0 839.478125 \r\nL 819.748125 839.478125 \r\nL 819.748125 0 \r\nL 0 0 \r\nz\r\n\" style=\"fill:none;\"/>\r\n  </g>\r\n  <g id=\"axes_1\">\r\n   <g id=\"patch_2\">\r\n    <path d=\"M 46.965625 753.499219 \r\nL 716.565625 753.499219 \r\nL 716.565625 83.899219 \r\nL 46.965625 83.899219 \r\nz\r\n\" style=\"fill:#ffffff;\"/>\r\n   </g>\r\n   <g clip-path=\"url(#p46194d84ed)\">\r\n    <image height=\"670\" id=\"image1ca45952e0\" transform=\"scale(1 -1)translate(0 -670)\" width=\"670\" x=\"46.965625\" xlink:href=\"data:image/png;base64,\r\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\" y=\"-83.499219\"/>\r\n   </g>\r\n   <g id=\"matplotlib.axis_1\">\r\n    <g id=\"xtick_1\">\r\n     <g id=\"line2d_1\">\r\n      <defs>\r\n       <path d=\"M 0 0 \r\nL 0 3.5 \r\n\" id=\"m0db6b4c7df\" style=\"stroke:#000000;stroke-width:0.8;\"/>\r\n      </defs>\r\n      <g>\r\n       <use style=\"stroke:#000000;stroke-width:0.8;\" x=\"49.227787\" xlink:href=\"#m0db6b4c7df\" y=\"753.499219\"/>\r\n      </g>\r\n     </g>\r\n     <g id=\"text_1\">\r\n      <!-- 0 -->\r\n      <defs>\r\n       <path d=\"M 31.78125 66.40625 \r\nQ 24.171875 66.40625 20.328125 58.90625 \r\nQ 16.5 51.421875 16.5 36.375 \r\nQ 16.5 21.390625 20.328125 13.890625 \r\nQ 24.171875 6.390625 31.78125 6.390625 \r\nQ 39.453125 6.390625 43.28125 13.890625 \r\nQ 47.125 21.390625 47.125 36.375 \r\nQ 47.125 51.421875 43.28125 58.90625 \r\nQ 39.453125 66.40625 31.78125 66.40625 \r\nz\r\nM 31.78125 74.21875 \r\nQ 44.046875 74.21875 50.515625 64.515625 \r\nQ 56.984375 54.828125 56.984375 36.375 \r\nQ 56.984375 17.96875 50.515625 8.265625 \r\nQ 44.046875 -1.421875 31.78125 -1.421875 \r\nQ 19.53125 -1.421875 13.0625 8.265625 \r\nQ 6.59375 17.96875 6.59375 36.375 \r\nQ 6.59375 54.828125 13.0625 64.515625 \r\nQ 19.53125 74.21875 31.78125 74.21875 \r\nz\r\n\" id=\"DejaVuSans-48\"/>\r\n      </defs>\r\n      <g transform=\"translate(51.987162 766.861719)rotate(-90)scale(0.1 -0.1)\">\r\n       <use xlink:href=\"#DejaVuSans-48\"/>\r\n      </g>\r\n     </g>\r\n    </g>\r\n    <g id=\"xtick_2\">\r\n     <g id=\"line2d_2\">\r\n      <g>\r\n       <use style=\"stroke:#000000;stroke-width:0.8;\" x=\"53.752111\" xlink:href=\"#m0db6b4c7df\" y=\"753.499219\"/>\r\n      </g>\r\n     </g>\r\n     <g id=\"text_2\">\r\n      <!-- 1 -->\r\n      <defs>\r\n       <path d=\"M 12.40625 8.296875 \r\nL 28.515625 8.296875 \r\nL 28.515625 63.921875 \r\nL 10.984375 60.40625 \r\nL 10.984375 69.390625 \r\nL 28.421875 72.90625 \r\nL 38.28125 72.90625 \r\nL 38.28125 8.296875 \r\nL 54.390625 8.296875 \r\nL 54.390625 0 \r\nL 12.40625 0 \r\nz\r\n\" id=\"DejaVuSans-49\"/>\r\n      </defs>\r\n      <g transform=\"translate(56.511486 766.861719)rotate(-90)scale(0.1 -0.1)\">\r\n       <use xlink:href=\"#DejaVuSans-49\"/>\r\n      </g>\r\n     </g>\r\n    </g>\r\n    <g id=\"xtick_3\">\r\n     <g id=\"line2d_3\">\r\n      <g>\r\n       <use style=\"stroke:#000000;stroke-width:0.8;\" x=\"58.276436\" xlink:href=\"#m0db6b4c7df\" y=\"753.499219\"/>\r\n      </g>\r\n     </g>\r\n     <g id=\"text_3\">\r\n      <!-- 2 -->\r\n      <defs>\r\n       <path d=\"M 19.1875 8.296875 \r\nL 53.609375 8.296875 \r\nL 53.609375 0 \r\nL 7.328125 0 \r\nL 7.328125 8.296875 \r\nQ 12.9375 14.109375 22.625 23.890625 \r\nQ 32.328125 33.6875 34.8125 36.53125 \r\nQ 39.546875 41.84375 41.421875 45.53125 \r\nQ 43.3125 49.21875 43.3125 52.78125 \r\nQ 43.3125 58.59375 39.234375 62.25 \r\nQ 35.15625 65.921875 28.609375 65.921875 \r\nQ 23.96875 65.921875 18.8125 64.3125 \r\nQ 13.671875 62.703125 7.8125 59.421875 \r\nL 7.8125 69.390625 \r\nQ 13.765625 71.78125 18.9375 73 \r\nQ 24.125 74.21875 28.421875 74.21875 \r\nQ 39.75 74.21875 46.484375 68.546875 \r\nQ 53.21875 62.890625 53.21875 53.421875 \r\nQ 53.21875 48.921875 51.53125 44.890625 \r\nQ 49.859375 40.875 45.40625 35.40625 \r\nQ 44.1875 33.984375 37.640625 27.21875 \r\nQ 31.109375 20.453125 19.1875 8.296875 \r\nz\r\n\" id=\"DejaVuSans-50\"/>\r\n      </defs>\r\n      <g transform=\"translate(61.035811 766.861719)rotate(-90)scale(0.1 -0.1)\">\r\n       <use xlink:href=\"#DejaVuSans-50\"/>\r\n      </g>\r\n     </g>\r\n    </g>\r\n    <g id=\"xtick_4\">\r\n     <g id=\"line2d_4\">\r\n      <g>\r\n       <use style=\"stroke:#000000;stroke-width:0.8;\" x=\"62.80076\" xlink:href=\"#m0db6b4c7df\" y=\"753.499219\"/>\r\n      </g>\r\n     </g>\r\n     <g id=\"text_4\">\r\n      <!-- 3 -->\r\n      <defs>\r\n       <path d=\"M 40.578125 39.3125 \r\nQ 47.65625 37.796875 51.625 33 \r\nQ 55.609375 28.21875 55.609375 21.1875 \r\nQ 55.609375 10.40625 48.1875 4.484375 \r\nQ 40.765625 -1.421875 27.09375 -1.421875 \r\nQ 22.515625 -1.421875 17.65625 -0.515625 \r\nQ 12.796875 0.390625 7.625 2.203125 \r\nL 7.625 11.71875 \r\nQ 11.71875 9.328125 16.59375 8.109375 \r\nQ 21.484375 6.890625 26.8125 6.890625 \r\nQ 36.078125 6.890625 40.9375 10.546875 \r\nQ 45.796875 14.203125 45.796875 21.1875 \r\nQ 45.796875 27.640625 41.28125 31.265625 \r\nQ 36.765625 34.90625 28.71875 34.90625 \r\nL 20.21875 34.90625 \r\nL 20.21875 43.015625 \r\nL 29.109375 43.015625 \r\nQ 36.375 43.015625 40.234375 45.921875 \r\nQ 44.09375 48.828125 44.09375 54.296875 \r\nQ 44.09375 59.90625 40.109375 62.90625 \r\nQ 36.140625 65.921875 28.71875 65.921875 \r\nQ 24.65625 65.921875 20.015625 65.03125 \r\nQ 15.375 64.15625 9.8125 62.3125 \r\nL 9.8125 71.09375 \r\nQ 15.4375 72.65625 20.34375 73.4375 \r\nQ 25.25 74.21875 29.59375 74.21875 \r\nQ 40.828125 74.21875 47.359375 69.109375 \r\nQ 53.90625 64.015625 53.90625 55.328125 \r\nQ 53.90625 49.265625 50.4375 45.09375 \r\nQ 46.96875 40.921875 40.578125 39.3125 \r\nz\r\n\" id=\"DejaVuSans-51\"/>\r\n      </defs>\r\n      <g transform=\"translate(65.560135 766.861719)rotate(-90)scale(0.1 -0.1)\">\r\n       <use xlink:href=\"#DejaVuSans-51\"/>\r\n      </g>\r\n     </g>\r\n    </g>\r\n    <g id=\"xtick_5\">\r\n     <g id=\"line2d_5\">\r\n      <g>\r\n       <use style=\"stroke:#000000;stroke-width:0.8;\" x=\"67.325084\" xlink:href=\"#m0db6b4c7df\" y=\"753.499219\"/>\r\n      </g>\r\n     </g>\r\n     <g id=\"text_5\">\r\n      <!-- 4 -->\r\n      <defs>\r\n       <path d=\"M 37.796875 64.3125 \r\nL 12.890625 25.390625 \r\nL 37.796875 25.390625 \r\nz\r\nM 35.203125 72.90625 \r\nL 47.609375 72.90625 \r\nL 47.609375 25.390625 \r\nL 58.015625 25.390625 \r\nL 58.015625 17.1875 \r\nL 47.609375 17.1875 \r\nL 47.609375 0 \r\nL 37.796875 0 \r\nL 37.796875 17.1875 \r\nL 4.890625 17.1875 \r\nL 4.890625 26.703125 \r\nz\r\n\" id=\"DejaVuSans-52\"/>\r\n      </defs>\r\n      <g transform=\"translate(70.084459 766.861719)rotate(-90)scale(0.1 -0.1)\">\r\n       <use xlink:href=\"#DejaVuSans-52\"/>\r\n      </g>\r\n     </g>\r\n    </g>\r\n    <g id=\"xtick_6\">\r\n     <g id=\"line2d_6\">\r\n      <g>\r\n       <use style=\"stroke:#000000;stroke-width:0.8;\" x=\"71.849409\" xlink:href=\"#m0db6b4c7df\" y=\"753.499219\"/>\r\n      </g>\r\n     </g>\r\n     <g id=\"text_6\">\r\n      <!-- 5 -->\r\n      <defs>\r\n       <path d=\"M 10.796875 72.90625 \r\nL 49.515625 72.90625 \r\nL 49.515625 64.59375 \r\nL 19.828125 64.59375 \r\nL 19.828125 46.734375 \r\nQ 21.96875 47.46875 24.109375 47.828125 \r\nQ 26.265625 48.1875 28.421875 48.1875 \r\nQ 40.625 48.1875 47.75 41.5 \r\nQ 54.890625 34.8125 54.890625 23.390625 \r\nQ 54.890625 11.625 47.5625 5.09375 \r\nQ 40.234375 -1.421875 26.90625 -1.421875 \r\nQ 22.3125 -1.421875 17.546875 -0.640625 \r\nQ 12.796875 0.140625 7.71875 1.703125 \r\nL 7.71875 11.625 \r\nQ 12.109375 9.234375 16.796875 8.0625 \r\nQ 21.484375 6.890625 26.703125 6.890625 \r\nQ 35.15625 6.890625 40.078125 11.328125 \r\nQ 45.015625 15.765625 45.015625 23.390625 \r\nQ 45.015625 31 40.078125 35.4375 \r\nQ 35.15625 39.890625 26.703125 39.890625 \r\nQ 22.75 39.890625 18.8125 39.015625 \r\nQ 14.890625 38.140625 10.796875 36.28125 \r\nz\r\n\" id=\"DejaVuSans-53\"/>\r\n      </defs>\r\n      <g transform=\"translate(74.608784 766.861719)rotate(-90)scale(0.1 -0.1)\">\r\n       <use xlink:href=\"#DejaVuSans-53\"/>\r\n      </g>\r\n     </g>\r\n    </g>\r\n    <g id=\"xtick_7\">\r\n     <g id=\"line2d_7\">\r\n      <g>\r\n       <use style=\"stroke:#000000;stroke-width:0.8;\" x=\"76.373733\" xlink:href=\"#m0db6b4c7df\" y=\"753.499219\"/>\r\n      </g>\r\n     </g>\r\n     <g id=\"text_7\">\r\n      <!-- 6 -->\r\n      <defs>\r\n       <path d=\"M 33.015625 40.375 \r\nQ 26.375 40.375 22.484375 35.828125 \r\nQ 18.609375 31.296875 18.609375 23.390625 \r\nQ 18.609375 15.53125 22.484375 10.953125 \r\nQ 26.375 6.390625 33.015625 6.390625 \r\nQ 39.65625 6.390625 43.53125 10.953125 \r\nQ 47.40625 15.53125 47.40625 23.390625 \r\nQ 47.40625 31.296875 43.53125 35.828125 \r\nQ 39.65625 40.375 33.015625 40.375 \r\nz\r\nM 52.59375 71.296875 \r\nL 52.59375 62.3125 \r\nQ 48.875 64.0625 45.09375 64.984375 \r\nQ 41.3125 65.921875 37.59375 65.921875 \r\nQ 27.828125 65.921875 22.671875 59.328125 \r\nQ 17.53125 52.734375 16.796875 39.40625 \r\nQ 19.671875 43.65625 24.015625 45.921875 \r\nQ 28.375 48.1875 33.59375 48.1875 \r\nQ 44.578125 48.1875 50.953125 41.515625 \r\nQ 57.328125 34.859375 57.328125 23.390625 \r\nQ 57.328125 12.15625 50.6875 5.359375 \r\nQ 44.046875 -1.421875 33.015625 -1.421875 \r\nQ 20.359375 -1.421875 13.671875 8.265625 \r\nQ 6.984375 17.96875 6.984375 36.375 \r\nQ 6.984375 53.65625 15.1875 63.9375 \r\nQ 23.390625 74.21875 37.203125 74.21875 \r\nQ 40.921875 74.21875 44.703125 73.484375 \r\nQ 48.484375 72.75 52.59375 71.296875 \r\nz\r\n\" id=\"DejaVuSans-54\"/>\r\n      </defs>\r\n      <g transform=\"translate(79.133108 766.861719)rotate(-90)scale(0.1 -0.1)\">\r\n       <use xlink:href=\"#DejaVuSans-54\"/>\r\n      </g>\r\n     </g>\r\n    </g>\r\n    <g id=\"xtick_8\">\r\n     <g id=\"line2d_8\">\r\n      <g>\r\n       <use style=\"stroke:#000000;stroke-width:0.8;\" x=\"80.898057\" xlink:href=\"#m0db6b4c7df\" y=\"753.499219\"/>\r\n      </g>\r\n     </g>\r\n     <g id=\"text_8\">\r\n      <!-- 7 -->\r\n      <defs>\r\n       <path d=\"M 8.203125 72.90625 \r\nL 55.078125 72.90625 \r\nL 55.078125 68.703125 \r\nL 28.609375 0 \r\nL 18.3125 0 \r\nL 43.21875 64.59375 \r\nL 8.203125 64.59375 \r\nz\r\n\" id=\"DejaVuSans-55\"/>\r\n      </defs>\r\n      <g transform=\"translate(83.657432 766.861719)rotate(-90)scale(0.1 -0.1)\">\r\n       <use xlink:href=\"#DejaVuSans-55\"/>\r\n      </g>\r\n     </g>\r\n    </g>\r\n    <g id=\"xtick_9\">\r\n     <g id=\"line2d_9\">\r\n      <g>\r\n       <use style=\"stroke:#000000;stroke-width:0.8;\" x=\"85.422382\" xlink:href=\"#m0db6b4c7df\" y=\"753.499219\"/>\r\n      </g>\r\n     </g>\r\n     <g id=\"text_9\">\r\n      <!-- 8 -->\r\n      <defs>\r\n       <path d=\"M 31.78125 34.625 \r\nQ 24.75 34.625 20.71875 30.859375 \r\nQ 16.703125 27.09375 16.703125 20.515625 \r\nQ 16.703125 13.921875 20.71875 10.15625 \r\nQ 24.75 6.390625 31.78125 6.390625 \r\nQ 38.8125 6.390625 42.859375 10.171875 \r\nQ 46.921875 13.96875 46.921875 20.515625 \r\nQ 46.921875 27.09375 42.890625 30.859375 \r\nQ 38.875 34.625 31.78125 34.625 \r\nz\r\nM 21.921875 38.8125 \r\nQ 15.578125 40.375 12.03125 44.71875 \r\nQ 8.5 49.078125 8.5 55.328125 \r\nQ 8.5 64.0625 14.71875 69.140625 \r\nQ 20.953125 74.21875 31.78125 74.21875 \r\nQ 42.671875 74.21875 48.875 69.140625 \r\nQ 55.078125 64.0625 55.078125 55.328125 \r\nQ 55.078125 49.078125 51.53125 44.71875 \r\nQ 48 40.375 41.703125 38.8125 \r\nQ 48.828125 37.15625 52.796875 32.3125 \r\nQ 56.78125 27.484375 56.78125 20.515625 \r\nQ 56.78125 9.90625 50.3125 4.234375 \r\nQ 43.84375 -1.421875 31.78125 -1.421875 \r\nQ 19.734375 -1.421875 13.25 4.234375 \r\nQ 6.78125 9.90625 6.78125 20.515625 \r\nQ 6.78125 27.484375 10.78125 32.3125 \r\nQ 14.796875 37.15625 21.921875 38.8125 \r\nz\r\nM 18.3125 54.390625 \r\nQ 18.3125 48.734375 21.84375 45.5625 \r\nQ 25.390625 42.390625 31.78125 42.390625 \r\nQ 38.140625 42.390625 41.71875 45.5625 \r\nQ 45.3125 48.734375 45.3125 54.390625 \r\nQ 45.3125 60.0625 41.71875 63.234375 \r\nQ 38.140625 66.40625 31.78125 66.40625 \r\nQ 25.390625 66.40625 21.84375 63.234375 \r\nQ 18.3125 60.0625 18.3125 54.390625 \r\nz\r\n\" id=\"DejaVuSans-56\"/>\r\n      </defs>\r\n      <g transform=\"translate(88.181757 766.861719)rotate(-90)scale(0.1 -0.1)\">\r\n       <use xlink:href=\"#DejaVuSans-56\"/>\r\n      </g>\r\n     </g>\r\n    </g>\r\n    <g id=\"xtick_10\">\r\n     <g id=\"line2d_10\">\r\n      <g>\r\n       <use style=\"stroke:#000000;stroke-width:0.8;\" x=\"89.946706\" xlink:href=\"#m0db6b4c7df\" y=\"753.499219\"/>\r\n      </g>\r\n     </g>\r\n     <g id=\"text_10\">\r\n      <!-- 9 -->\r\n      <defs>\r\n       <path d=\"M 10.984375 1.515625 \r\nL 10.984375 10.5 \r\nQ 14.703125 8.734375 18.5 7.8125 \r\nQ 22.3125 6.890625 25.984375 6.890625 \r\nQ 35.75 6.890625 40.890625 13.453125 \r\nQ 46.046875 20.015625 46.78125 33.40625 \r\nQ 43.953125 29.203125 39.59375 26.953125 \r\nQ 35.25 24.703125 29.984375 24.703125 \r\nQ 19.046875 24.703125 12.671875 31.3125 \r\nQ 6.296875 37.9375 6.296875 49.421875 \r\nQ 6.296875 60.640625 12.9375 67.421875 \r\nQ 19.578125 74.21875 30.609375 74.21875 \r\nQ 43.265625 74.21875 49.921875 64.515625 \r\nQ 56.59375 54.828125 56.59375 36.375 \r\nQ 56.59375 19.140625 48.40625 8.859375 \r\nQ 40.234375 -1.421875 26.421875 -1.421875 \r\nQ 22.703125 -1.421875 18.890625 -0.6875 \r\nQ 15.09375 0.046875 10.984375 1.515625 \r\nz\r\nM 30.609375 32.421875 \r\nQ 37.25 32.421875 41.125 36.953125 \r\nQ 45.015625 41.5 45.015625 49.421875 \r\nQ 45.015625 57.28125 41.125 61.84375 \r\nQ 37.25 66.40625 30.609375 66.40625 \r\nQ 23.96875 66.40625 20.09375 61.84375 \r\nQ 16.21875 57.28125 16.21875 49.421875 \r\nQ 16.21875 41.5 20.09375 36.953125 \r\nQ 23.96875 32.421875 30.609375 32.421875 \r\nz\r\n\" id=\"DejaVuSans-57\"/>\r\n      </defs>\r\n      <g transform=\"translate(92.706081 766.861719)rotate(-90)scale(0.1 -0.1)\">\r\n       <use xlink:href=\"#DejaVuSans-57\"/>\r\n      </g>\r\n     </g>\r\n    </g>\r\n    <g id=\"xtick_11\">\r\n     <g id=\"line2d_11\">\r\n      <g>\r\n       <use style=\"stroke:#000000;stroke-width:0.8;\" x=\"94.47103\" xlink:href=\"#m0db6b4c7df\" y=\"753.499219\"/>\r\n      </g>\r\n     </g>\r\n     <g id=\"text_11\">\r\n      <!-- 10 -->\r\n      <g transform=\"translate(97.230405 773.224219)rotate(-90)scale(0.1 -0.1)\">\r\n       <use xlink:href=\"#DejaVuSans-49\"/>\r\n       <use x=\"63.623047\" xlink:href=\"#DejaVuSans-48\"/>\r\n      </g>\r\n     </g>\r\n    </g>\r\n    <g id=\"xtick_12\">\r\n     <g id=\"line2d_12\">\r\n      <g>\r\n       <use style=\"stroke:#000000;stroke-width:0.8;\" x=\"98.995355\" xlink:href=\"#m0db6b4c7df\" y=\"753.499219\"/>\r\n      </g>\r\n     </g>\r\n     <g id=\"text_12\">\r\n      <!-- 11 -->\r\n      <g transform=\"translate(101.75473 773.224219)rotate(-90)scale(0.1 -0.1)\">\r\n       <use xlink:href=\"#DejaVuSans-49\"/>\r\n       <use x=\"63.623047\" xlink:href=\"#DejaVuSans-49\"/>\r\n      </g>\r\n     </g>\r\n    </g>\r\n    <g id=\"xtick_13\">\r\n     <g id=\"line2d_13\">\r\n      <g>\r\n       <use style=\"stroke:#000000;stroke-width:0.8;\" x=\"103.519679\" xlink:href=\"#m0db6b4c7df\" y=\"753.499219\"/>\r\n      </g>\r\n     </g>\r\n     <g id=\"text_13\">\r\n      <!-- 12 -->\r\n      <g transform=\"translate(106.279054 773.224219)rotate(-90)scale(0.1 -0.1)\">\r\n       <use xlink:href=\"#DejaVuSans-49\"/>\r\n       <use x=\"63.623047\" xlink:href=\"#DejaVuSans-50\"/>\r\n      </g>\r\n     </g>\r\n    </g>\r\n    <g id=\"xtick_14\">\r\n     <g id=\"line2d_14\">\r\n      <g>\r\n       <use style=\"stroke:#000000;stroke-width:0.8;\" x=\"108.044003\" xlink:href=\"#m0db6b4c7df\" y=\"753.499219\"/>\r\n      </g>\r\n     </g>\r\n     <g id=\"text_14\">\r\n      <!-- 13 -->\r\n      <g transform=\"translate(110.803378 773.224219)rotate(-90)scale(0.1 -0.1)\">\r\n       <use xlink:href=\"#DejaVuSans-49\"/>\r\n       <use x=\"63.623047\" xlink:href=\"#DejaVuSans-51\"/>\r\n      </g>\r\n     </g>\r\n    </g>\r\n    <g id=\"xtick_15\">\r\n     <g id=\"line2d_15\">\r\n      <g>\r\n       <use style=\"stroke:#000000;stroke-width:0.8;\" x=\"112.568328\" xlink:href=\"#m0db6b4c7df\" y=\"753.499219\"/>\r\n      </g>\r\n     </g>\r\n     <g id=\"text_15\">\r\n      <!-- 14 -->\r\n      <g transform=\"translate(115.327703 773.224219)rotate(-90)scale(0.1 -0.1)\">\r\n       <use xlink:href=\"#DejaVuSans-49\"/>\r\n       <use x=\"63.623047\" xlink:href=\"#DejaVuSans-52\"/>\r\n      </g>\r\n     </g>\r\n    </g>\r\n    <g id=\"xtick_16\">\r\n     <g id=\"line2d_16\">\r\n      <g>\r\n       <use style=\"stroke:#000000;stroke-width:0.8;\" x=\"117.092652\" xlink:href=\"#m0db6b4c7df\" y=\"753.499219\"/>\r\n      </g>\r\n     </g>\r\n     <g id=\"text_16\">\r\n      <!-- 15 -->\r\n      <g transform=\"translate(119.852027 773.224219)rotate(-90)scale(0.1 -0.1)\">\r\n       <use xlink:href=\"#DejaVuSans-49\"/>\r\n       <use x=\"63.623047\" xlink:href=\"#DejaVuSans-53\"/>\r\n      </g>\r\n     </g>\r\n    </g>\r\n    <g id=\"xtick_17\">\r\n     <g id=\"line2d_17\">\r\n      <g>\r\n       <use style=\"stroke:#000000;stroke-width:0.8;\" x=\"121.616976\" xlink:href=\"#m0db6b4c7df\" y=\"753.499219\"/>\r\n      </g>\r\n     </g>\r\n     <g id=\"text_17\">\r\n      <!-- 16 -->\r\n      <g transform=\"translate(124.376351 773.224219)rotate(-90)scale(0.1 -0.1)\">\r\n       <use xlink:href=\"#DejaVuSans-49\"/>\r\n       <use x=\"63.623047\" xlink:href=\"#DejaVuSans-54\"/>\r\n      </g>\r\n     </g>\r\n    </g>\r\n    <g id=\"xtick_18\">\r\n     <g id=\"line2d_18\">\r\n      <g>\r\n       <use style=\"stroke:#000000;stroke-width:0.8;\" x=\"126.141301\" xlink:href=\"#m0db6b4c7df\" y=\"753.499219\"/>\r\n      </g>\r\n     </g>\r\n     <g id=\"text_18\">\r\n      <!-- 17 -->\r\n      <g transform=\"translate(128.900676 773.224219)rotate(-90)scale(0.1 -0.1)\">\r\n       <use xlink:href=\"#DejaVuSans-49\"/>\r\n       <use x=\"63.623047\" xlink:href=\"#DejaVuSans-55\"/>\r\n      </g>\r\n     </g>\r\n    </g>\r\n    <g id=\"xtick_19\">\r\n     <g id=\"line2d_19\">\r\n      <g>\r\n       <use style=\"stroke:#000000;stroke-width:0.8;\" x=\"130.665625\" xlink:href=\"#m0db6b4c7df\" y=\"753.499219\"/>\r\n      </g>\r\n     </g>\r\n     <g id=\"text_19\">\r\n      <!-- 18 -->\r\n      <g transform=\"translate(133.425 773.224219)rotate(-90)scale(0.1 -0.1)\">\r\n       <use xlink:href=\"#DejaVuSans-49\"/>\r\n       <use x=\"63.623047\" xlink:href=\"#DejaVuSans-56\"/>\r\n      </g>\r\n     </g>\r\n    </g>\r\n    <g id=\"xtick_20\">\r\n     <g id=\"line2d_20\">\r\n      <g>\r\n       <use style=\"stroke:#000000;stroke-width:0.8;\" x=\"135.189949\" xlink:href=\"#m0db6b4c7df\" y=\"753.499219\"/>\r\n      </g>\r\n     </g>\r\n     <g id=\"text_20\">\r\n      <!-- 19 -->\r\n      <g transform=\"translate(137.949324 773.224219)rotate(-90)scale(0.1 -0.1)\">\r\n       <use xlink:href=\"#DejaVuSans-49\"/>\r\n       <use x=\"63.623047\" xlink:href=\"#DejaVuSans-57\"/>\r\n      </g>\r\n     </g>\r\n    </g>\r\n    <g id=\"xtick_21\">\r\n     <g id=\"line2d_21\">\r\n      <g>\r\n       <use style=\"stroke:#000000;stroke-width:0.8;\" x=\"139.714274\" xlink:href=\"#m0db6b4c7df\" y=\"753.499219\"/>\r\n      </g>\r\n     </g>\r\n     <g id=\"text_21\">\r\n      <!-- 20 -->\r\n      <g transform=\"translate(142.473649 773.224219)rotate(-90)scale(0.1 -0.1)\">\r\n       <use xlink:href=\"#DejaVuSans-50\"/>\r\n       <use x=\"63.623047\" xlink:href=\"#DejaVuSans-48\"/>\r\n      </g>\r\n     </g>\r\n    </g>\r\n    <g id=\"xtick_22\">\r\n     <g id=\"line2d_22\">\r\n      <g>\r\n       <use style=\"stroke:#000000;stroke-width:0.8;\" x=\"144.238598\" xlink:href=\"#m0db6b4c7df\" y=\"753.499219\"/>\r\n      </g>\r\n     </g>\r\n     <g id=\"text_22\">\r\n      <!-- 21 -->\r\n      <g transform=\"translate(146.997973 773.224219)rotate(-90)scale(0.1 -0.1)\">\r\n       <use xlink:href=\"#DejaVuSans-50\"/>\r\n       <use x=\"63.623047\" xlink:href=\"#DejaVuSans-49\"/>\r\n      </g>\r\n     </g>\r\n    </g>\r\n    <g id=\"xtick_23\">\r\n     <g id=\"line2d_23\">\r\n      <g>\r\n       <use style=\"stroke:#000000;stroke-width:0.8;\" x=\"148.762922\" xlink:href=\"#m0db6b4c7df\" y=\"753.499219\"/>\r\n      </g>\r\n     </g>\r\n     <g id=\"text_23\">\r\n      <!-- 22 -->\r\n      <g transform=\"translate(151.522297 773.224219)rotate(-90)scale(0.1 -0.1)\">\r\n       <use xlink:href=\"#DejaVuSans-50\"/>\r\n       <use x=\"63.623047\" xlink:href=\"#DejaVuSans-50\"/>\r\n      </g>\r\n     </g>\r\n    </g>\r\n    <g id=\"xtick_24\">\r\n     <g id=\"line2d_24\">\r\n      <g>\r\n       <use style=\"stroke:#000000;stroke-width:0.8;\" x=\"153.287247\" xlink:href=\"#m0db6b4c7df\" y=\"753.499219\"/>\r\n      </g>\r\n     </g>\r\n     <g id=\"text_24\">\r\n      <!-- 23 -->\r\n      <g transform=\"translate(156.046622 773.224219)rotate(-90)scale(0.1 -0.1)\">\r\n       <use xlink:href=\"#DejaVuSans-50\"/>\r\n       <use x=\"63.623047\" xlink:href=\"#DejaVuSans-51\"/>\r\n      </g>\r\n     </g>\r\n    </g>\r\n    <g id=\"xtick_25\">\r\n     <g id=\"line2d_25\">\r\n      <g>\r\n       <use style=\"stroke:#000000;stroke-width:0.8;\" x=\"157.811571\" xlink:href=\"#m0db6b4c7df\" y=\"753.499219\"/>\r\n      </g>\r\n     </g>\r\n     <g id=\"text_25\">\r\n      <!-- 24 -->\r\n      <g transform=\"translate(160.570946 773.224219)rotate(-90)scale(0.1 -0.1)\">\r\n       <use xlink:href=\"#DejaVuSans-50\"/>\r\n       <use x=\"63.623047\" xlink:href=\"#DejaVuSans-52\"/>\r\n      </g>\r\n     </g>\r\n    </g>\r\n    <g id=\"xtick_26\">\r\n     <g id=\"line2d_26\">\r\n      <g>\r\n       <use style=\"stroke:#000000;stroke-width:0.8;\" x=\"162.335895\" xlink:href=\"#m0db6b4c7df\" y=\"753.499219\"/>\r\n      </g>\r\n     </g>\r\n     <g id=\"text_26\">\r\n      <!-- 25 -->\r\n      <g transform=\"translate(165.09527 773.224219)rotate(-90)scale(0.1 -0.1)\">\r\n       <use xlink:href=\"#DejaVuSans-50\"/>\r\n       <use x=\"63.623047\" xlink:href=\"#DejaVuSans-53\"/>\r\n      </g>\r\n     </g>\r\n    </g>\r\n    <g id=\"xtick_27\">\r\n     <g id=\"line2d_27\">\r\n      <g>\r\n       <use style=\"stroke:#000000;stroke-width:0.8;\" x=\"166.86022\" xlink:href=\"#m0db6b4c7df\" y=\"753.499219\"/>\r\n      </g>\r\n     </g>\r\n     <g id=\"text_27\">\r\n      <!-- 26 -->\r\n      <g transform=\"translate(169.619595 773.224219)rotate(-90)scale(0.1 -0.1)\">\r\n       <use xlink:href=\"#DejaVuSans-50\"/>\r\n       <use x=\"63.623047\" xlink:href=\"#DejaVuSans-54\"/>\r\n      </g>\r\n     </g>\r\n    </g>\r\n    <g id=\"xtick_28\">\r\n     <g id=\"line2d_28\">\r\n      <g>\r\n       <use style=\"stroke:#000000;stroke-width:0.8;\" x=\"171.384544\" xlink:href=\"#m0db6b4c7df\" y=\"753.499219\"/>\r\n      </g>\r\n     </g>\r\n     <g id=\"text_28\">\r\n      <!-- 27 -->\r\n      <g transform=\"translate(174.143919 773.224219)rotate(-90)scale(0.1 -0.1)\">\r\n       <use xlink:href=\"#DejaVuSans-50\"/>\r\n       <use x=\"63.623047\" xlink:href=\"#DejaVuSans-55\"/>\r\n      </g>\r\n     </g>\r\n    </g>\r\n    <g id=\"xtick_29\">\r\n     <g id=\"line2d_29\">\r\n      <g>\r\n       <use style=\"stroke:#000000;stroke-width:0.8;\" x=\"175.908868\" xlink:href=\"#m0db6b4c7df\" y=\"753.499219\"/>\r\n      </g>\r\n     </g>\r\n     <g id=\"text_29\">\r\n      <!-- 28 -->\r\n      <g transform=\"translate(178.668243 773.224219)rotate(-90)scale(0.1 -0.1)\">\r\n       <use xlink:href=\"#DejaVuSans-50\"/>\r\n       <use x=\"63.623047\" xlink:href=\"#DejaVuSans-56\"/>\r\n      </g>\r\n     </g>\r\n    </g>\r\n    <g id=\"xtick_30\">\r\n     <g id=\"line2d_30\">\r\n      <g>\r\n       <use style=\"stroke:#000000;stroke-width:0.8;\" x=\"180.433193\" xlink:href=\"#m0db6b4c7df\" y=\"753.499219\"/>\r\n      </g>\r\n     </g>\r\n     <g id=\"text_30\">\r\n      <!-- 29 -->\r\n      <g transform=\"translate(183.192568 773.224219)rotate(-90)scale(0.1 -0.1)\">\r\n       <use xlink:href=\"#DejaVuSans-50\"/>\r\n       <use x=\"63.623047\" xlink:href=\"#DejaVuSans-57\"/>\r\n      </g>\r\n     </g>\r\n    </g>\r\n    <g id=\"xtick_31\">\r\n     <g id=\"line2d_31\">\r\n      <g>\r\n       <use style=\"stroke:#000000;stroke-width:0.8;\" x=\"184.957517\" xlink:href=\"#m0db6b4c7df\" y=\"753.499219\"/>\r\n      </g>\r\n     </g>\r\n     <g id=\"text_31\">\r\n      <!-- 30 -->\r\n      <g transform=\"translate(187.716892 773.224219)rotate(-90)scale(0.1 -0.1)\">\r\n       <use xlink:href=\"#DejaVuSans-51\"/>\r\n       <use x=\"63.623047\" xlink:href=\"#DejaVuSans-48\"/>\r\n      </g>\r\n     </g>\r\n    </g>\r\n    <g id=\"xtick_32\">\r\n     <g id=\"line2d_32\">\r\n      <g>\r\n       <use style=\"stroke:#000000;stroke-width:0.8;\" x=\"189.481841\" xlink:href=\"#m0db6b4c7df\" y=\"753.499219\"/>\r\n      </g>\r\n     </g>\r\n     <g id=\"text_32\">\r\n      <!-- 31 -->\r\n      <g transform=\"translate(192.241216 773.224219)rotate(-90)scale(0.1 -0.1)\">\r\n       <use xlink:href=\"#DejaVuSans-51\"/>\r\n       <use x=\"63.623047\" xlink:href=\"#DejaVuSans-49\"/>\r\n      </g>\r\n     </g>\r\n    </g>\r\n    <g id=\"xtick_33\">\r\n     <g id=\"line2d_33\">\r\n      <g>\r\n       <use style=\"stroke:#000000;stroke-width:0.8;\" x=\"194.006166\" xlink:href=\"#m0db6b4c7df\" y=\"753.499219\"/>\r\n      </g>\r\n     </g>\r\n     <g id=\"text_33\">\r\n      <!-- 32 -->\r\n      <g transform=\"translate(196.765541 773.224219)rotate(-90)scale(0.1 -0.1)\">\r\n       <use xlink:href=\"#DejaVuSans-51\"/>\r\n       <use x=\"63.623047\" xlink:href=\"#DejaVuSans-50\"/>\r\n      </g>\r\n     </g>\r\n    </g>\r\n    <g id=\"xtick_34\">\r\n     <g id=\"line2d_34\">\r\n      <g>\r\n       <use style=\"stroke:#000000;stroke-width:0.8;\" x=\"198.53049\" xlink:href=\"#m0db6b4c7df\" y=\"753.499219\"/>\r\n      </g>\r\n     </g>\r\n     <g id=\"text_34\">\r\n      <!-- 33 -->\r\n      <g transform=\"translate(201.289865 773.224219)rotate(-90)scale(0.1 -0.1)\">\r\n       <use xlink:href=\"#DejaVuSans-51\"/>\r\n       <use x=\"63.623047\" xlink:href=\"#DejaVuSans-51\"/>\r\n      </g>\r\n     </g>\r\n    </g>\r\n    <g id=\"xtick_35\">\r\n     <g id=\"line2d_35\">\r\n      <g>\r\n       <use style=\"stroke:#000000;stroke-width:0.8;\" x=\"203.054814\" xlink:href=\"#m0db6b4c7df\" y=\"753.499219\"/>\r\n      </g>\r\n     </g>\r\n     <g id=\"text_35\">\r\n      <!-- 34 -->\r\n      <g transform=\"translate(205.814189 773.224219)rotate(-90)scale(0.1 -0.1)\">\r\n       <use xlink:href=\"#DejaVuSans-51\"/>\r\n       <use x=\"63.623047\" xlink:href=\"#DejaVuSans-52\"/>\r\n      </g>\r\n     </g>\r\n    </g>\r\n    <g id=\"xtick_36\">\r\n     <g id=\"line2d_36\">\r\n      <g>\r\n       <use style=\"stroke:#000000;stroke-width:0.8;\" x=\"207.579139\" xlink:href=\"#m0db6b4c7df\" y=\"753.499219\"/>\r\n      </g>\r\n     </g>\r\n     <g id=\"text_36\">\r\n      <!-- 35 -->\r\n      <g transform=\"translate(210.338514 773.224219)rotate(-90)scale(0.1 -0.1)\">\r\n       <use xlink:href=\"#DejaVuSans-51\"/>\r\n       <use x=\"63.623047\" xlink:href=\"#DejaVuSans-53\"/>\r\n      </g>\r\n     </g>\r\n    </g>\r\n    <g id=\"xtick_37\">\r\n     <g id=\"line2d_37\">\r\n      <g>\r\n       <use style=\"stroke:#000000;stroke-width:0.8;\" x=\"212.103463\" xlink:href=\"#m0db6b4c7df\" y=\"753.499219\"/>\r\n      </g>\r\n     </g>\r\n     <g id=\"text_37\">\r\n      <!-- 36 -->\r\n      <g transform=\"translate(214.862838 773.224219)rotate(-90)scale(0.1 -0.1)\">\r\n       <use xlink:href=\"#DejaVuSans-51\"/>\r\n       <use x=\"63.623047\" xlink:href=\"#DejaVuSans-54\"/>\r\n      </g>\r\n     </g>\r\n    </g>\r\n    <g id=\"xtick_38\">\r\n     <g id=\"line2d_38\">\r\n      <g>\r\n       <use style=\"stroke:#000000;stroke-width:0.8;\" x=\"216.627787\" xlink:href=\"#m0db6b4c7df\" y=\"753.499219\"/>\r\n      </g>\r\n     </g>\r\n     <g id=\"text_38\">\r\n      <!-- 37 -->\r\n      <g transform=\"translate(219.387162 773.224219)rotate(-90)scale(0.1 -0.1)\">\r\n       <use xlink:href=\"#DejaVuSans-51\"/>\r\n       <use x=\"63.623047\" xlink:href=\"#DejaVuSans-55\"/>\r\n      </g>\r\n     </g>\r\n    </g>\r\n    <g id=\"xtick_39\">\r\n     <g id=\"line2d_39\">\r\n      <g>\r\n       <use style=\"stroke:#000000;stroke-width:0.8;\" x=\"221.152111\" xlink:href=\"#m0db6b4c7df\" y=\"753.499219\"/>\r\n      </g>\r\n     </g>\r\n     <g id=\"text_39\">\r\n      <!-- 38 -->\r\n      <g transform=\"translate(223.911486 773.224219)rotate(-90)scale(0.1 -0.1)\">\r\n       <use xlink:href=\"#DejaVuSans-51\"/>\r\n       <use x=\"63.623047\" xlink:href=\"#DejaVuSans-56\"/>\r\n      </g>\r\n     </g>\r\n    </g>\r\n    <g id=\"xtick_40\">\r\n     <g id=\"line2d_40\">\r\n      <g>\r\n       <use style=\"stroke:#000000;stroke-width:0.8;\" x=\"225.676436\" xlink:href=\"#m0db6b4c7df\" y=\"753.499219\"/>\r\n      </g>\r\n     </g>\r\n     <g id=\"text_40\">\r\n      <!-- 39 -->\r\n      <g transform=\"translate(228.435811 773.224219)rotate(-90)scale(0.1 -0.1)\">\r\n       <use xlink:href=\"#DejaVuSans-51\"/>\r\n       <use x=\"63.623047\" xlink:href=\"#DejaVuSans-57\"/>\r\n      </g>\r\n     </g>\r\n    </g>\r\n    <g id=\"xtick_41\">\r\n     <g id=\"line2d_41\">\r\n      <g>\r\n       <use style=\"stroke:#000000;stroke-width:0.8;\" x=\"230.20076\" xlink:href=\"#m0db6b4c7df\" y=\"753.499219\"/>\r\n      </g>\r\n     </g>\r\n     <g id=\"text_41\">\r\n      <!-- 40 -->\r\n      <g transform=\"translate(232.960135 773.224219)rotate(-90)scale(0.1 -0.1)\">\r\n       <use xlink:href=\"#DejaVuSans-52\"/>\r\n       <use x=\"63.623047\" xlink:href=\"#DejaVuSans-48\"/>\r\n      </g>\r\n     </g>\r\n    </g>\r\n    <g id=\"xtick_42\">\r\n     <g id=\"line2d_42\">\r\n      <g>\r\n       <use style=\"stroke:#000000;stroke-width:0.8;\" x=\"234.725084\" xlink:href=\"#m0db6b4c7df\" y=\"753.499219\"/>\r\n      </g>\r\n     </g>\r\n     <g id=\"text_42\">\r\n      <!-- 41 -->\r\n      <g transform=\"translate(237.484459 773.224219)rotate(-90)scale(0.1 -0.1)\">\r\n       <use xlink:href=\"#DejaVuSans-52\"/>\r\n       <use x=\"63.623047\" xlink:href=\"#DejaVuSans-49\"/>\r\n      </g>\r\n     </g>\r\n    </g>\r\n    <g id=\"xtick_43\">\r\n     <g id=\"line2d_43\">\r\n      <g>\r\n       <use style=\"stroke:#000000;stroke-width:0.8;\" x=\"239.249409\" xlink:href=\"#m0db6b4c7df\" y=\"753.499219\"/>\r\n      </g>\r\n     </g>\r\n     <g id=\"text_43\">\r\n      <!-- 42 -->\r\n      <g transform=\"translate(242.008784 773.224219)rotate(-90)scale(0.1 -0.1)\">\r\n       <use xlink:href=\"#DejaVuSans-52\"/>\r\n       <use x=\"63.623047\" xlink:href=\"#DejaVuSans-50\"/>\r\n      </g>\r\n     </g>\r\n    </g>\r\n    <g id=\"xtick_44\">\r\n     <g id=\"line2d_44\">\r\n      <g>\r\n       <use style=\"stroke:#000000;stroke-width:0.8;\" x=\"243.773733\" xlink:href=\"#m0db6b4c7df\" y=\"753.499219\"/>\r\n      </g>\r\n     </g>\r\n     <g id=\"text_44\">\r\n      <!-- 43 -->\r\n      <g transform=\"translate(246.533108 773.224219)rotate(-90)scale(0.1 -0.1)\">\r\n       <use xlink:href=\"#DejaVuSans-52\"/>\r\n       <use x=\"63.623047\" xlink:href=\"#DejaVuSans-51\"/>\r\n      </g>\r\n     </g>\r\n    </g>\r\n    <g id=\"xtick_45\">\r\n     <g id=\"line2d_45\">\r\n      <g>\r\n       <use style=\"stroke:#000000;stroke-width:0.8;\" x=\"248.298057\" xlink:href=\"#m0db6b4c7df\" y=\"753.499219\"/>\r\n      </g>\r\n     </g>\r\n     <g id=\"text_45\">\r\n      <!-- 44 -->\r\n      <g transform=\"translate(251.057432 773.224219)rotate(-90)scale(0.1 -0.1)\">\r\n       <use xlink:href=\"#DejaVuSans-52\"/>\r\n       <use x=\"63.623047\" xlink:href=\"#DejaVuSans-52\"/>\r\n      </g>\r\n     </g>\r\n    </g>\r\n    <g id=\"xtick_46\">\r\n     <g id=\"line2d_46\">\r\n      <g>\r\n       <use style=\"stroke:#000000;stroke-width:0.8;\" x=\"252.822382\" xlink:href=\"#m0db6b4c7df\" y=\"753.499219\"/>\r\n      </g>\r\n     </g>\r\n     <g id=\"text_46\">\r\n      <!-- 45 -->\r\n      <g transform=\"translate(255.581757 773.224219)rotate(-90)scale(0.1 -0.1)\">\r\n       <use xlink:href=\"#DejaVuSans-52\"/>\r\n       <use x=\"63.623047\" xlink:href=\"#DejaVuSans-53\"/>\r\n      </g>\r\n     </g>\r\n    </g>\r\n    <g id=\"xtick_47\">\r\n     <g id=\"line2d_47\">\r\n      <g>\r\n       <use style=\"stroke:#000000;stroke-width:0.8;\" x=\"257.346706\" xlink:href=\"#m0db6b4c7df\" y=\"753.499219\"/>\r\n      </g>\r\n     </g>\r\n     <g id=\"text_47\">\r\n      <!-- 46 -->\r\n      <g transform=\"translate(260.106081 773.224219)rotate(-90)scale(0.1 -0.1)\">\r\n       <use xlink:href=\"#DejaVuSans-52\"/>\r\n       <use x=\"63.623047\" xlink:href=\"#DejaVuSans-54\"/>\r\n      </g>\r\n     </g>\r\n    </g>\r\n    <g id=\"xtick_48\">\r\n     <g id=\"line2d_48\">\r\n      <g>\r\n       <use style=\"stroke:#000000;stroke-width:0.8;\" x=\"261.87103\" xlink:href=\"#m0db6b4c7df\" y=\"753.499219\"/>\r\n      </g>\r\n     </g>\r\n     <g id=\"text_48\">\r\n      <!-- 47 -->\r\n      <g transform=\"translate(264.630405 773.224219)rotate(-90)scale(0.1 -0.1)\">\r\n       <use xlink:href=\"#DejaVuSans-52\"/>\r\n       <use x=\"63.623047\" xlink:href=\"#DejaVuSans-55\"/>\r\n      </g>\r\n     </g>\r\n    </g>\r\n    <g id=\"xtick_49\">\r\n     <g id=\"line2d_49\">\r\n      <g>\r\n       <use style=\"stroke:#000000;stroke-width:0.8;\" x=\"266.395355\" xlink:href=\"#m0db6b4c7df\" y=\"753.499219\"/>\r\n      </g>\r\n     </g>\r\n     <g id=\"text_49\">\r\n      <!-- 48 -->\r\n      <g transform=\"translate(269.15473 773.224219)rotate(-90)scale(0.1 -0.1)\">\r\n       <use xlink:href=\"#DejaVuSans-52\"/>\r\n       <use x=\"63.623047\" xlink:href=\"#DejaVuSans-56\"/>\r\n      </g>\r\n     </g>\r\n    </g>\r\n    <g id=\"xtick_50\">\r\n     <g id=\"line2d_50\">\r\n      <g>\r\n       <use style=\"stroke:#000000;stroke-width:0.8;\" x=\"270.919679\" xlink:href=\"#m0db6b4c7df\" y=\"753.499219\"/>\r\n      </g>\r\n     </g>\r\n     <g id=\"text_50\">\r\n      <!-- 49 -->\r\n      <g transform=\"translate(273.679054 773.224219)rotate(-90)scale(0.1 -0.1)\">\r\n       <use xlink:href=\"#DejaVuSans-52\"/>\r\n       <use x=\"63.623047\" xlink:href=\"#DejaVuSans-57\"/>\r\n      </g>\r\n     </g>\r\n    </g>\r\n    <g id=\"xtick_51\">\r\n     <g id=\"line2d_51\">\r\n      <g>\r\n       <use style=\"stroke:#000000;stroke-width:0.8;\" x=\"275.444003\" xlink:href=\"#m0db6b4c7df\" y=\"753.499219\"/>\r\n      </g>\r\n     </g>\r\n     <g id=\"text_51\">\r\n      <!-- 50 -->\r\n      <g transform=\"translate(278.203378 773.224219)rotate(-90)scale(0.1 -0.1)\">\r\n       <use xlink:href=\"#DejaVuSans-53\"/>\r\n       <use x=\"63.623047\" xlink:href=\"#DejaVuSans-48\"/>\r\n      </g>\r\n     </g>\r\n    </g>\r\n    <g id=\"xtick_52\">\r\n     <g id=\"line2d_52\">\r\n      <g>\r\n       <use style=\"stroke:#000000;stroke-width:0.8;\" x=\"279.968328\" xlink:href=\"#m0db6b4c7df\" y=\"753.499219\"/>\r\n      </g>\r\n     </g>\r\n     <g id=\"text_52\">\r\n      <!-- 51 -->\r\n      <g transform=\"translate(282.727703 773.224219)rotate(-90)scale(0.1 -0.1)\">\r\n       <use xlink:href=\"#DejaVuSans-53\"/>\r\n       <use x=\"63.623047\" xlink:href=\"#DejaVuSans-49\"/>\r\n      </g>\r\n     </g>\r\n    </g>\r\n    <g id=\"xtick_53\">\r\n     <g id=\"line2d_53\">\r\n      <g>\r\n       <use style=\"stroke:#000000;stroke-width:0.8;\" x=\"284.492652\" xlink:href=\"#m0db6b4c7df\" y=\"753.499219\"/>\r\n      </g>\r\n     </g>\r\n     <g id=\"text_53\">\r\n      <!-- 52 -->\r\n      <g transform=\"translate(287.252027 773.224219)rotate(-90)scale(0.1 -0.1)\">\r\n       <use xlink:href=\"#DejaVuSans-53\"/>\r\n       <use x=\"63.623047\" xlink:href=\"#DejaVuSans-50\"/>\r\n      </g>\r\n     </g>\r\n    </g>\r\n    <g id=\"xtick_54\">\r\n     <g id=\"line2d_54\">\r\n      <g>\r\n       <use style=\"stroke:#000000;stroke-width:0.8;\" x=\"289.016976\" xlink:href=\"#m0db6b4c7df\" y=\"753.499219\"/>\r\n      </g>\r\n     </g>\r\n     <g id=\"text_54\">\r\n      <!-- 53 -->\r\n      <g transform=\"translate(291.776351 773.224219)rotate(-90)scale(0.1 -0.1)\">\r\n       <use xlink:href=\"#DejaVuSans-53\"/>\r\n       <use x=\"63.623047\" xlink:href=\"#DejaVuSans-51\"/>\r\n      </g>\r\n     </g>\r\n    </g>\r\n    <g id=\"xtick_55\">\r\n     <g id=\"line2d_55\">\r\n      <g>\r\n       <use style=\"stroke:#000000;stroke-width:0.8;\" x=\"293.541301\" xlink:href=\"#m0db6b4c7df\" y=\"753.499219\"/>\r\n      </g>\r\n     </g>\r\n     <g id=\"text_55\">\r\n      <!-- 54 -->\r\n      <g transform=\"translate(296.300676 773.224219)rotate(-90)scale(0.1 -0.1)\">\r\n       <use xlink:href=\"#DejaVuSans-53\"/>\r\n       <use x=\"63.623047\" xlink:href=\"#DejaVuSans-52\"/>\r\n      </g>\r\n     </g>\r\n    </g>\r\n    <g id=\"xtick_56\">\r\n     <g id=\"line2d_56\">\r\n      <g>\r\n       <use style=\"stroke:#000000;stroke-width:0.8;\" x=\"298.065625\" xlink:href=\"#m0db6b4c7df\" y=\"753.499219\"/>\r\n      </g>\r\n     </g>\r\n     <g id=\"text_56\">\r\n      <!-- 55 -->\r\n      <g transform=\"translate(300.825 773.224219)rotate(-90)scale(0.1 -0.1)\">\r\n       <use xlink:href=\"#DejaVuSans-53\"/>\r\n       <use x=\"63.623047\" xlink:href=\"#DejaVuSans-53\"/>\r\n      </g>\r\n     </g>\r\n    </g>\r\n    <g id=\"xtick_57\">\r\n     <g id=\"line2d_57\">\r\n      <g>\r\n       <use style=\"stroke:#000000;stroke-width:0.8;\" x=\"302.589949\" xlink:href=\"#m0db6b4c7df\" y=\"753.499219\"/>\r\n      </g>\r\n     </g>\r\n     <g id=\"text_57\">\r\n      <!-- 56 -->\r\n      <g transform=\"translate(305.349324 773.224219)rotate(-90)scale(0.1 -0.1)\">\r\n       <use xlink:href=\"#DejaVuSans-53\"/>\r\n       <use x=\"63.623047\" xlink:href=\"#DejaVuSans-54\"/>\r\n      </g>\r\n     </g>\r\n    </g>\r\n    <g id=\"xtick_58\">\r\n     <g id=\"line2d_58\">\r\n      <g>\r\n       <use style=\"stroke:#000000;stroke-width:0.8;\" x=\"307.114274\" xlink:href=\"#m0db6b4c7df\" y=\"753.499219\"/>\r\n      </g>\r\n     </g>\r\n     <g id=\"text_58\">\r\n      <!-- 57 -->\r\n      <g transform=\"translate(309.873649 773.224219)rotate(-90)scale(0.1 -0.1)\">\r\n       <use xlink:href=\"#DejaVuSans-53\"/>\r\n       <use x=\"63.623047\" xlink:href=\"#DejaVuSans-55\"/>\r\n      </g>\r\n     </g>\r\n    </g>\r\n    <g id=\"xtick_59\">\r\n     <g id=\"line2d_59\">\r\n      <g>\r\n       <use style=\"stroke:#000000;stroke-width:0.8;\" x=\"311.638598\" xlink:href=\"#m0db6b4c7df\" y=\"753.499219\"/>\r\n      </g>\r\n     </g>\r\n     <g id=\"text_59\">\r\n      <!-- 58 -->\r\n      <g transform=\"translate(314.397973 773.224219)rotate(-90)scale(0.1 -0.1)\">\r\n       <use xlink:href=\"#DejaVuSans-53\"/>\r\n       <use x=\"63.623047\" xlink:href=\"#DejaVuSans-56\"/>\r\n      </g>\r\n     </g>\r\n    </g>\r\n    <g id=\"xtick_60\">\r\n     <g id=\"line2d_60\">\r\n      <g>\r\n       <use style=\"stroke:#000000;stroke-width:0.8;\" x=\"316.162922\" xlink:href=\"#m0db6b4c7df\" y=\"753.499219\"/>\r\n      </g>\r\n     </g>\r\n     <g id=\"text_60\">\r\n      <!-- 59 -->\r\n      <g transform=\"translate(318.922297 773.224219)rotate(-90)scale(0.1 -0.1)\">\r\n       <use xlink:href=\"#DejaVuSans-53\"/>\r\n       <use x=\"63.623047\" xlink:href=\"#DejaVuSans-57\"/>\r\n      </g>\r\n     </g>\r\n    </g>\r\n    <g id=\"xtick_61\">\r\n     <g id=\"line2d_61\">\r\n      <g>\r\n       <use style=\"stroke:#000000;stroke-width:0.8;\" x=\"320.687247\" xlink:href=\"#m0db6b4c7df\" y=\"753.499219\"/>\r\n      </g>\r\n     </g>\r\n     <g id=\"text_61\">\r\n      <!-- 60 -->\r\n      <g transform=\"translate(323.446622 773.224219)rotate(-90)scale(0.1 -0.1)\">\r\n       <use xlink:href=\"#DejaVuSans-54\"/>\r\n       <use x=\"63.623047\" xlink:href=\"#DejaVuSans-48\"/>\r\n      </g>\r\n     </g>\r\n    </g>\r\n    <g id=\"xtick_62\">\r\n     <g id=\"line2d_62\">\r\n      <g>\r\n       <use style=\"stroke:#000000;stroke-width:0.8;\" x=\"325.211571\" xlink:href=\"#m0db6b4c7df\" y=\"753.499219\"/>\r\n      </g>\r\n     </g>\r\n     <g id=\"text_62\">\r\n      <!-- 61 -->\r\n      <g transform=\"translate(327.970946 773.224219)rotate(-90)scale(0.1 -0.1)\">\r\n       <use xlink:href=\"#DejaVuSans-54\"/>\r\n       <use x=\"63.623047\" xlink:href=\"#DejaVuSans-49\"/>\r\n      </g>\r\n     </g>\r\n    </g>\r\n    <g id=\"xtick_63\">\r\n     <g id=\"line2d_63\">\r\n      <g>\r\n       <use style=\"stroke:#000000;stroke-width:0.8;\" x=\"329.735895\" xlink:href=\"#m0db6b4c7df\" y=\"753.499219\"/>\r\n      </g>\r\n     </g>\r\n     <g id=\"text_63\">\r\n      <!-- 62 -->\r\n      <g transform=\"translate(332.49527 773.224219)rotate(-90)scale(0.1 -0.1)\">\r\n       <use xlink:href=\"#DejaVuSans-54\"/>\r\n       <use x=\"63.623047\" xlink:href=\"#DejaVuSans-50\"/>\r\n      </g>\r\n     </g>\r\n    </g>\r\n    <g id=\"xtick_64\">\r\n     <g id=\"line2d_64\">\r\n      <g>\r\n       <use style=\"stroke:#000000;stroke-width:0.8;\" x=\"334.26022\" xlink:href=\"#m0db6b4c7df\" y=\"753.499219\"/>\r\n      </g>\r\n     </g>\r\n     <g id=\"text_64\">\r\n      <!-- 63 -->\r\n      <g transform=\"translate(337.019595 773.224219)rotate(-90)scale(0.1 -0.1)\">\r\n       <use xlink:href=\"#DejaVuSans-54\"/>\r\n       <use x=\"63.623047\" xlink:href=\"#DejaVuSans-51\"/>\r\n      </g>\r\n     </g>\r\n    </g>\r\n    <g id=\"xtick_65\">\r\n     <g id=\"line2d_65\">\r\n      <g>\r\n       <use style=\"stroke:#000000;stroke-width:0.8;\" x=\"338.784544\" xlink:href=\"#m0db6b4c7df\" y=\"753.499219\"/>\r\n      </g>\r\n     </g>\r\n     <g id=\"text_65\">\r\n      <!-- 64 -->\r\n      <g transform=\"translate(341.543919 773.224219)rotate(-90)scale(0.1 -0.1)\">\r\n       <use xlink:href=\"#DejaVuSans-54\"/>\r\n       <use x=\"63.623047\" xlink:href=\"#DejaVuSans-52\"/>\r\n      </g>\r\n     </g>\r\n    </g>\r\n    <g id=\"xtick_66\">\r\n     <g id=\"line2d_66\">\r\n      <g>\r\n       <use style=\"stroke:#000000;stroke-width:0.8;\" x=\"343.308868\" xlink:href=\"#m0db6b4c7df\" y=\"753.499219\"/>\r\n      </g>\r\n     </g>\r\n     <g id=\"text_66\">\r\n      <!-- 65 -->\r\n      <g transform=\"translate(346.068243 773.224219)rotate(-90)scale(0.1 -0.1)\">\r\n       <use xlink:href=\"#DejaVuSans-54\"/>\r\n       <use x=\"63.623047\" xlink:href=\"#DejaVuSans-53\"/>\r\n      </g>\r\n     </g>\r\n    </g>\r\n    <g id=\"xtick_67\">\r\n     <g id=\"line2d_67\">\r\n      <g>\r\n       <use style=\"stroke:#000000;stroke-width:0.8;\" x=\"347.833193\" xlink:href=\"#m0db6b4c7df\" y=\"753.499219\"/>\r\n      </g>\r\n     </g>\r\n     <g id=\"text_67\">\r\n      <!-- 66 -->\r\n      <g transform=\"translate(350.592568 773.224219)rotate(-90)scale(0.1 -0.1)\">\r\n       <use xlink:href=\"#DejaVuSans-54\"/>\r\n       <use x=\"63.623047\" xlink:href=\"#DejaVuSans-54\"/>\r\n      </g>\r\n     </g>\r\n    </g>\r\n    <g id=\"xtick_68\">\r\n     <g id=\"line2d_68\">\r\n      <g>\r\n       <use style=\"stroke:#000000;stroke-width:0.8;\" x=\"352.357517\" xlink:href=\"#m0db6b4c7df\" y=\"753.499219\"/>\r\n      </g>\r\n     </g>\r\n     <g id=\"text_68\">\r\n      <!-- 67 -->\r\n      <g transform=\"translate(355.116892 773.224219)rotate(-90)scale(0.1 -0.1)\">\r\n       <use xlink:href=\"#DejaVuSans-54\"/>\r\n       <use x=\"63.623047\" xlink:href=\"#DejaVuSans-55\"/>\r\n      </g>\r\n     </g>\r\n    </g>\r\n    <g id=\"xtick_69\">\r\n     <g id=\"line2d_69\">\r\n      <g>\r\n       <use style=\"stroke:#000000;stroke-width:0.8;\" x=\"356.881841\" xlink:href=\"#m0db6b4c7df\" y=\"753.499219\"/>\r\n      </g>\r\n     </g>\r\n     <g id=\"text_69\">\r\n      <!-- 68 -->\r\n      <g transform=\"translate(359.641216 773.224219)rotate(-90)scale(0.1 -0.1)\">\r\n       <use xlink:href=\"#DejaVuSans-54\"/>\r\n       <use x=\"63.623047\" xlink:href=\"#DejaVuSans-56\"/>\r\n      </g>\r\n     </g>\r\n    </g>\r\n    <g id=\"xtick_70\">\r\n     <g id=\"line2d_70\">\r\n      <g>\r\n       <use style=\"stroke:#000000;stroke-width:0.8;\" x=\"361.406166\" xlink:href=\"#m0db6b4c7df\" y=\"753.499219\"/>\r\n      </g>\r\n     </g>\r\n     <g id=\"text_70\">\r\n      <!-- 69 -->\r\n      <g transform=\"translate(364.165541 773.224219)rotate(-90)scale(0.1 -0.1)\">\r\n       <use xlink:href=\"#DejaVuSans-54\"/>\r\n       <use x=\"63.623047\" xlink:href=\"#DejaVuSans-57\"/>\r\n      </g>\r\n     </g>\r\n    </g>\r\n    <g id=\"xtick_71\">\r\n     <g id=\"line2d_71\">\r\n      <g>\r\n       <use style=\"stroke:#000000;stroke-width:0.8;\" x=\"365.93049\" xlink:href=\"#m0db6b4c7df\" y=\"753.499219\"/>\r\n      </g>\r\n     </g>\r\n     <g id=\"text_71\">\r\n      <!-- 70 -->\r\n      <g transform=\"translate(368.689865 773.224219)rotate(-90)scale(0.1 -0.1)\">\r\n       <use xlink:href=\"#DejaVuSans-55\"/>\r\n       <use x=\"63.623047\" xlink:href=\"#DejaVuSans-48\"/>\r\n      </g>\r\n     </g>\r\n    </g>\r\n    <g id=\"xtick_72\">\r\n     <g id=\"line2d_72\">\r\n      <g>\r\n       <use style=\"stroke:#000000;stroke-width:0.8;\" x=\"370.454814\" xlink:href=\"#m0db6b4c7df\" y=\"753.499219\"/>\r\n      </g>\r\n     </g>\r\n     <g id=\"text_72\">\r\n      <!-- 71 -->\r\n      <g transform=\"translate(373.214189 773.224219)rotate(-90)scale(0.1 -0.1)\">\r\n       <use xlink:href=\"#DejaVuSans-55\"/>\r\n       <use x=\"63.623047\" xlink:href=\"#DejaVuSans-49\"/>\r\n      </g>\r\n     </g>\r\n    </g>\r\n    <g id=\"xtick_73\">\r\n     <g id=\"line2d_73\">\r\n      <g>\r\n       <use style=\"stroke:#000000;stroke-width:0.8;\" x=\"374.979139\" xlink:href=\"#m0db6b4c7df\" y=\"753.499219\"/>\r\n      </g>\r\n     </g>\r\n     <g id=\"text_73\">\r\n      <!-- 72 -->\r\n      <g transform=\"translate(377.738514 773.224219)rotate(-90)scale(0.1 -0.1)\">\r\n       <use xlink:href=\"#DejaVuSans-55\"/>\r\n       <use x=\"63.623047\" xlink:href=\"#DejaVuSans-50\"/>\r\n      </g>\r\n     </g>\r\n    </g>\r\n    <g id=\"xtick_74\">\r\n     <g id=\"line2d_74\">\r\n      <g>\r\n       <use style=\"stroke:#000000;stroke-width:0.8;\" x=\"379.503463\" xlink:href=\"#m0db6b4c7df\" y=\"753.499219\"/>\r\n      </g>\r\n     </g>\r\n     <g id=\"text_74\">\r\n      <!-- 73 -->\r\n      <g transform=\"translate(382.262838 773.224219)rotate(-90)scale(0.1 -0.1)\">\r\n       <use xlink:href=\"#DejaVuSans-55\"/>\r\n       <use x=\"63.623047\" xlink:href=\"#DejaVuSans-51\"/>\r\n      </g>\r\n     </g>\r\n    </g>\r\n    <g id=\"xtick_75\">\r\n     <g id=\"line2d_75\">\r\n      <g>\r\n       <use style=\"stroke:#000000;stroke-width:0.8;\" x=\"384.027787\" xlink:href=\"#m0db6b4c7df\" y=\"753.499219\"/>\r\n      </g>\r\n     </g>\r\n     <g id=\"text_75\">\r\n      <!-- 74 -->\r\n      <g transform=\"translate(386.787162 773.224219)rotate(-90)scale(0.1 -0.1)\">\r\n       <use xlink:href=\"#DejaVuSans-55\"/>\r\n       <use x=\"63.623047\" xlink:href=\"#DejaVuSans-52\"/>\r\n      </g>\r\n     </g>\r\n    </g>\r\n    <g id=\"xtick_76\">\r\n     <g id=\"line2d_76\">\r\n      <g>\r\n       <use style=\"stroke:#000000;stroke-width:0.8;\" x=\"388.552111\" xlink:href=\"#m0db6b4c7df\" y=\"753.499219\"/>\r\n      </g>\r\n     </g>\r\n     <g id=\"text_76\">\r\n      <!-- 75 -->\r\n      <g transform=\"translate(391.311486 773.224219)rotate(-90)scale(0.1 -0.1)\">\r\n       <use xlink:href=\"#DejaVuSans-55\"/>\r\n       <use x=\"63.623047\" xlink:href=\"#DejaVuSans-53\"/>\r\n      </g>\r\n     </g>\r\n    </g>\r\n    <g id=\"xtick_77\">\r\n     <g id=\"line2d_77\">\r\n      <g>\r\n       <use style=\"stroke:#000000;stroke-width:0.8;\" x=\"393.076436\" xlink:href=\"#m0db6b4c7df\" y=\"753.499219\"/>\r\n      </g>\r\n     </g>\r\n     <g id=\"text_77\">\r\n      <!-- 76 -->\r\n      <g transform=\"translate(395.835811 773.224219)rotate(-90)scale(0.1 -0.1)\">\r\n       <use xlink:href=\"#DejaVuSans-55\"/>\r\n       <use x=\"63.623047\" xlink:href=\"#DejaVuSans-54\"/>\r\n      </g>\r\n     </g>\r\n    </g>\r\n    <g id=\"xtick_78\">\r\n     <g id=\"line2d_78\">\r\n      <g>\r\n       <use style=\"stroke:#000000;stroke-width:0.8;\" x=\"397.60076\" xlink:href=\"#m0db6b4c7df\" y=\"753.499219\"/>\r\n      </g>\r\n     </g>\r\n     <g id=\"text_78\">\r\n      <!-- 77 -->\r\n      <g transform=\"translate(400.360135 773.224219)rotate(-90)scale(0.1 -0.1)\">\r\n       <use xlink:href=\"#DejaVuSans-55\"/>\r\n       <use x=\"63.623047\" xlink:href=\"#DejaVuSans-55\"/>\r\n      </g>\r\n     </g>\r\n    </g>\r\n    <g id=\"xtick_79\">\r\n     <g id=\"line2d_79\">\r\n      <g>\r\n       <use style=\"stroke:#000000;stroke-width:0.8;\" x=\"402.125084\" xlink:href=\"#m0db6b4c7df\" y=\"753.499219\"/>\r\n      </g>\r\n     </g>\r\n     <g id=\"text_79\">\r\n      <!-- 78 -->\r\n      <g transform=\"translate(404.884459 773.224219)rotate(-90)scale(0.1 -0.1)\">\r\n       <use xlink:href=\"#DejaVuSans-55\"/>\r\n       <use x=\"63.623047\" xlink:href=\"#DejaVuSans-56\"/>\r\n      </g>\r\n     </g>\r\n    </g>\r\n    <g id=\"xtick_80\">\r\n     <g id=\"line2d_80\">\r\n      <g>\r\n       <use style=\"stroke:#000000;stroke-width:0.8;\" x=\"406.649409\" xlink:href=\"#m0db6b4c7df\" y=\"753.499219\"/>\r\n      </g>\r\n     </g>\r\n     <g id=\"text_80\">\r\n      <!-- 79 -->\r\n      <g transform=\"translate(409.408784 773.224219)rotate(-90)scale(0.1 -0.1)\">\r\n       <use xlink:href=\"#DejaVuSans-55\"/>\r\n       <use x=\"63.623047\" xlink:href=\"#DejaVuSans-57\"/>\r\n      </g>\r\n     </g>\r\n    </g>\r\n    <g id=\"xtick_81\">\r\n     <g id=\"line2d_81\">\r\n      <g>\r\n       <use style=\"stroke:#000000;stroke-width:0.8;\" x=\"411.173733\" xlink:href=\"#m0db6b4c7df\" y=\"753.499219\"/>\r\n      </g>\r\n     </g>\r\n     <g id=\"text_81\">\r\n      <!-- 80 -->\r\n      <g transform=\"translate(413.933108 773.224219)rotate(-90)scale(0.1 -0.1)\">\r\n       <use xlink:href=\"#DejaVuSans-56\"/>\r\n       <use x=\"63.623047\" xlink:href=\"#DejaVuSans-48\"/>\r\n      </g>\r\n     </g>\r\n    </g>\r\n    <g id=\"xtick_82\">\r\n     <g id=\"line2d_82\">\r\n      <g>\r\n       <use style=\"stroke:#000000;stroke-width:0.8;\" x=\"415.698057\" xlink:href=\"#m0db6b4c7df\" y=\"753.499219\"/>\r\n      </g>\r\n     </g>\r\n     <g id=\"text_82\">\r\n      <!-- 81 -->\r\n      <g transform=\"translate(418.457432 773.224219)rotate(-90)scale(0.1 -0.1)\">\r\n       <use xlink:href=\"#DejaVuSans-56\"/>\r\n       <use x=\"63.623047\" xlink:href=\"#DejaVuSans-49\"/>\r\n      </g>\r\n     </g>\r\n    </g>\r\n    <g id=\"xtick_83\">\r\n     <g id=\"line2d_83\">\r\n      <g>\r\n       <use style=\"stroke:#000000;stroke-width:0.8;\" x=\"420.222382\" xlink:href=\"#m0db6b4c7df\" y=\"753.499219\"/>\r\n      </g>\r\n     </g>\r\n     <g id=\"text_83\">\r\n      <!-- 82 -->\r\n      <g transform=\"translate(422.981757 773.224219)rotate(-90)scale(0.1 -0.1)\">\r\n       <use xlink:href=\"#DejaVuSans-56\"/>\r\n       <use x=\"63.623047\" xlink:href=\"#DejaVuSans-50\"/>\r\n      </g>\r\n     </g>\r\n    </g>\r\n    <g id=\"xtick_84\">\r\n     <g id=\"line2d_84\">\r\n      <g>\r\n       <use style=\"stroke:#000000;stroke-width:0.8;\" x=\"424.746706\" xlink:href=\"#m0db6b4c7df\" y=\"753.499219\"/>\r\n      </g>\r\n     </g>\r\n     <g id=\"text_84\">\r\n      <!-- 83 -->\r\n      <g transform=\"translate(427.506081 773.224219)rotate(-90)scale(0.1 -0.1)\">\r\n       <use xlink:href=\"#DejaVuSans-56\"/>\r\n       <use x=\"63.623047\" xlink:href=\"#DejaVuSans-51\"/>\r\n      </g>\r\n     </g>\r\n    </g>\r\n    <g id=\"xtick_85\">\r\n     <g id=\"line2d_85\">\r\n      <g>\r\n       <use style=\"stroke:#000000;stroke-width:0.8;\" x=\"429.27103\" xlink:href=\"#m0db6b4c7df\" y=\"753.499219\"/>\r\n      </g>\r\n     </g>\r\n     <g id=\"text_85\">\r\n      <!-- 84 -->\r\n      <g transform=\"translate(432.030405 773.224219)rotate(-90)scale(0.1 -0.1)\">\r\n       <use xlink:href=\"#DejaVuSans-56\"/>\r\n       <use x=\"63.623047\" xlink:href=\"#DejaVuSans-52\"/>\r\n      </g>\r\n     </g>\r\n    </g>\r\n    <g id=\"xtick_86\">\r\n     <g id=\"line2d_86\">\r\n      <g>\r\n       <use style=\"stroke:#000000;stroke-width:0.8;\" x=\"433.795355\" xlink:href=\"#m0db6b4c7df\" y=\"753.499219\"/>\r\n      </g>\r\n     </g>\r\n     <g id=\"text_86\">\r\n      <!-- 85 -->\r\n      <g transform=\"translate(436.55473 773.224219)rotate(-90)scale(0.1 -0.1)\">\r\n       <use xlink:href=\"#DejaVuSans-56\"/>\r\n       <use x=\"63.623047\" xlink:href=\"#DejaVuSans-53\"/>\r\n      </g>\r\n     </g>\r\n    </g>\r\n    <g id=\"xtick_87\">\r\n     <g id=\"line2d_87\">\r\n      <g>\r\n       <use style=\"stroke:#000000;stroke-width:0.8;\" x=\"438.319679\" xlink:href=\"#m0db6b4c7df\" y=\"753.499219\"/>\r\n      </g>\r\n     </g>\r\n     <g id=\"text_87\">\r\n      <!-- 86 -->\r\n      <g transform=\"translate(441.079054 773.224219)rotate(-90)scale(0.1 -0.1)\">\r\n       <use xlink:href=\"#DejaVuSans-56\"/>\r\n       <use x=\"63.623047\" xlink:href=\"#DejaVuSans-54\"/>\r\n      </g>\r\n     </g>\r\n    </g>\r\n    <g id=\"xtick_88\">\r\n     <g id=\"line2d_88\">\r\n      <g>\r\n       <use style=\"stroke:#000000;stroke-width:0.8;\" x=\"442.844003\" xlink:href=\"#m0db6b4c7df\" y=\"753.499219\"/>\r\n      </g>\r\n     </g>\r\n     <g id=\"text_88\">\r\n      <!-- 87 -->\r\n      <g transform=\"translate(445.603378 773.224219)rotate(-90)scale(0.1 -0.1)\">\r\n       <use xlink:href=\"#DejaVuSans-56\"/>\r\n       <use x=\"63.623047\" xlink:href=\"#DejaVuSans-55\"/>\r\n      </g>\r\n     </g>\r\n    </g>\r\n    <g id=\"xtick_89\">\r\n     <g id=\"line2d_89\">\r\n      <g>\r\n       <use style=\"stroke:#000000;stroke-width:0.8;\" x=\"447.368328\" xlink:href=\"#m0db6b4c7df\" y=\"753.499219\"/>\r\n      </g>\r\n     </g>\r\n     <g id=\"text_89\">\r\n      <!-- 88 -->\r\n      <g transform=\"translate(450.127703 773.224219)rotate(-90)scale(0.1 -0.1)\">\r\n       <use xlink:href=\"#DejaVuSans-56\"/>\r\n       <use x=\"63.623047\" xlink:href=\"#DejaVuSans-56\"/>\r\n      </g>\r\n     </g>\r\n    </g>\r\n    <g id=\"xtick_90\">\r\n     <g id=\"line2d_90\">\r\n      <g>\r\n       <use style=\"stroke:#000000;stroke-width:0.8;\" x=\"451.892652\" xlink:href=\"#m0db6b4c7df\" y=\"753.499219\"/>\r\n      </g>\r\n     </g>\r\n     <g id=\"text_90\">\r\n      <!-- 89 -->\r\n      <g transform=\"translate(454.652027 773.224219)rotate(-90)scale(0.1 -0.1)\">\r\n       <use xlink:href=\"#DejaVuSans-56\"/>\r\n       <use x=\"63.623047\" xlink:href=\"#DejaVuSans-57\"/>\r\n      </g>\r\n     </g>\r\n    </g>\r\n    <g id=\"xtick_91\">\r\n     <g id=\"line2d_91\">\r\n      <g>\r\n       <use style=\"stroke:#000000;stroke-width:0.8;\" x=\"456.416976\" xlink:href=\"#m0db6b4c7df\" y=\"753.499219\"/>\r\n      </g>\r\n     </g>\r\n     <g id=\"text_91\">\r\n      <!-- 90 -->\r\n      <g transform=\"translate(459.176351 773.224219)rotate(-90)scale(0.1 -0.1)\">\r\n       <use xlink:href=\"#DejaVuSans-57\"/>\r\n       <use x=\"63.623047\" xlink:href=\"#DejaVuSans-48\"/>\r\n      </g>\r\n     </g>\r\n    </g>\r\n    <g id=\"xtick_92\">\r\n     <g id=\"line2d_92\">\r\n      <g>\r\n       <use style=\"stroke:#000000;stroke-width:0.8;\" x=\"460.941301\" xlink:href=\"#m0db6b4c7df\" y=\"753.499219\"/>\r\n      </g>\r\n     </g>\r\n     <g id=\"text_92\">\r\n      <!-- 91 -->\r\n      <g transform=\"translate(463.700676 773.224219)rotate(-90)scale(0.1 -0.1)\">\r\n       <use xlink:href=\"#DejaVuSans-57\"/>\r\n       <use x=\"63.623047\" xlink:href=\"#DejaVuSans-49\"/>\r\n      </g>\r\n     </g>\r\n    </g>\r\n    <g id=\"xtick_93\">\r\n     <g id=\"line2d_93\">\r\n      <g>\r\n       <use style=\"stroke:#000000;stroke-width:0.8;\" x=\"465.465625\" xlink:href=\"#m0db6b4c7df\" y=\"753.499219\"/>\r\n      </g>\r\n     </g>\r\n     <g id=\"text_93\">\r\n      <!-- 92 -->\r\n      <g transform=\"translate(468.225 773.224219)rotate(-90)scale(0.1 -0.1)\">\r\n       <use xlink:href=\"#DejaVuSans-57\"/>\r\n       <use x=\"63.623047\" xlink:href=\"#DejaVuSans-50\"/>\r\n      </g>\r\n     </g>\r\n    </g>\r\n    <g id=\"xtick_94\">\r\n     <g id=\"line2d_94\">\r\n      <g>\r\n       <use style=\"stroke:#000000;stroke-width:0.8;\" x=\"469.989949\" xlink:href=\"#m0db6b4c7df\" y=\"753.499219\"/>\r\n      </g>\r\n     </g>\r\n     <g id=\"text_94\">\r\n      <!-- 93 -->\r\n      <g transform=\"translate(472.749324 773.224219)rotate(-90)scale(0.1 -0.1)\">\r\n       <use xlink:href=\"#DejaVuSans-57\"/>\r\n       <use x=\"63.623047\" xlink:href=\"#DejaVuSans-51\"/>\r\n      </g>\r\n     </g>\r\n    </g>\r\n    <g id=\"xtick_95\">\r\n     <g id=\"line2d_95\">\r\n      <g>\r\n       <use style=\"stroke:#000000;stroke-width:0.8;\" x=\"474.514274\" xlink:href=\"#m0db6b4c7df\" y=\"753.499219\"/>\r\n      </g>\r\n     </g>\r\n     <g id=\"text_95\">\r\n      <!-- 94 -->\r\n      <g transform=\"translate(477.273649 773.224219)rotate(-90)scale(0.1 -0.1)\">\r\n       <use xlink:href=\"#DejaVuSans-57\"/>\r\n       <use x=\"63.623047\" xlink:href=\"#DejaVuSans-52\"/>\r\n      </g>\r\n     </g>\r\n    </g>\r\n    <g id=\"xtick_96\">\r\n     <g id=\"line2d_96\">\r\n      <g>\r\n       <use style=\"stroke:#000000;stroke-width:0.8;\" x=\"479.038598\" xlink:href=\"#m0db6b4c7df\" y=\"753.499219\"/>\r\n      </g>\r\n     </g>\r\n     <g id=\"text_96\">\r\n      <!-- 95 -->\r\n      <g transform=\"translate(481.797973 773.224219)rotate(-90)scale(0.1 -0.1)\">\r\n       <use xlink:href=\"#DejaVuSans-57\"/>\r\n       <use x=\"63.623047\" xlink:href=\"#DejaVuSans-53\"/>\r\n      </g>\r\n     </g>\r\n    </g>\r\n    <g id=\"xtick_97\">\r\n     <g id=\"line2d_97\">\r\n      <g>\r\n       <use style=\"stroke:#000000;stroke-width:0.8;\" x=\"483.562922\" xlink:href=\"#m0db6b4c7df\" y=\"753.499219\"/>\r\n      </g>\r\n     </g>\r\n     <g id=\"text_97\">\r\n      <!-- 96 -->\r\n      <g transform=\"translate(486.322297 773.224219)rotate(-90)scale(0.1 -0.1)\">\r\n       <use xlink:href=\"#DejaVuSans-57\"/>\r\n       <use x=\"63.623047\" xlink:href=\"#DejaVuSans-54\"/>\r\n      </g>\r\n     </g>\r\n    </g>\r\n    <g id=\"xtick_98\">\r\n     <g id=\"line2d_98\">\r\n      <g>\r\n       <use style=\"stroke:#000000;stroke-width:0.8;\" x=\"488.087247\" xlink:href=\"#m0db6b4c7df\" y=\"753.499219\"/>\r\n      </g>\r\n     </g>\r\n     <g id=\"text_98\">\r\n      <!-- 97 -->\r\n      <g transform=\"translate(490.846622 773.224219)rotate(-90)scale(0.1 -0.1)\">\r\n       <use xlink:href=\"#DejaVuSans-57\"/>\r\n       <use x=\"63.623047\" xlink:href=\"#DejaVuSans-55\"/>\r\n      </g>\r\n     </g>\r\n    </g>\r\n    <g id=\"xtick_99\">\r\n     <g id=\"line2d_99\">\r\n      <g>\r\n       <use style=\"stroke:#000000;stroke-width:0.8;\" x=\"492.611571\" xlink:href=\"#m0db6b4c7df\" y=\"753.499219\"/>\r\n      </g>\r\n     </g>\r\n     <g id=\"text_99\">\r\n      <!-- 98 -->\r\n      <g transform=\"translate(495.370946 773.224219)rotate(-90)scale(0.1 -0.1)\">\r\n       <use xlink:href=\"#DejaVuSans-57\"/>\r\n       <use x=\"63.623047\" xlink:href=\"#DejaVuSans-56\"/>\r\n      </g>\r\n     </g>\r\n    </g>\r\n    <g id=\"xtick_100\">\r\n     <g id=\"line2d_100\">\r\n      <g>\r\n       <use style=\"stroke:#000000;stroke-width:0.8;\" x=\"497.135895\" xlink:href=\"#m0db6b4c7df\" y=\"753.499219\"/>\r\n      </g>\r\n     </g>\r\n     <g id=\"text_100\">\r\n      <!-- 99 -->\r\n      <g transform=\"translate(499.89527 773.224219)rotate(-90)scale(0.1 -0.1)\">\r\n       <use xlink:href=\"#DejaVuSans-57\"/>\r\n       <use x=\"63.623047\" xlink:href=\"#DejaVuSans-57\"/>\r\n      </g>\r\n     </g>\r\n    </g>\r\n    <g id=\"xtick_101\">\r\n     <g id=\"line2d_101\">\r\n      <g>\r\n       <use style=\"stroke:#000000;stroke-width:0.8;\" x=\"501.66022\" xlink:href=\"#m0db6b4c7df\" y=\"753.499219\"/>\r\n      </g>\r\n     </g>\r\n     <g id=\"text_101\">\r\n      <!-- 100 -->\r\n      <g transform=\"translate(504.419595 779.586719)rotate(-90)scale(0.1 -0.1)\">\r\n       <use xlink:href=\"#DejaVuSans-49\"/>\r\n       <use x=\"63.623047\" xlink:href=\"#DejaVuSans-48\"/>\r\n       <use x=\"127.246094\" xlink:href=\"#DejaVuSans-48\"/>\r\n      </g>\r\n     </g>\r\n    </g>\r\n    <g id=\"xtick_102\">\r\n     <g id=\"line2d_102\">\r\n      <g>\r\n       <use style=\"stroke:#000000;stroke-width:0.8;\" x=\"506.184544\" xlink:href=\"#m0db6b4c7df\" y=\"753.499219\"/>\r\n      </g>\r\n     </g>\r\n     <g id=\"text_102\">\r\n      <!-- 101 -->\r\n      <g transform=\"translate(508.943919 779.586719)rotate(-90)scale(0.1 -0.1)\">\r\n       <use xlink:href=\"#DejaVuSans-49\"/>\r\n       <use x=\"63.623047\" xlink:href=\"#DejaVuSans-48\"/>\r\n       <use x=\"127.246094\" xlink:href=\"#DejaVuSans-49\"/>\r\n      </g>\r\n     </g>\r\n    </g>\r\n    <g id=\"xtick_103\">\r\n     <g id=\"line2d_103\">\r\n      <g>\r\n       <use style=\"stroke:#000000;stroke-width:0.8;\" x=\"510.708868\" xlink:href=\"#m0db6b4c7df\" y=\"753.499219\"/>\r\n      </g>\r\n     </g>\r\n     <g id=\"text_103\">\r\n      <!-- 102 -->\r\n      <g transform=\"translate(513.468243 779.586719)rotate(-90)scale(0.1 -0.1)\">\r\n       <use xlink:href=\"#DejaVuSans-49\"/>\r\n       <use x=\"63.623047\" xlink:href=\"#DejaVuSans-48\"/>\r\n       <use x=\"127.246094\" xlink:href=\"#DejaVuSans-50\"/>\r\n      </g>\r\n     </g>\r\n    </g>\r\n    <g id=\"xtick_104\">\r\n     <g id=\"line2d_104\">\r\n      <g>\r\n       <use style=\"stroke:#000000;stroke-width:0.8;\" x=\"515.233193\" xlink:href=\"#m0db6b4c7df\" y=\"753.499219\"/>\r\n      </g>\r\n     </g>\r\n     <g id=\"text_104\">\r\n      <!-- 103 -->\r\n      <g transform=\"translate(517.992568 779.586719)rotate(-90)scale(0.1 -0.1)\">\r\n       <use xlink:href=\"#DejaVuSans-49\"/>\r\n       <use x=\"63.623047\" xlink:href=\"#DejaVuSans-48\"/>\r\n       <use x=\"127.246094\" xlink:href=\"#DejaVuSans-51\"/>\r\n      </g>\r\n     </g>\r\n    </g>\r\n    <g id=\"xtick_105\">\r\n     <g id=\"line2d_105\">\r\n      <g>\r\n       <use style=\"stroke:#000000;stroke-width:0.8;\" x=\"519.757517\" xlink:href=\"#m0db6b4c7df\" y=\"753.499219\"/>\r\n      </g>\r\n     </g>\r\n     <g id=\"text_105\">\r\n      <!-- 104 -->\r\n      <g transform=\"translate(522.516892 779.586719)rotate(-90)scale(0.1 -0.1)\">\r\n       <use xlink:href=\"#DejaVuSans-49\"/>\r\n       <use x=\"63.623047\" xlink:href=\"#DejaVuSans-48\"/>\r\n       <use x=\"127.246094\" xlink:href=\"#DejaVuSans-52\"/>\r\n      </g>\r\n     </g>\r\n    </g>\r\n    <g id=\"xtick_106\">\r\n     <g id=\"line2d_106\">\r\n      <g>\r\n       <use style=\"stroke:#000000;stroke-width:0.8;\" x=\"524.281841\" xlink:href=\"#m0db6b4c7df\" y=\"753.499219\"/>\r\n      </g>\r\n     </g>\r\n     <g id=\"text_106\">\r\n      <!-- 105 -->\r\n      <g transform=\"translate(527.041216 779.586719)rotate(-90)scale(0.1 -0.1)\">\r\n       <use xlink:href=\"#DejaVuSans-49\"/>\r\n       <use x=\"63.623047\" xlink:href=\"#DejaVuSans-48\"/>\r\n       <use x=\"127.246094\" xlink:href=\"#DejaVuSans-53\"/>\r\n      </g>\r\n     </g>\r\n    </g>\r\n    <g id=\"xtick_107\">\r\n     <g id=\"line2d_107\">\r\n      <g>\r\n       <use style=\"stroke:#000000;stroke-width:0.8;\" x=\"528.806166\" xlink:href=\"#m0db6b4c7df\" y=\"753.499219\"/>\r\n      </g>\r\n     </g>\r\n     <g id=\"text_107\">\r\n      <!-- 106 -->\r\n      <g transform=\"translate(531.565541 779.586719)rotate(-90)scale(0.1 -0.1)\">\r\n       <use xlink:href=\"#DejaVuSans-49\"/>\r\n       <use x=\"63.623047\" xlink:href=\"#DejaVuSans-48\"/>\r\n       <use x=\"127.246094\" xlink:href=\"#DejaVuSans-54\"/>\r\n      </g>\r\n     </g>\r\n    </g>\r\n    <g id=\"xtick_108\">\r\n     <g id=\"line2d_108\">\r\n      <g>\r\n       <use style=\"stroke:#000000;stroke-width:0.8;\" x=\"533.33049\" xlink:href=\"#m0db6b4c7df\" y=\"753.499219\"/>\r\n      </g>\r\n     </g>\r\n     <g id=\"text_108\">\r\n      <!-- 107 -->\r\n      <g transform=\"translate(536.089865 779.586719)rotate(-90)scale(0.1 -0.1)\">\r\n       <use xlink:href=\"#DejaVuSans-49\"/>\r\n       <use x=\"63.623047\" xlink:href=\"#DejaVuSans-48\"/>\r\n       <use x=\"127.246094\" xlink:href=\"#DejaVuSans-55\"/>\r\n      </g>\r\n     </g>\r\n    </g>\r\n    <g id=\"xtick_109\">\r\n     <g id=\"line2d_109\">\r\n      <g>\r\n       <use style=\"stroke:#000000;stroke-width:0.8;\" x=\"537.854814\" xlink:href=\"#m0db6b4c7df\" y=\"753.499219\"/>\r\n      </g>\r\n     </g>\r\n     <g id=\"text_109\">\r\n      <!-- 108 -->\r\n      <g transform=\"translate(540.614189 779.586719)rotate(-90)scale(0.1 -0.1)\">\r\n       <use xlink:href=\"#DejaVuSans-49\"/>\r\n       <use x=\"63.623047\" xlink:href=\"#DejaVuSans-48\"/>\r\n       <use x=\"127.246094\" xlink:href=\"#DejaVuSans-56\"/>\r\n      </g>\r\n     </g>\r\n    </g>\r\n    <g id=\"xtick_110\">\r\n     <g id=\"line2d_110\">\r\n      <g>\r\n       <use style=\"stroke:#000000;stroke-width:0.8;\" x=\"542.379139\" xlink:href=\"#m0db6b4c7df\" y=\"753.499219\"/>\r\n      </g>\r\n     </g>\r\n     <g id=\"text_110\">\r\n      <!-- 109 -->\r\n      <g transform=\"translate(545.138514 779.586719)rotate(-90)scale(0.1 -0.1)\">\r\n       <use xlink:href=\"#DejaVuSans-49\"/>\r\n       <use x=\"63.623047\" xlink:href=\"#DejaVuSans-48\"/>\r\n       <use x=\"127.246094\" xlink:href=\"#DejaVuSans-57\"/>\r\n      </g>\r\n     </g>\r\n    </g>\r\n    <g id=\"xtick_111\">\r\n     <g id=\"line2d_111\">\r\n      <g>\r\n       <use style=\"stroke:#000000;stroke-width:0.8;\" x=\"546.903463\" xlink:href=\"#m0db6b4c7df\" y=\"753.499219\"/>\r\n      </g>\r\n     </g>\r\n     <g id=\"text_111\">\r\n      <!-- 110 -->\r\n      <g transform=\"translate(549.662838 779.586719)rotate(-90)scale(0.1 -0.1)\">\r\n       <use xlink:href=\"#DejaVuSans-49\"/>\r\n       <use x=\"63.623047\" xlink:href=\"#DejaVuSans-49\"/>\r\n       <use x=\"127.246094\" xlink:href=\"#DejaVuSans-48\"/>\r\n      </g>\r\n     </g>\r\n    </g>\r\n    <g id=\"xtick_112\">\r\n     <g id=\"line2d_112\">\r\n      <g>\r\n       <use style=\"stroke:#000000;stroke-width:0.8;\" x=\"551.427787\" xlink:href=\"#m0db6b4c7df\" y=\"753.499219\"/>\r\n      </g>\r\n     </g>\r\n     <g id=\"text_112\">\r\n      <!-- 111 -->\r\n      <g transform=\"translate(554.187162 779.586719)rotate(-90)scale(0.1 -0.1)\">\r\n       <use xlink:href=\"#DejaVuSans-49\"/>\r\n       <use x=\"63.623047\" xlink:href=\"#DejaVuSans-49\"/>\r\n       <use x=\"127.246094\" xlink:href=\"#DejaVuSans-49\"/>\r\n      </g>\r\n     </g>\r\n    </g>\r\n    <g id=\"xtick_113\">\r\n     <g id=\"line2d_113\">\r\n      <g>\r\n       <use style=\"stroke:#000000;stroke-width:0.8;\" x=\"555.952111\" xlink:href=\"#m0db6b4c7df\" y=\"753.499219\"/>\r\n      </g>\r\n     </g>\r\n     <g id=\"text_113\">\r\n      <!-- 112 -->\r\n      <g transform=\"translate(558.711486 779.586719)rotate(-90)scale(0.1 -0.1)\">\r\n       <use xlink:href=\"#DejaVuSans-49\"/>\r\n       <use x=\"63.623047\" xlink:href=\"#DejaVuSans-49\"/>\r\n       <use x=\"127.246094\" xlink:href=\"#DejaVuSans-50\"/>\r\n      </g>\r\n     </g>\r\n    </g>\r\n    <g id=\"xtick_114\">\r\n     <g id=\"line2d_114\">\r\n      <g>\r\n       <use style=\"stroke:#000000;stroke-width:0.8;\" x=\"560.476436\" xlink:href=\"#m0db6b4c7df\" y=\"753.499219\"/>\r\n      </g>\r\n     </g>\r\n     <g id=\"text_114\">\r\n      <!-- 113 -->\r\n      <g transform=\"translate(563.235811 779.586719)rotate(-90)scale(0.1 -0.1)\">\r\n       <use xlink:href=\"#DejaVuSans-49\"/>\r\n       <use x=\"63.623047\" xlink:href=\"#DejaVuSans-49\"/>\r\n       <use x=\"127.246094\" xlink:href=\"#DejaVuSans-51\"/>\r\n      </g>\r\n     </g>\r\n    </g>\r\n    <g id=\"xtick_115\">\r\n     <g id=\"line2d_115\">\r\n      <g>\r\n       <use style=\"stroke:#000000;stroke-width:0.8;\" x=\"565.00076\" xlink:href=\"#m0db6b4c7df\" y=\"753.499219\"/>\r\n      </g>\r\n     </g>\r\n     <g id=\"text_115\">\r\n      <!-- 114 -->\r\n      <g transform=\"translate(567.760135 779.586719)rotate(-90)scale(0.1 -0.1)\">\r\n       <use xlink:href=\"#DejaVuSans-49\"/>\r\n       <use x=\"63.623047\" xlink:href=\"#DejaVuSans-49\"/>\r\n       <use x=\"127.246094\" xlink:href=\"#DejaVuSans-52\"/>\r\n      </g>\r\n     </g>\r\n    </g>\r\n    <g id=\"xtick_116\">\r\n     <g id=\"line2d_116\">\r\n      <g>\r\n       <use style=\"stroke:#000000;stroke-width:0.8;\" x=\"569.525084\" xlink:href=\"#m0db6b4c7df\" y=\"753.499219\"/>\r\n      </g>\r\n     </g>\r\n     <g id=\"text_116\">\r\n      <!-- 115 -->\r\n      <g transform=\"translate(572.284459 779.586719)rotate(-90)scale(0.1 -0.1)\">\r\n       <use xlink:href=\"#DejaVuSans-49\"/>\r\n       <use x=\"63.623047\" xlink:href=\"#DejaVuSans-49\"/>\r\n       <use x=\"127.246094\" xlink:href=\"#DejaVuSans-53\"/>\r\n      </g>\r\n     </g>\r\n    </g>\r\n    <g id=\"xtick_117\">\r\n     <g id=\"line2d_117\">\r\n      <g>\r\n       <use style=\"stroke:#000000;stroke-width:0.8;\" x=\"574.049409\" xlink:href=\"#m0db6b4c7df\" y=\"753.499219\"/>\r\n      </g>\r\n     </g>\r\n     <g id=\"text_117\">\r\n      <!-- 116 -->\r\n      <g transform=\"translate(576.808784 779.586719)rotate(-90)scale(0.1 -0.1)\">\r\n       <use xlink:href=\"#DejaVuSans-49\"/>\r\n       <use x=\"63.623047\" xlink:href=\"#DejaVuSans-49\"/>\r\n       <use x=\"127.246094\" xlink:href=\"#DejaVuSans-54\"/>\r\n      </g>\r\n     </g>\r\n    </g>\r\n    <g id=\"xtick_118\">\r\n     <g id=\"line2d_118\">\r\n      <g>\r\n       <use style=\"stroke:#000000;stroke-width:0.8;\" x=\"578.573733\" xlink:href=\"#m0db6b4c7df\" y=\"753.499219\"/>\r\n      </g>\r\n     </g>\r\n     <g id=\"text_118\">\r\n      <!-- 117 -->\r\n      <g transform=\"translate(581.333108 779.586719)rotate(-90)scale(0.1 -0.1)\">\r\n       <use xlink:href=\"#DejaVuSans-49\"/>\r\n       <use x=\"63.623047\" xlink:href=\"#DejaVuSans-49\"/>\r\n       <use x=\"127.246094\" xlink:href=\"#DejaVuSans-55\"/>\r\n      </g>\r\n     </g>\r\n    </g>\r\n    <g id=\"xtick_119\">\r\n     <g id=\"line2d_119\">\r\n      <g>\r\n       <use style=\"stroke:#000000;stroke-width:0.8;\" x=\"583.098057\" xlink:href=\"#m0db6b4c7df\" y=\"753.499219\"/>\r\n      </g>\r\n     </g>\r\n     <g id=\"text_119\">\r\n      <!-- 118 -->\r\n      <g transform=\"translate(585.857432 779.586719)rotate(-90)scale(0.1 -0.1)\">\r\n       <use xlink:href=\"#DejaVuSans-49\"/>\r\n       <use x=\"63.623047\" xlink:href=\"#DejaVuSans-49\"/>\r\n       <use x=\"127.246094\" xlink:href=\"#DejaVuSans-56\"/>\r\n      </g>\r\n     </g>\r\n    </g>\r\n    <g id=\"xtick_120\">\r\n     <g id=\"line2d_120\">\r\n      <g>\r\n       <use style=\"stroke:#000000;stroke-width:0.8;\" x=\"587.622382\" xlink:href=\"#m0db6b4c7df\" y=\"753.499219\"/>\r\n      </g>\r\n     </g>\r\n     <g id=\"text_120\">\r\n      <!-- 119 -->\r\n      <g transform=\"translate(590.381757 779.586719)rotate(-90)scale(0.1 -0.1)\">\r\n       <use xlink:href=\"#DejaVuSans-49\"/>\r\n       <use x=\"63.623047\" xlink:href=\"#DejaVuSans-49\"/>\r\n       <use x=\"127.246094\" xlink:href=\"#DejaVuSans-57\"/>\r\n      </g>\r\n     </g>\r\n    </g>\r\n    <g id=\"xtick_121\">\r\n     <g id=\"line2d_121\">\r\n      <g>\r\n       <use style=\"stroke:#000000;stroke-width:0.8;\" x=\"592.146706\" xlink:href=\"#m0db6b4c7df\" y=\"753.499219\"/>\r\n      </g>\r\n     </g>\r\n     <g id=\"text_121\">\r\n      <!-- 120 -->\r\n      <g transform=\"translate(594.906081 779.586719)rotate(-90)scale(0.1 -0.1)\">\r\n       <use xlink:href=\"#DejaVuSans-49\"/>\r\n       <use x=\"63.623047\" xlink:href=\"#DejaVuSans-50\"/>\r\n       <use x=\"127.246094\" xlink:href=\"#DejaVuSans-48\"/>\r\n      </g>\r\n     </g>\r\n    </g>\r\n    <g id=\"xtick_122\">\r\n     <g id=\"line2d_122\">\r\n      <g>\r\n       <use style=\"stroke:#000000;stroke-width:0.8;\" x=\"596.67103\" xlink:href=\"#m0db6b4c7df\" y=\"753.499219\"/>\r\n      </g>\r\n     </g>\r\n     <g id=\"text_122\">\r\n      <!-- 121 -->\r\n      <g transform=\"translate(599.430405 779.586719)rotate(-90)scale(0.1 -0.1)\">\r\n       <use xlink:href=\"#DejaVuSans-49\"/>\r\n       <use x=\"63.623047\" xlink:href=\"#DejaVuSans-50\"/>\r\n       <use x=\"127.246094\" xlink:href=\"#DejaVuSans-49\"/>\r\n      </g>\r\n     </g>\r\n    </g>\r\n    <g id=\"xtick_123\">\r\n     <g id=\"line2d_123\">\r\n      <g>\r\n       <use style=\"stroke:#000000;stroke-width:0.8;\" x=\"601.195355\" xlink:href=\"#m0db6b4c7df\" y=\"753.499219\"/>\r\n      </g>\r\n     </g>\r\n     <g id=\"text_123\">\r\n      <!-- 122 -->\r\n      <g transform=\"translate(603.95473 779.586719)rotate(-90)scale(0.1 -0.1)\">\r\n       <use xlink:href=\"#DejaVuSans-49\"/>\r\n       <use x=\"63.623047\" xlink:href=\"#DejaVuSans-50\"/>\r\n       <use x=\"127.246094\" xlink:href=\"#DejaVuSans-50\"/>\r\n      </g>\r\n     </g>\r\n    </g>\r\n    <g id=\"xtick_124\">\r\n     <g id=\"line2d_124\">\r\n      <g>\r\n       <use style=\"stroke:#000000;stroke-width:0.8;\" x=\"605.719679\" xlink:href=\"#m0db6b4c7df\" y=\"753.499219\"/>\r\n      </g>\r\n     </g>\r\n     <g id=\"text_124\">\r\n      <!-- 123 -->\r\n      <g transform=\"translate(608.479054 779.586719)rotate(-90)scale(0.1 -0.1)\">\r\n       <use xlink:href=\"#DejaVuSans-49\"/>\r\n       <use x=\"63.623047\" xlink:href=\"#DejaVuSans-50\"/>\r\n       <use x=\"127.246094\" xlink:href=\"#DejaVuSans-51\"/>\r\n      </g>\r\n     </g>\r\n    </g>\r\n    <g id=\"xtick_125\">\r\n     <g id=\"line2d_125\">\r\n      <g>\r\n       <use style=\"stroke:#000000;stroke-width:0.8;\" x=\"610.244003\" xlink:href=\"#m0db6b4c7df\" y=\"753.499219\"/>\r\n      </g>\r\n     </g>\r\n     <g id=\"text_125\">\r\n      <!-- 124 -->\r\n      <g transform=\"translate(613.003378 779.586719)rotate(-90)scale(0.1 -0.1)\">\r\n       <use xlink:href=\"#DejaVuSans-49\"/>\r\n       <use x=\"63.623047\" xlink:href=\"#DejaVuSans-50\"/>\r\n       <use x=\"127.246094\" xlink:href=\"#DejaVuSans-52\"/>\r\n      </g>\r\n     </g>\r\n    </g>\r\n    <g id=\"xtick_126\">\r\n     <g id=\"line2d_126\">\r\n      <g>\r\n       <use style=\"stroke:#000000;stroke-width:0.8;\" x=\"614.768328\" xlink:href=\"#m0db6b4c7df\" y=\"753.499219\"/>\r\n      </g>\r\n     </g>\r\n     <g id=\"text_126\">\r\n      <!-- 125 -->\r\n      <g transform=\"translate(617.527703 779.586719)rotate(-90)scale(0.1 -0.1)\">\r\n       <use xlink:href=\"#DejaVuSans-49\"/>\r\n       <use x=\"63.623047\" xlink:href=\"#DejaVuSans-50\"/>\r\n       <use x=\"127.246094\" xlink:href=\"#DejaVuSans-53\"/>\r\n      </g>\r\n     </g>\r\n    </g>\r\n    <g id=\"xtick_127\">\r\n     <g id=\"line2d_127\">\r\n      <g>\r\n       <use style=\"stroke:#000000;stroke-width:0.8;\" x=\"619.292652\" xlink:href=\"#m0db6b4c7df\" y=\"753.499219\"/>\r\n      </g>\r\n     </g>\r\n     <g id=\"text_127\">\r\n      <!-- 126 -->\r\n      <g transform=\"translate(622.052027 779.586719)rotate(-90)scale(0.1 -0.1)\">\r\n       <use xlink:href=\"#DejaVuSans-49\"/>\r\n       <use x=\"63.623047\" xlink:href=\"#DejaVuSans-50\"/>\r\n       <use x=\"127.246094\" xlink:href=\"#DejaVuSans-54\"/>\r\n      </g>\r\n     </g>\r\n    </g>\r\n    <g id=\"xtick_128\">\r\n     <g id=\"line2d_128\">\r\n      <g>\r\n       <use style=\"stroke:#000000;stroke-width:0.8;\" x=\"623.816976\" xlink:href=\"#m0db6b4c7df\" y=\"753.499219\"/>\r\n      </g>\r\n     </g>\r\n     <g id=\"text_128\">\r\n      <!-- 127 -->\r\n      <g transform=\"translate(626.576351 779.586719)rotate(-90)scale(0.1 -0.1)\">\r\n       <use xlink:href=\"#DejaVuSans-49\"/>\r\n       <use x=\"63.623047\" xlink:href=\"#DejaVuSans-50\"/>\r\n       <use x=\"127.246094\" xlink:href=\"#DejaVuSans-55\"/>\r\n      </g>\r\n     </g>\r\n    </g>\r\n    <g id=\"xtick_129\">\r\n     <g id=\"line2d_129\">\r\n      <g>\r\n       <use style=\"stroke:#000000;stroke-width:0.8;\" x=\"628.341301\" xlink:href=\"#m0db6b4c7df\" y=\"753.499219\"/>\r\n      </g>\r\n     </g>\r\n     <g id=\"text_129\">\r\n      <!-- 128 -->\r\n      <g transform=\"translate(631.100676 779.586719)rotate(-90)scale(0.1 -0.1)\">\r\n       <use xlink:href=\"#DejaVuSans-49\"/>\r\n       <use x=\"63.623047\" xlink:href=\"#DejaVuSans-50\"/>\r\n       <use x=\"127.246094\" xlink:href=\"#DejaVuSans-56\"/>\r\n      </g>\r\n     </g>\r\n    </g>\r\n    <g id=\"xtick_130\">\r\n     <g id=\"line2d_130\">\r\n      <g>\r\n       <use style=\"stroke:#000000;stroke-width:0.8;\" x=\"632.865625\" xlink:href=\"#m0db6b4c7df\" y=\"753.499219\"/>\r\n      </g>\r\n     </g>\r\n     <g id=\"text_130\">\r\n      <!-- 129 -->\r\n      <g transform=\"translate(635.625 779.586719)rotate(-90)scale(0.1 -0.1)\">\r\n       <use xlink:href=\"#DejaVuSans-49\"/>\r\n       <use x=\"63.623047\" xlink:href=\"#DejaVuSans-50\"/>\r\n       <use x=\"127.246094\" xlink:href=\"#DejaVuSans-57\"/>\r\n      </g>\r\n     </g>\r\n    </g>\r\n    <g id=\"xtick_131\">\r\n     <g id=\"line2d_131\">\r\n      <g>\r\n       <use style=\"stroke:#000000;stroke-width:0.8;\" x=\"637.389949\" xlink:href=\"#m0db6b4c7df\" y=\"753.499219\"/>\r\n      </g>\r\n     </g>\r\n     <g id=\"text_131\">\r\n      <!-- 130 -->\r\n      <g transform=\"translate(640.149324 779.586719)rotate(-90)scale(0.1 -0.1)\">\r\n       <use xlink:href=\"#DejaVuSans-49\"/>\r\n       <use x=\"63.623047\" xlink:href=\"#DejaVuSans-51\"/>\r\n       <use x=\"127.246094\" xlink:href=\"#DejaVuSans-48\"/>\r\n      </g>\r\n     </g>\r\n    </g>\r\n    <g id=\"xtick_132\">\r\n     <g id=\"line2d_132\">\r\n      <g>\r\n       <use style=\"stroke:#000000;stroke-width:0.8;\" x=\"641.914274\" xlink:href=\"#m0db6b4c7df\" y=\"753.499219\"/>\r\n      </g>\r\n     </g>\r\n     <g id=\"text_132\">\r\n      <!-- 131 -->\r\n      <g transform=\"translate(644.673649 779.586719)rotate(-90)scale(0.1 -0.1)\">\r\n       <use xlink:href=\"#DejaVuSans-49\"/>\r\n       <use x=\"63.623047\" xlink:href=\"#DejaVuSans-51\"/>\r\n       <use x=\"127.246094\" xlink:href=\"#DejaVuSans-49\"/>\r\n      </g>\r\n     </g>\r\n    </g>\r\n    <g id=\"xtick_133\">\r\n     <g id=\"line2d_133\">\r\n      <g>\r\n       <use style=\"stroke:#000000;stroke-width:0.8;\" x=\"646.438598\" xlink:href=\"#m0db6b4c7df\" y=\"753.499219\"/>\r\n      </g>\r\n     </g>\r\n     <g id=\"text_133\">\r\n      <!-- 132 -->\r\n      <g transform=\"translate(649.197973 779.586719)rotate(-90)scale(0.1 -0.1)\">\r\n       <use xlink:href=\"#DejaVuSans-49\"/>\r\n       <use x=\"63.623047\" xlink:href=\"#DejaVuSans-51\"/>\r\n       <use x=\"127.246094\" xlink:href=\"#DejaVuSans-50\"/>\r\n      </g>\r\n     </g>\r\n    </g>\r\n    <g id=\"xtick_134\">\r\n     <g id=\"line2d_134\">\r\n      <g>\r\n       <use style=\"stroke:#000000;stroke-width:0.8;\" x=\"650.962922\" xlink:href=\"#m0db6b4c7df\" y=\"753.499219\"/>\r\n      </g>\r\n     </g>\r\n     <g id=\"text_134\">\r\n      <!-- 133 -->\r\n      <g transform=\"translate(653.722297 779.586719)rotate(-90)scale(0.1 -0.1)\">\r\n       <use xlink:href=\"#DejaVuSans-49\"/>\r\n       <use x=\"63.623047\" xlink:href=\"#DejaVuSans-51\"/>\r\n       <use x=\"127.246094\" xlink:href=\"#DejaVuSans-51\"/>\r\n      </g>\r\n     </g>\r\n    </g>\r\n    <g id=\"xtick_135\">\r\n     <g id=\"line2d_135\">\r\n      <g>\r\n       <use style=\"stroke:#000000;stroke-width:0.8;\" x=\"655.487247\" xlink:href=\"#m0db6b4c7df\" y=\"753.499219\"/>\r\n      </g>\r\n     </g>\r\n     <g id=\"text_135\">\r\n      <!-- 134 -->\r\n      <g transform=\"translate(658.246622 779.586719)rotate(-90)scale(0.1 -0.1)\">\r\n       <use xlink:href=\"#DejaVuSans-49\"/>\r\n       <use x=\"63.623047\" xlink:href=\"#DejaVuSans-51\"/>\r\n       <use x=\"127.246094\" xlink:href=\"#DejaVuSans-52\"/>\r\n      </g>\r\n     </g>\r\n    </g>\r\n    <g id=\"xtick_136\">\r\n     <g id=\"line2d_136\">\r\n      <g>\r\n       <use style=\"stroke:#000000;stroke-width:0.8;\" x=\"660.011571\" xlink:href=\"#m0db6b4c7df\" y=\"753.499219\"/>\r\n      </g>\r\n     </g>\r\n     <g id=\"text_136\">\r\n      <!-- 135 -->\r\n      <g transform=\"translate(662.770946 779.586719)rotate(-90)scale(0.1 -0.1)\">\r\n       <use xlink:href=\"#DejaVuSans-49\"/>\r\n       <use x=\"63.623047\" xlink:href=\"#DejaVuSans-51\"/>\r\n       <use x=\"127.246094\" xlink:href=\"#DejaVuSans-53\"/>\r\n      </g>\r\n     </g>\r\n    </g>\r\n    <g id=\"xtick_137\">\r\n     <g id=\"line2d_137\">\r\n      <g>\r\n       <use style=\"stroke:#000000;stroke-width:0.8;\" x=\"664.535895\" xlink:href=\"#m0db6b4c7df\" y=\"753.499219\"/>\r\n      </g>\r\n     </g>\r\n     <g id=\"text_137\">\r\n      <!-- 136 -->\r\n      <g transform=\"translate(667.29527 779.586719)rotate(-90)scale(0.1 -0.1)\">\r\n       <use xlink:href=\"#DejaVuSans-49\"/>\r\n       <use x=\"63.623047\" xlink:href=\"#DejaVuSans-51\"/>\r\n       <use x=\"127.246094\" xlink:href=\"#DejaVuSans-54\"/>\r\n      </g>\r\n     </g>\r\n    </g>\r\n    <g id=\"xtick_138\">\r\n     <g id=\"line2d_138\">\r\n      <g>\r\n       <use style=\"stroke:#000000;stroke-width:0.8;\" x=\"669.06022\" xlink:href=\"#m0db6b4c7df\" y=\"753.499219\"/>\r\n      </g>\r\n     </g>\r\n     <g id=\"text_138\">\r\n      <!-- 137 -->\r\n      <g transform=\"translate(671.819595 779.586719)rotate(-90)scale(0.1 -0.1)\">\r\n       <use xlink:href=\"#DejaVuSans-49\"/>\r\n       <use x=\"63.623047\" xlink:href=\"#DejaVuSans-51\"/>\r\n       <use x=\"127.246094\" xlink:href=\"#DejaVuSans-55\"/>\r\n      </g>\r\n     </g>\r\n    </g>\r\n    <g id=\"xtick_139\">\r\n     <g id=\"line2d_139\">\r\n      <g>\r\n       <use style=\"stroke:#000000;stroke-width:0.8;\" x=\"673.584544\" xlink:href=\"#m0db6b4c7df\" y=\"753.499219\"/>\r\n      </g>\r\n     </g>\r\n     <g id=\"text_139\">\r\n      <!-- 138 -->\r\n      <g transform=\"translate(676.343919 779.586719)rotate(-90)scale(0.1 -0.1)\">\r\n       <use xlink:href=\"#DejaVuSans-49\"/>\r\n       <use x=\"63.623047\" xlink:href=\"#DejaVuSans-51\"/>\r\n       <use x=\"127.246094\" xlink:href=\"#DejaVuSans-56\"/>\r\n      </g>\r\n     </g>\r\n    </g>\r\n    <g id=\"xtick_140\">\r\n     <g id=\"line2d_140\">\r\n      <g>\r\n       <use style=\"stroke:#000000;stroke-width:0.8;\" x=\"678.108868\" xlink:href=\"#m0db6b4c7df\" y=\"753.499219\"/>\r\n      </g>\r\n     </g>\r\n     <g id=\"text_140\">\r\n      <!-- 139 -->\r\n      <g transform=\"translate(680.868243 779.586719)rotate(-90)scale(0.1 -0.1)\">\r\n       <use xlink:href=\"#DejaVuSans-49\"/>\r\n       <use x=\"63.623047\" xlink:href=\"#DejaVuSans-51\"/>\r\n       <use x=\"127.246094\" xlink:href=\"#DejaVuSans-57\"/>\r\n      </g>\r\n     </g>\r\n    </g>\r\n    <g id=\"xtick_141\">\r\n     <g id=\"line2d_141\">\r\n      <g>\r\n       <use style=\"stroke:#000000;stroke-width:0.8;\" x=\"682.633193\" xlink:href=\"#m0db6b4c7df\" y=\"753.499219\"/>\r\n      </g>\r\n     </g>\r\n     <g id=\"text_141\">\r\n      <!-- 140 -->\r\n      <g transform=\"translate(685.392568 779.586719)rotate(-90)scale(0.1 -0.1)\">\r\n       <use xlink:href=\"#DejaVuSans-49\"/>\r\n       <use x=\"63.623047\" xlink:href=\"#DejaVuSans-52\"/>\r\n       <use x=\"127.246094\" xlink:href=\"#DejaVuSans-48\"/>\r\n      </g>\r\n     </g>\r\n    </g>\r\n    <g id=\"xtick_142\">\r\n     <g id=\"line2d_142\">\r\n      <g>\r\n       <use style=\"stroke:#000000;stroke-width:0.8;\" x=\"687.157517\" xlink:href=\"#m0db6b4c7df\" y=\"753.499219\"/>\r\n      </g>\r\n     </g>\r\n     <g id=\"text_142\">\r\n      <!-- 141 -->\r\n      <g transform=\"translate(689.916892 779.586719)rotate(-90)scale(0.1 -0.1)\">\r\n       <use xlink:href=\"#DejaVuSans-49\"/>\r\n       <use x=\"63.623047\" xlink:href=\"#DejaVuSans-52\"/>\r\n       <use x=\"127.246094\" xlink:href=\"#DejaVuSans-49\"/>\r\n      </g>\r\n     </g>\r\n    </g>\r\n    <g id=\"xtick_143\">\r\n     <g id=\"line2d_143\">\r\n      <g>\r\n       <use style=\"stroke:#000000;stroke-width:0.8;\" x=\"691.681841\" xlink:href=\"#m0db6b4c7df\" y=\"753.499219\"/>\r\n      </g>\r\n     </g>\r\n     <g id=\"text_143\">\r\n      <!-- 142 -->\r\n      <g transform=\"translate(694.441216 779.586719)rotate(-90)scale(0.1 -0.1)\">\r\n       <use xlink:href=\"#DejaVuSans-49\"/>\r\n       <use x=\"63.623047\" xlink:href=\"#DejaVuSans-52\"/>\r\n       <use x=\"127.246094\" xlink:href=\"#DejaVuSans-50\"/>\r\n      </g>\r\n     </g>\r\n    </g>\r\n    <g id=\"xtick_144\">\r\n     <g id=\"line2d_144\">\r\n      <g>\r\n       <use style=\"stroke:#000000;stroke-width:0.8;\" x=\"696.206166\" xlink:href=\"#m0db6b4c7df\" y=\"753.499219\"/>\r\n      </g>\r\n     </g>\r\n     <g id=\"text_144\">\r\n      <!-- 143 -->\r\n      <g transform=\"translate(698.965541 779.586719)rotate(-90)scale(0.1 -0.1)\">\r\n       <use xlink:href=\"#DejaVuSans-49\"/>\r\n       <use x=\"63.623047\" xlink:href=\"#DejaVuSans-52\"/>\r\n       <use x=\"127.246094\" xlink:href=\"#DejaVuSans-51\"/>\r\n      </g>\r\n     </g>\r\n    </g>\r\n    <g id=\"xtick_145\">\r\n     <g id=\"line2d_145\">\r\n      <g>\r\n       <use style=\"stroke:#000000;stroke-width:0.8;\" x=\"700.73049\" xlink:href=\"#m0db6b4c7df\" y=\"753.499219\"/>\r\n      </g>\r\n     </g>\r\n     <g id=\"text_145\">\r\n      <!-- 144 -->\r\n      <g transform=\"translate(703.489865 779.586719)rotate(-90)scale(0.1 -0.1)\">\r\n       <use xlink:href=\"#DejaVuSans-49\"/>\r\n       <use x=\"63.623047\" xlink:href=\"#DejaVuSans-52\"/>\r\n       <use x=\"127.246094\" xlink:href=\"#DejaVuSans-52\"/>\r\n      </g>\r\n     </g>\r\n    </g>\r\n    <g id=\"xtick_146\">\r\n     <g id=\"line2d_146\">\r\n      <g>\r\n       <use style=\"stroke:#000000;stroke-width:0.8;\" x=\"705.254814\" xlink:href=\"#m0db6b4c7df\" y=\"753.499219\"/>\r\n      </g>\r\n     </g>\r\n     <g id=\"text_146\">\r\n      <!-- 145 -->\r\n      <g transform=\"translate(708.014189 779.586719)rotate(-90)scale(0.1 -0.1)\">\r\n       <use xlink:href=\"#DejaVuSans-49\"/>\r\n       <use x=\"63.623047\" xlink:href=\"#DejaVuSans-52\"/>\r\n       <use x=\"127.246094\" xlink:href=\"#DejaVuSans-53\"/>\r\n      </g>\r\n     </g>\r\n    </g>\r\n    <g id=\"xtick_147\">\r\n     <g id=\"line2d_147\">\r\n      <g>\r\n       <use style=\"stroke:#000000;stroke-width:0.8;\" x=\"709.779139\" xlink:href=\"#m0db6b4c7df\" y=\"753.499219\"/>\r\n      </g>\r\n     </g>\r\n     <g id=\"text_147\">\r\n      <!-- 146 -->\r\n      <g transform=\"translate(712.538514 779.586719)rotate(-90)scale(0.1 -0.1)\">\r\n       <use xlink:href=\"#DejaVuSans-49\"/>\r\n       <use x=\"63.623047\" xlink:href=\"#DejaVuSans-52\"/>\r\n       <use x=\"127.246094\" xlink:href=\"#DejaVuSans-54\"/>\r\n      </g>\r\n     </g>\r\n    </g>\r\n    <g id=\"xtick_148\">\r\n     <g id=\"line2d_148\">\r\n      <g>\r\n       <use style=\"stroke:#000000;stroke-width:0.8;\" x=\"714.303463\" xlink:href=\"#m0db6b4c7df\" y=\"753.499219\"/>\r\n      </g>\r\n     </g>\r\n     <g id=\"text_148\">\r\n      <!-- 147 -->\r\n      <g transform=\"translate(717.062838 779.586719)rotate(-90)scale(0.1 -0.1)\">\r\n       <use xlink:href=\"#DejaVuSans-49\"/>\r\n       <use x=\"63.623047\" xlink:href=\"#DejaVuSans-52\"/>\r\n       <use x=\"127.246094\" xlink:href=\"#DejaVuSans-55\"/>\r\n      </g>\r\n     </g>\r\n    </g>\r\n    <g id=\"text_149\">\r\n     <!-- Predicted label -->\r\n     <defs>\r\n      <path d=\"M 19.671875 64.796875 \r\nL 19.671875 37.40625 \r\nL 32.078125 37.40625 \r\nQ 38.96875 37.40625 42.71875 40.96875 \r\nQ 46.484375 44.53125 46.484375 51.125 \r\nQ 46.484375 57.671875 42.71875 61.234375 \r\nQ 38.96875 64.796875 32.078125 64.796875 \r\nz\r\nM 9.8125 72.90625 \r\nL 32.078125 72.90625 \r\nQ 44.34375 72.90625 50.609375 67.359375 \r\nQ 56.890625 61.8125 56.890625 51.125 \r\nQ 56.890625 40.328125 50.609375 34.8125 \r\nQ 44.34375 29.296875 32.078125 29.296875 \r\nL 19.671875 29.296875 \r\nL 19.671875 0 \r\nL 9.8125 0 \r\nz\r\n\" id=\"DejaVuSans-80\"/>\r\n      <path d=\"M 41.109375 46.296875 \r\nQ 39.59375 47.171875 37.8125 47.578125 \r\nQ 36.03125 48 33.890625 48 \r\nQ 26.265625 48 22.1875 43.046875 \r\nQ 18.109375 38.09375 18.109375 28.8125 \r\nL 18.109375 0 \r\nL 9.078125 0 \r\nL 9.078125 54.6875 \r\nL 18.109375 54.6875 \r\nL 18.109375 46.1875 \r\nQ 20.953125 51.171875 25.484375 53.578125 \r\nQ 30.03125 56 36.53125 56 \r\nQ 37.453125 56 38.578125 55.875 \r\nQ 39.703125 55.765625 41.0625 55.515625 \r\nz\r\n\" id=\"DejaVuSans-114\"/>\r\n      <path d=\"M 56.203125 29.59375 \r\nL 56.203125 25.203125 \r\nL 14.890625 25.203125 \r\nQ 15.484375 15.921875 20.484375 11.0625 \r\nQ 25.484375 6.203125 34.421875 6.203125 \r\nQ 39.59375 6.203125 44.453125 7.46875 \r\nQ 49.3125 8.734375 54.109375 11.28125 \r\nL 54.109375 2.78125 \r\nQ 49.265625 0.734375 44.1875 -0.34375 \r\nQ 39.109375 -1.421875 33.890625 -1.421875 \r\nQ 20.796875 -1.421875 13.15625 6.1875 \r\nQ 5.515625 13.8125 5.515625 26.8125 \r\nQ 5.515625 40.234375 12.765625 48.109375 \r\nQ 20.015625 56 32.328125 56 \r\nQ 43.359375 56 49.78125 48.890625 \r\nQ 56.203125 41.796875 56.203125 29.59375 \r\nz\r\nM 47.21875 32.234375 \r\nQ 47.125 39.59375 43.09375 43.984375 \r\nQ 39.0625 48.390625 32.421875 48.390625 \r\nQ 24.90625 48.390625 20.390625 44.140625 \r\nQ 15.875 39.890625 15.1875 32.171875 \r\nz\r\n\" id=\"DejaVuSans-101\"/>\r\n      <path d=\"M 45.40625 46.390625 \r\nL 45.40625 75.984375 \r\nL 54.390625 75.984375 \r\nL 54.390625 0 \r\nL 45.40625 0 \r\nL 45.40625 8.203125 \r\nQ 42.578125 3.328125 38.25 0.953125 \r\nQ 33.9375 -1.421875 27.875 -1.421875 \r\nQ 17.96875 -1.421875 11.734375 6.484375 \r\nQ 5.515625 14.40625 5.515625 27.296875 \r\nQ 5.515625 40.1875 11.734375 48.09375 \r\nQ 17.96875 56 27.875 56 \r\nQ 33.9375 56 38.25 53.625 \r\nQ 42.578125 51.265625 45.40625 46.390625 \r\nz\r\nM 14.796875 27.296875 \r\nQ 14.796875 17.390625 18.875 11.75 \r\nQ 22.953125 6.109375 30.078125 6.109375 \r\nQ 37.203125 6.109375 41.296875 11.75 \r\nQ 45.40625 17.390625 45.40625 27.296875 \r\nQ 45.40625 37.203125 41.296875 42.84375 \r\nQ 37.203125 48.484375 30.078125 48.484375 \r\nQ 22.953125 48.484375 18.875 42.84375 \r\nQ 14.796875 37.203125 14.796875 27.296875 \r\nz\r\n\" id=\"DejaVuSans-100\"/>\r\n      <path d=\"M 9.421875 54.6875 \r\nL 18.40625 54.6875 \r\nL 18.40625 0 \r\nL 9.421875 0 \r\nz\r\nM 9.421875 75.984375 \r\nL 18.40625 75.984375 \r\nL 18.40625 64.59375 \r\nL 9.421875 64.59375 \r\nz\r\n\" id=\"DejaVuSans-105\"/>\r\n      <path d=\"M 48.78125 52.59375 \r\nL 48.78125 44.1875 \r\nQ 44.96875 46.296875 41.140625 47.34375 \r\nQ 37.3125 48.390625 33.40625 48.390625 \r\nQ 24.65625 48.390625 19.8125 42.84375 \r\nQ 14.984375 37.3125 14.984375 27.296875 \r\nQ 14.984375 17.28125 19.8125 11.734375 \r\nQ 24.65625 6.203125 33.40625 6.203125 \r\nQ 37.3125 6.203125 41.140625 7.25 \r\nQ 44.96875 8.296875 48.78125 10.40625 \r\nL 48.78125 2.09375 \r\nQ 45.015625 0.34375 40.984375 -0.53125 \r\nQ 36.96875 -1.421875 32.421875 -1.421875 \r\nQ 20.0625 -1.421875 12.78125 6.34375 \r\nQ 5.515625 14.109375 5.515625 27.296875 \r\nQ 5.515625 40.671875 12.859375 48.328125 \r\nQ 20.21875 56 33.015625 56 \r\nQ 37.15625 56 41.109375 55.140625 \r\nQ 45.0625 54.296875 48.78125 52.59375 \r\nz\r\n\" id=\"DejaVuSans-99\"/>\r\n      <path d=\"M 18.3125 70.21875 \r\nL 18.3125 54.6875 \r\nL 36.8125 54.6875 \r\nL 36.8125 47.703125 \r\nL 18.3125 47.703125 \r\nL 18.3125 18.015625 \r\nQ 18.3125 11.328125 20.140625 9.421875 \r\nQ 21.96875 7.515625 27.59375 7.515625 \r\nL 36.8125 7.515625 \r\nL 36.8125 0 \r\nL 27.59375 0 \r\nQ 17.1875 0 13.234375 3.875 \r\nQ 9.28125 7.765625 9.28125 18.015625 \r\nL 9.28125 47.703125 \r\nL 2.6875 47.703125 \r\nL 2.6875 54.6875 \r\nL 9.28125 54.6875 \r\nL 9.28125 70.21875 \r\nz\r\n\" id=\"DejaVuSans-116\"/>\r\n      <path id=\"DejaVuSans-32\"/>\r\n      <path d=\"M 9.421875 75.984375 \r\nL 18.40625 75.984375 \r\nL 18.40625 0 \r\nL 9.421875 0 \r\nz\r\n\" id=\"DejaVuSans-108\"/>\r\n      <path d=\"M 34.28125 27.484375 \r\nQ 23.390625 27.484375 19.1875 25 \r\nQ 14.984375 22.515625 14.984375 16.5 \r\nQ 14.984375 11.71875 18.140625 8.90625 \r\nQ 21.296875 6.109375 26.703125 6.109375 \r\nQ 34.1875 6.109375 38.703125 11.40625 \r\nQ 43.21875 16.703125 43.21875 25.484375 \r\nL 43.21875 27.484375 \r\nz\r\nM 52.203125 31.203125 \r\nL 52.203125 0 \r\nL 43.21875 0 \r\nL 43.21875 8.296875 \r\nQ 40.140625 3.328125 35.546875 0.953125 \r\nQ 30.953125 -1.421875 24.3125 -1.421875 \r\nQ 15.921875 -1.421875 10.953125 3.296875 \r\nQ 6 8.015625 6 15.921875 \r\nQ 6 25.140625 12.171875 29.828125 \r\nQ 18.359375 34.515625 30.609375 34.515625 \r\nL 43.21875 34.515625 \r\nL 43.21875 35.40625 \r\nQ 43.21875 41.609375 39.140625 45 \r\nQ 35.0625 48.390625 27.6875 48.390625 \r\nQ 23 48.390625 18.546875 47.265625 \r\nQ 14.109375 46.140625 10.015625 43.890625 \r\nL 10.015625 52.203125 \r\nQ 14.9375 54.109375 19.578125 55.046875 \r\nQ 24.21875 56 28.609375 56 \r\nQ 40.484375 56 46.34375 49.84375 \r\nQ 52.203125 43.703125 52.203125 31.203125 \r\nz\r\n\" id=\"DejaVuSans-97\"/>\r\n      <path d=\"M 48.6875 27.296875 \r\nQ 48.6875 37.203125 44.609375 42.84375 \r\nQ 40.53125 48.484375 33.40625 48.484375 \r\nQ 26.265625 48.484375 22.1875 42.84375 \r\nQ 18.109375 37.203125 18.109375 27.296875 \r\nQ 18.109375 17.390625 22.1875 11.75 \r\nQ 26.265625 6.109375 33.40625 6.109375 \r\nQ 40.53125 6.109375 44.609375 11.75 \r\nQ 48.6875 17.390625 48.6875 27.296875 \r\nz\r\nM 18.109375 46.390625 \r\nQ 20.953125 51.265625 25.265625 53.625 \r\nQ 29.59375 56 35.59375 56 \r\nQ 45.5625 56 51.78125 48.09375 \r\nQ 58.015625 40.1875 58.015625 27.296875 \r\nQ 58.015625 14.40625 51.78125 6.484375 \r\nQ 45.5625 -1.421875 35.59375 -1.421875 \r\nQ 29.59375 -1.421875 25.265625 0.953125 \r\nQ 20.953125 3.328125 18.109375 8.203125 \r\nL 18.109375 0 \r\nL 9.078125 0 \r\nL 9.078125 75.984375 \r\nL 18.109375 75.984375 \r\nz\r\n\" id=\"DejaVuSans-98\"/>\r\n     </defs>\r\n     <g transform=\"translate(344.415625 791.185156)scale(0.1 -0.1)\">\r\n      <use xlink:href=\"#DejaVuSans-80\"/>\r\n      <use x=\"60.287109\" xlink:href=\"#DejaVuSans-114\"/>\r\n      <use x=\"101.369141\" xlink:href=\"#DejaVuSans-101\"/>\r\n      <use x=\"162.892578\" xlink:href=\"#DejaVuSans-100\"/>\r\n      <use x=\"226.369141\" xlink:href=\"#DejaVuSans-105\"/>\r\n      <use x=\"254.152344\" xlink:href=\"#DejaVuSans-99\"/>\r\n      <use x=\"309.132812\" xlink:href=\"#DejaVuSans-116\"/>\r\n      <use x=\"348.341797\" xlink:href=\"#DejaVuSans-101\"/>\r\n      <use x=\"409.865234\" xlink:href=\"#DejaVuSans-100\"/>\r\n      <use x=\"473.341797\" xlink:href=\"#DejaVuSans-32\"/>\r\n      <use x=\"505.128906\" xlink:href=\"#DejaVuSans-108\"/>\r\n      <use x=\"532.912109\" xlink:href=\"#DejaVuSans-97\"/>\r\n      <use x=\"594.191406\" xlink:href=\"#DejaVuSans-98\"/>\r\n      <use x=\"657.667969\" xlink:href=\"#DejaVuSans-101\"/>\r\n      <use x=\"719.191406\" xlink:href=\"#DejaVuSans-108\"/>\r\n     </g>\r\n    </g>\r\n   </g>\r\n   <g id=\"matplotlib.axis_2\">\r\n    <g id=\"ytick_1\">\r\n     <g id=\"line2d_149\">\r\n      <defs>\r\n       <path d=\"M 0 0 \r\nL -3.5 0 \r\n\" id=\"maf537014b4\" style=\"stroke:#000000;stroke-width:0.8;\"/>\r\n      </defs>\r\n      <g>\r\n       <use style=\"stroke:#000000;stroke-width:0.8;\" x=\"46.965625\" xlink:href=\"#maf537014b4\" y=\"86.161381\"/>\r\n      </g>\r\n     </g>\r\n     <g id=\"text_150\">\r\n      <!-- 0 -->\r\n      <g transform=\"translate(33.603125 89.9606)scale(0.1 -0.1)\">\r\n       <use xlink:href=\"#DejaVuSans-48\"/>\r\n      </g>\r\n     </g>\r\n    </g>\r\n    <g id=\"ytick_2\">\r\n     <g id=\"line2d_150\">\r\n      <g>\r\n       <use style=\"stroke:#000000;stroke-width:0.8;\" x=\"46.965625\" xlink:href=\"#maf537014b4\" y=\"90.685705\"/>\r\n      </g>\r\n     </g>\r\n     <g id=\"text_151\">\r\n      <!-- 1 -->\r\n      <g transform=\"translate(33.603125 94.484924)scale(0.1 -0.1)\">\r\n       <use xlink:href=\"#DejaVuSans-49\"/>\r\n      </g>\r\n     </g>\r\n    </g>\r\n    <g id=\"ytick_3\">\r\n     <g id=\"line2d_151\">\r\n      <g>\r\n       <use style=\"stroke:#000000;stroke-width:0.8;\" x=\"46.965625\" xlink:href=\"#maf537014b4\" y=\"95.21003\"/>\r\n      </g>\r\n     </g>\r\n     <g id=\"text_152\">\r\n      <!-- 2 -->\r\n      <g transform=\"translate(33.603125 99.009248)scale(0.1 -0.1)\">\r\n       <use xlink:href=\"#DejaVuSans-50\"/>\r\n      </g>\r\n     </g>\r\n    </g>\r\n    <g id=\"ytick_4\">\r\n     <g id=\"line2d_152\">\r\n      <g>\r\n       <use style=\"stroke:#000000;stroke-width:0.8;\" x=\"46.965625\" xlink:href=\"#maf537014b4\" y=\"99.734354\"/>\r\n      </g>\r\n     </g>\r\n     <g id=\"text_153\">\r\n      <!-- 3 -->\r\n      <g transform=\"translate(33.603125 103.533573)scale(0.1 -0.1)\">\r\n       <use xlink:href=\"#DejaVuSans-51\"/>\r\n      </g>\r\n     </g>\r\n    </g>\r\n    <g id=\"ytick_5\">\r\n     <g id=\"line2d_153\">\r\n      <g>\r\n       <use style=\"stroke:#000000;stroke-width:0.8;\" x=\"46.965625\" xlink:href=\"#maf537014b4\" y=\"104.258678\"/>\r\n      </g>\r\n     </g>\r\n     <g id=\"text_154\">\r\n      <!-- 4 -->\r\n      <g transform=\"translate(33.603125 108.057897)scale(0.1 -0.1)\">\r\n       <use xlink:href=\"#DejaVuSans-52\"/>\r\n      </g>\r\n     </g>\r\n    </g>\r\n    <g id=\"ytick_6\">\r\n     <g id=\"line2d_154\">\r\n      <g>\r\n       <use style=\"stroke:#000000;stroke-width:0.8;\" x=\"46.965625\" xlink:href=\"#maf537014b4\" y=\"108.783003\"/>\r\n      </g>\r\n     </g>\r\n     <g id=\"text_155\">\r\n      <!-- 5 -->\r\n      <g transform=\"translate(33.603125 112.582221)scale(0.1 -0.1)\">\r\n       <use xlink:href=\"#DejaVuSans-53\"/>\r\n      </g>\r\n     </g>\r\n    </g>\r\n    <g id=\"ytick_7\">\r\n     <g id=\"line2d_155\">\r\n      <g>\r\n       <use style=\"stroke:#000000;stroke-width:0.8;\" x=\"46.965625\" xlink:href=\"#maf537014b4\" y=\"113.307327\"/>\r\n      </g>\r\n     </g>\r\n     <g id=\"text_156\">\r\n      <!-- 6 -->\r\n      <g transform=\"translate(33.603125 117.106546)scale(0.1 -0.1)\">\r\n       <use xlink:href=\"#DejaVuSans-54\"/>\r\n      </g>\r\n     </g>\r\n    </g>\r\n    <g id=\"ytick_8\">\r\n     <g id=\"line2d_156\">\r\n      <g>\r\n       <use style=\"stroke:#000000;stroke-width:0.8;\" x=\"46.965625\" xlink:href=\"#maf537014b4\" y=\"117.831651\"/>\r\n      </g>\r\n     </g>\r\n     <g id=\"text_157\">\r\n      <!-- 7 -->\r\n      <g transform=\"translate(33.603125 121.63087)scale(0.1 -0.1)\">\r\n       <use xlink:href=\"#DejaVuSans-55\"/>\r\n      </g>\r\n     </g>\r\n    </g>\r\n    <g id=\"ytick_9\">\r\n     <g id=\"line2d_157\">\r\n      <g>\r\n       <use style=\"stroke:#000000;stroke-width:0.8;\" x=\"46.965625\" xlink:href=\"#maf537014b4\" y=\"122.355976\"/>\r\n      </g>\r\n     </g>\r\n     <g id=\"text_158\">\r\n      <!-- 8 -->\r\n      <g transform=\"translate(33.603125 126.155194)scale(0.1 -0.1)\">\r\n       <use xlink:href=\"#DejaVuSans-56\"/>\r\n      </g>\r\n     </g>\r\n    </g>\r\n    <g id=\"ytick_10\">\r\n     <g id=\"line2d_158\">\r\n      <g>\r\n       <use style=\"stroke:#000000;stroke-width:0.8;\" x=\"46.965625\" xlink:href=\"#maf537014b4\" y=\"126.8803\"/>\r\n      </g>\r\n     </g>\r\n     <g id=\"text_159\">\r\n      <!-- 9 -->\r\n      <g transform=\"translate(33.603125 130.679519)scale(0.1 -0.1)\">\r\n       <use xlink:href=\"#DejaVuSans-57\"/>\r\n      </g>\r\n     </g>\r\n    </g>\r\n    <g id=\"ytick_11\">\r\n     <g id=\"line2d_159\">\r\n      <g>\r\n       <use style=\"stroke:#000000;stroke-width:0.8;\" x=\"46.965625\" xlink:href=\"#maf537014b4\" y=\"131.404624\"/>\r\n      </g>\r\n     </g>\r\n     <g id=\"text_160\">\r\n      <!-- 10 -->\r\n      <g transform=\"translate(27.240625 135.203843)scale(0.1 -0.1)\">\r\n       <use xlink:href=\"#DejaVuSans-49\"/>\r\n       <use x=\"63.623047\" xlink:href=\"#DejaVuSans-48\"/>\r\n      </g>\r\n     </g>\r\n    </g>\r\n    <g id=\"ytick_12\">\r\n     <g id=\"line2d_160\">\r\n      <g>\r\n       <use style=\"stroke:#000000;stroke-width:0.8;\" x=\"46.965625\" xlink:href=\"#maf537014b4\" y=\"135.928948\"/>\r\n      </g>\r\n     </g>\r\n     <g id=\"text_161\">\r\n      <!-- 11 -->\r\n      <g transform=\"translate(27.240625 139.728167)scale(0.1 -0.1)\">\r\n       <use xlink:href=\"#DejaVuSans-49\"/>\r\n       <use x=\"63.623047\" xlink:href=\"#DejaVuSans-49\"/>\r\n      </g>\r\n     </g>\r\n    </g>\r\n    <g id=\"ytick_13\">\r\n     <g id=\"line2d_161\">\r\n      <g>\r\n       <use style=\"stroke:#000000;stroke-width:0.8;\" x=\"46.965625\" xlink:href=\"#maf537014b4\" y=\"140.453273\"/>\r\n      </g>\r\n     </g>\r\n     <g id=\"text_162\">\r\n      <!-- 12 -->\r\n      <g transform=\"translate(27.240625 144.252492)scale(0.1 -0.1)\">\r\n       <use xlink:href=\"#DejaVuSans-49\"/>\r\n       <use x=\"63.623047\" xlink:href=\"#DejaVuSans-50\"/>\r\n      </g>\r\n     </g>\r\n    </g>\r\n    <g id=\"ytick_14\">\r\n     <g id=\"line2d_162\">\r\n      <g>\r\n       <use style=\"stroke:#000000;stroke-width:0.8;\" x=\"46.965625\" xlink:href=\"#maf537014b4\" y=\"144.977597\"/>\r\n      </g>\r\n     </g>\r\n     <g id=\"text_163\">\r\n      <!-- 13 -->\r\n      <g transform=\"translate(27.240625 148.776816)scale(0.1 -0.1)\">\r\n       <use xlink:href=\"#DejaVuSans-49\"/>\r\n       <use x=\"63.623047\" xlink:href=\"#DejaVuSans-51\"/>\r\n      </g>\r\n     </g>\r\n    </g>\r\n    <g id=\"ytick_15\">\r\n     <g id=\"line2d_163\">\r\n      <g>\r\n       <use style=\"stroke:#000000;stroke-width:0.8;\" x=\"46.965625\" xlink:href=\"#maf537014b4\" y=\"149.501921\"/>\r\n      </g>\r\n     </g>\r\n     <g id=\"text_164\">\r\n      <!-- 14 -->\r\n      <g transform=\"translate(27.240625 153.30114)scale(0.1 -0.1)\">\r\n       <use xlink:href=\"#DejaVuSans-49\"/>\r\n       <use x=\"63.623047\" xlink:href=\"#DejaVuSans-52\"/>\r\n      </g>\r\n     </g>\r\n    </g>\r\n    <g id=\"ytick_16\">\r\n     <g id=\"line2d_164\">\r\n      <g>\r\n       <use style=\"stroke:#000000;stroke-width:0.8;\" x=\"46.965625\" xlink:href=\"#maf537014b4\" y=\"154.026246\"/>\r\n      </g>\r\n     </g>\r\n     <g id=\"text_165\">\r\n      <!-- 15 -->\r\n      <g transform=\"translate(27.240625 157.825465)scale(0.1 -0.1)\">\r\n       <use xlink:href=\"#DejaVuSans-49\"/>\r\n       <use x=\"63.623047\" xlink:href=\"#DejaVuSans-53\"/>\r\n      </g>\r\n     </g>\r\n    </g>\r\n    <g id=\"ytick_17\">\r\n     <g id=\"line2d_165\">\r\n      <g>\r\n       <use style=\"stroke:#000000;stroke-width:0.8;\" x=\"46.965625\" xlink:href=\"#maf537014b4\" y=\"158.55057\"/>\r\n      </g>\r\n     </g>\r\n     <g id=\"text_166\">\r\n      <!-- 16 -->\r\n      <g transform=\"translate(27.240625 162.349789)scale(0.1 -0.1)\">\r\n       <use xlink:href=\"#DejaVuSans-49\"/>\r\n       <use x=\"63.623047\" xlink:href=\"#DejaVuSans-54\"/>\r\n      </g>\r\n     </g>\r\n    </g>\r\n    <g id=\"ytick_18\">\r\n     <g id=\"line2d_166\">\r\n      <g>\r\n       <use style=\"stroke:#000000;stroke-width:0.8;\" x=\"46.965625\" xlink:href=\"#maf537014b4\" y=\"163.074894\"/>\r\n      </g>\r\n     </g>\r\n     <g id=\"text_167\">\r\n      <!-- 17 -->\r\n      <g transform=\"translate(27.240625 166.874113)scale(0.1 -0.1)\">\r\n       <use xlink:href=\"#DejaVuSans-49\"/>\r\n       <use x=\"63.623047\" xlink:href=\"#DejaVuSans-55\"/>\r\n      </g>\r\n     </g>\r\n    </g>\r\n    <g id=\"ytick_19\">\r\n     <g id=\"line2d_167\">\r\n      <g>\r\n       <use style=\"stroke:#000000;stroke-width:0.8;\" x=\"46.965625\" xlink:href=\"#maf537014b4\" y=\"167.599219\"/>\r\n      </g>\r\n     </g>\r\n     <g id=\"text_168\">\r\n      <!-- 18 -->\r\n      <g transform=\"translate(27.240625 171.398437)scale(0.1 -0.1)\">\r\n       <use xlink:href=\"#DejaVuSans-49\"/>\r\n       <use x=\"63.623047\" xlink:href=\"#DejaVuSans-56\"/>\r\n      </g>\r\n     </g>\r\n    </g>\r\n    <g id=\"ytick_20\">\r\n     <g id=\"line2d_168\">\r\n      <g>\r\n       <use style=\"stroke:#000000;stroke-width:0.8;\" x=\"46.965625\" xlink:href=\"#maf537014b4\" y=\"172.123543\"/>\r\n      </g>\r\n     </g>\r\n     <g id=\"text_169\">\r\n      <!-- 19 -->\r\n      <g transform=\"translate(27.240625 175.922762)scale(0.1 -0.1)\">\r\n       <use xlink:href=\"#DejaVuSans-49\"/>\r\n       <use x=\"63.623047\" xlink:href=\"#DejaVuSans-57\"/>\r\n      </g>\r\n     </g>\r\n    </g>\r\n    <g id=\"ytick_21\">\r\n     <g id=\"line2d_169\">\r\n      <g>\r\n       <use style=\"stroke:#000000;stroke-width:0.8;\" x=\"46.965625\" xlink:href=\"#maf537014b4\" y=\"176.647867\"/>\r\n      </g>\r\n     </g>\r\n     <g id=\"text_170\">\r\n      <!-- 20 -->\r\n      <g transform=\"translate(27.240625 180.447086)scale(0.1 -0.1)\">\r\n       <use xlink:href=\"#DejaVuSans-50\"/>\r\n       <use x=\"63.623047\" xlink:href=\"#DejaVuSans-48\"/>\r\n      </g>\r\n     </g>\r\n    </g>\r\n    <g id=\"ytick_22\">\r\n     <g id=\"line2d_170\">\r\n      <g>\r\n       <use style=\"stroke:#000000;stroke-width:0.8;\" x=\"46.965625\" xlink:href=\"#maf537014b4\" y=\"181.172192\"/>\r\n      </g>\r\n     </g>\r\n     <g id=\"text_171\">\r\n      <!-- 21 -->\r\n      <g transform=\"translate(27.240625 184.97141)scale(0.1 -0.1)\">\r\n       <use xlink:href=\"#DejaVuSans-50\"/>\r\n       <use x=\"63.623047\" xlink:href=\"#DejaVuSans-49\"/>\r\n      </g>\r\n     </g>\r\n    </g>\r\n    <g id=\"ytick_23\">\r\n     <g id=\"line2d_171\">\r\n      <g>\r\n       <use style=\"stroke:#000000;stroke-width:0.8;\" x=\"46.965625\" xlink:href=\"#maf537014b4\" y=\"185.696516\"/>\r\n      </g>\r\n     </g>\r\n     <g id=\"text_172\">\r\n      <!-- 22 -->\r\n      <g transform=\"translate(27.240625 189.495735)scale(0.1 -0.1)\">\r\n       <use xlink:href=\"#DejaVuSans-50\"/>\r\n       <use x=\"63.623047\" xlink:href=\"#DejaVuSans-50\"/>\r\n      </g>\r\n     </g>\r\n    </g>\r\n    <g id=\"ytick_24\">\r\n     <g id=\"line2d_172\">\r\n      <g>\r\n       <use style=\"stroke:#000000;stroke-width:0.8;\" x=\"46.965625\" xlink:href=\"#maf537014b4\" y=\"190.22084\"/>\r\n      </g>\r\n     </g>\r\n     <g id=\"text_173\">\r\n      <!-- 23 -->\r\n      <g transform=\"translate(27.240625 194.020059)scale(0.1 -0.1)\">\r\n       <use xlink:href=\"#DejaVuSans-50\"/>\r\n       <use x=\"63.623047\" xlink:href=\"#DejaVuSans-51\"/>\r\n      </g>\r\n     </g>\r\n    </g>\r\n    <g id=\"ytick_25\">\r\n     <g id=\"line2d_173\">\r\n      <g>\r\n       <use style=\"stroke:#000000;stroke-width:0.8;\" x=\"46.965625\" xlink:href=\"#maf537014b4\" y=\"194.745165\"/>\r\n      </g>\r\n     </g>\r\n     <g id=\"text_174\">\r\n      <!-- 24 -->\r\n      <g transform=\"translate(27.240625 198.544383)scale(0.1 -0.1)\">\r\n       <use xlink:href=\"#DejaVuSans-50\"/>\r\n       <use x=\"63.623047\" xlink:href=\"#DejaVuSans-52\"/>\r\n      </g>\r\n     </g>\r\n    </g>\r\n    <g id=\"ytick_26\">\r\n     <g id=\"line2d_174\">\r\n      <g>\r\n       <use style=\"stroke:#000000;stroke-width:0.8;\" x=\"46.965625\" xlink:href=\"#maf537014b4\" y=\"199.269489\"/>\r\n      </g>\r\n     </g>\r\n     <g id=\"text_175\">\r\n      <!-- 25 -->\r\n      <g transform=\"translate(27.240625 203.068708)scale(0.1 -0.1)\">\r\n       <use xlink:href=\"#DejaVuSans-50\"/>\r\n       <use x=\"63.623047\" xlink:href=\"#DejaVuSans-53\"/>\r\n      </g>\r\n     </g>\r\n    </g>\r\n    <g id=\"ytick_27\">\r\n     <g id=\"line2d_175\">\r\n      <g>\r\n       <use style=\"stroke:#000000;stroke-width:0.8;\" x=\"46.965625\" xlink:href=\"#maf537014b4\" y=\"203.793813\"/>\r\n      </g>\r\n     </g>\r\n     <g id=\"text_176\">\r\n      <!-- 26 -->\r\n      <g transform=\"translate(27.240625 207.593032)scale(0.1 -0.1)\">\r\n       <use xlink:href=\"#DejaVuSans-50\"/>\r\n       <use x=\"63.623047\" xlink:href=\"#DejaVuSans-54\"/>\r\n      </g>\r\n     </g>\r\n    </g>\r\n    <g id=\"ytick_28\">\r\n     <g id=\"line2d_176\">\r\n      <g>\r\n       <use style=\"stroke:#000000;stroke-width:0.8;\" x=\"46.965625\" xlink:href=\"#maf537014b4\" y=\"208.318138\"/>\r\n      </g>\r\n     </g>\r\n     <g id=\"text_177\">\r\n      <!-- 27 -->\r\n      <g transform=\"translate(27.240625 212.117356)scale(0.1 -0.1)\">\r\n       <use xlink:href=\"#DejaVuSans-50\"/>\r\n       <use x=\"63.623047\" xlink:href=\"#DejaVuSans-55\"/>\r\n      </g>\r\n     </g>\r\n    </g>\r\n    <g id=\"ytick_29\">\r\n     <g id=\"line2d_177\">\r\n      <g>\r\n       <use style=\"stroke:#000000;stroke-width:0.8;\" x=\"46.965625\" xlink:href=\"#maf537014b4\" y=\"212.842462\"/>\r\n      </g>\r\n     </g>\r\n     <g id=\"text_178\">\r\n      <!-- 28 -->\r\n      <g transform=\"translate(27.240625 216.641681)scale(0.1 -0.1)\">\r\n       <use xlink:href=\"#DejaVuSans-50\"/>\r\n       <use x=\"63.623047\" xlink:href=\"#DejaVuSans-56\"/>\r\n      </g>\r\n     </g>\r\n    </g>\r\n    <g id=\"ytick_30\">\r\n     <g id=\"line2d_178\">\r\n      <g>\r\n       <use style=\"stroke:#000000;stroke-width:0.8;\" x=\"46.965625\" xlink:href=\"#maf537014b4\" y=\"217.366786\"/>\r\n      </g>\r\n     </g>\r\n     <g id=\"text_179\">\r\n      <!-- 29 -->\r\n      <g transform=\"translate(27.240625 221.166005)scale(0.1 -0.1)\">\r\n       <use xlink:href=\"#DejaVuSans-50\"/>\r\n       <use x=\"63.623047\" xlink:href=\"#DejaVuSans-57\"/>\r\n      </g>\r\n     </g>\r\n    </g>\r\n    <g id=\"ytick_31\">\r\n     <g id=\"line2d_179\">\r\n      <g>\r\n       <use style=\"stroke:#000000;stroke-width:0.8;\" x=\"46.965625\" xlink:href=\"#maf537014b4\" y=\"221.891111\"/>\r\n      </g>\r\n     </g>\r\n     <g id=\"text_180\">\r\n      <!-- 30 -->\r\n      <g transform=\"translate(27.240625 225.690329)scale(0.1 -0.1)\">\r\n       <use xlink:href=\"#DejaVuSans-51\"/>\r\n       <use x=\"63.623047\" xlink:href=\"#DejaVuSans-48\"/>\r\n      </g>\r\n     </g>\r\n    </g>\r\n    <g id=\"ytick_32\">\r\n     <g id=\"line2d_180\">\r\n      <g>\r\n       <use style=\"stroke:#000000;stroke-width:0.8;\" x=\"46.965625\" xlink:href=\"#maf537014b4\" y=\"226.415435\"/>\r\n      </g>\r\n     </g>\r\n     <g id=\"text_181\">\r\n      <!-- 31 -->\r\n      <g transform=\"translate(27.240625 230.214654)scale(0.1 -0.1)\">\r\n       <use xlink:href=\"#DejaVuSans-51\"/>\r\n       <use x=\"63.623047\" xlink:href=\"#DejaVuSans-49\"/>\r\n      </g>\r\n     </g>\r\n    </g>\r\n    <g id=\"ytick_33\">\r\n     <g id=\"line2d_181\">\r\n      <g>\r\n       <use style=\"stroke:#000000;stroke-width:0.8;\" x=\"46.965625\" xlink:href=\"#maf537014b4\" y=\"230.939759\"/>\r\n      </g>\r\n     </g>\r\n     <g id=\"text_182\">\r\n      <!-- 32 -->\r\n      <g transform=\"translate(27.240625 234.738978)scale(0.1 -0.1)\">\r\n       <use xlink:href=\"#DejaVuSans-51\"/>\r\n       <use x=\"63.623047\" xlink:href=\"#DejaVuSans-50\"/>\r\n      </g>\r\n     </g>\r\n    </g>\r\n    <g id=\"ytick_34\">\r\n     <g id=\"line2d_182\">\r\n      <g>\r\n       <use style=\"stroke:#000000;stroke-width:0.8;\" x=\"46.965625\" xlink:href=\"#maf537014b4\" y=\"235.464084\"/>\r\n      </g>\r\n     </g>\r\n     <g id=\"text_183\">\r\n      <!-- 33 -->\r\n      <g transform=\"translate(27.240625 239.263302)scale(0.1 -0.1)\">\r\n       <use xlink:href=\"#DejaVuSans-51\"/>\r\n       <use x=\"63.623047\" xlink:href=\"#DejaVuSans-51\"/>\r\n      </g>\r\n     </g>\r\n    </g>\r\n    <g id=\"ytick_35\">\r\n     <g id=\"line2d_183\">\r\n      <g>\r\n       <use style=\"stroke:#000000;stroke-width:0.8;\" x=\"46.965625\" xlink:href=\"#maf537014b4\" y=\"239.988408\"/>\r\n      </g>\r\n     </g>\r\n     <g id=\"text_184\">\r\n      <!-- 34 -->\r\n      <g transform=\"translate(27.240625 243.787627)scale(0.1 -0.1)\">\r\n       <use xlink:href=\"#DejaVuSans-51\"/>\r\n       <use x=\"63.623047\" xlink:href=\"#DejaVuSans-52\"/>\r\n      </g>\r\n     </g>\r\n    </g>\r\n    <g id=\"ytick_36\">\r\n     <g id=\"line2d_184\">\r\n      <g>\r\n       <use style=\"stroke:#000000;stroke-width:0.8;\" x=\"46.965625\" xlink:href=\"#maf537014b4\" y=\"244.512732\"/>\r\n      </g>\r\n     </g>\r\n     <g id=\"text_185\">\r\n      <!-- 35 -->\r\n      <g transform=\"translate(27.240625 248.311951)scale(0.1 -0.1)\">\r\n       <use xlink:href=\"#DejaVuSans-51\"/>\r\n       <use x=\"63.623047\" xlink:href=\"#DejaVuSans-53\"/>\r\n      </g>\r\n     </g>\r\n    </g>\r\n    <g id=\"ytick_37\">\r\n     <g id=\"line2d_185\">\r\n      <g>\r\n       <use style=\"stroke:#000000;stroke-width:0.8;\" x=\"46.965625\" xlink:href=\"#maf537014b4\" y=\"249.037057\"/>\r\n      </g>\r\n     </g>\r\n     <g id=\"text_186\">\r\n      <!-- 36 -->\r\n      <g transform=\"translate(27.240625 252.836275)scale(0.1 -0.1)\">\r\n       <use xlink:href=\"#DejaVuSans-51\"/>\r\n       <use x=\"63.623047\" xlink:href=\"#DejaVuSans-54\"/>\r\n      </g>\r\n     </g>\r\n    </g>\r\n    <g id=\"ytick_38\">\r\n     <g id=\"line2d_186\">\r\n      <g>\r\n       <use style=\"stroke:#000000;stroke-width:0.8;\" x=\"46.965625\" xlink:href=\"#maf537014b4\" y=\"253.561381\"/>\r\n      </g>\r\n     </g>\r\n     <g id=\"text_187\">\r\n      <!-- 37 -->\r\n      <g transform=\"translate(27.240625 257.3606)scale(0.1 -0.1)\">\r\n       <use xlink:href=\"#DejaVuSans-51\"/>\r\n       <use x=\"63.623047\" xlink:href=\"#DejaVuSans-55\"/>\r\n      </g>\r\n     </g>\r\n    </g>\r\n    <g id=\"ytick_39\">\r\n     <g id=\"line2d_187\">\r\n      <g>\r\n       <use style=\"stroke:#000000;stroke-width:0.8;\" x=\"46.965625\" xlink:href=\"#maf537014b4\" y=\"258.085705\"/>\r\n      </g>\r\n     </g>\r\n     <g id=\"text_188\">\r\n      <!-- 38 -->\r\n      <g transform=\"translate(27.240625 261.884924)scale(0.1 -0.1)\">\r\n       <use xlink:href=\"#DejaVuSans-51\"/>\r\n       <use x=\"63.623047\" xlink:href=\"#DejaVuSans-56\"/>\r\n      </g>\r\n     </g>\r\n    </g>\r\n    <g id=\"ytick_40\">\r\n     <g id=\"line2d_188\">\r\n      <g>\r\n       <use style=\"stroke:#000000;stroke-width:0.8;\" x=\"46.965625\" xlink:href=\"#maf537014b4\" y=\"262.61003\"/>\r\n      </g>\r\n     </g>\r\n     <g id=\"text_189\">\r\n      <!-- 39 -->\r\n      <g transform=\"translate(27.240625 266.409248)scale(0.1 -0.1)\">\r\n       <use xlink:href=\"#DejaVuSans-51\"/>\r\n       <use x=\"63.623047\" xlink:href=\"#DejaVuSans-57\"/>\r\n      </g>\r\n     </g>\r\n    </g>\r\n    <g id=\"ytick_41\">\r\n     <g id=\"line2d_189\">\r\n      <g>\r\n       <use style=\"stroke:#000000;stroke-width:0.8;\" x=\"46.965625\" xlink:href=\"#maf537014b4\" y=\"267.134354\"/>\r\n      </g>\r\n     </g>\r\n     <g id=\"text_190\">\r\n      <!-- 40 -->\r\n      <g transform=\"translate(27.240625 270.933573)scale(0.1 -0.1)\">\r\n       <use xlink:href=\"#DejaVuSans-52\"/>\r\n       <use x=\"63.623047\" xlink:href=\"#DejaVuSans-48\"/>\r\n      </g>\r\n     </g>\r\n    </g>\r\n    <g id=\"ytick_42\">\r\n     <g id=\"line2d_190\">\r\n      <g>\r\n       <use style=\"stroke:#000000;stroke-width:0.8;\" x=\"46.965625\" xlink:href=\"#maf537014b4\" y=\"271.658678\"/>\r\n      </g>\r\n     </g>\r\n     <g id=\"text_191\">\r\n      <!-- 41 -->\r\n      <g transform=\"translate(27.240625 275.457897)scale(0.1 -0.1)\">\r\n       <use xlink:href=\"#DejaVuSans-52\"/>\r\n       <use x=\"63.623047\" xlink:href=\"#DejaVuSans-49\"/>\r\n      </g>\r\n     </g>\r\n    </g>\r\n    <g id=\"ytick_43\">\r\n     <g id=\"line2d_191\">\r\n      <g>\r\n       <use style=\"stroke:#000000;stroke-width:0.8;\" x=\"46.965625\" xlink:href=\"#maf537014b4\" y=\"276.183003\"/>\r\n      </g>\r\n     </g>\r\n     <g id=\"text_192\">\r\n      <!-- 42 -->\r\n      <g transform=\"translate(27.240625 279.982221)scale(0.1 -0.1)\">\r\n       <use xlink:href=\"#DejaVuSans-52\"/>\r\n       <use x=\"63.623047\" xlink:href=\"#DejaVuSans-50\"/>\r\n      </g>\r\n     </g>\r\n    </g>\r\n    <g id=\"ytick_44\">\r\n     <g id=\"line2d_192\">\r\n      <g>\r\n       <use style=\"stroke:#000000;stroke-width:0.8;\" x=\"46.965625\" xlink:href=\"#maf537014b4\" y=\"280.707327\"/>\r\n      </g>\r\n     </g>\r\n     <g id=\"text_193\">\r\n      <!-- 43 -->\r\n      <g transform=\"translate(27.240625 284.506546)scale(0.1 -0.1)\">\r\n       <use xlink:href=\"#DejaVuSans-52\"/>\r\n       <use x=\"63.623047\" xlink:href=\"#DejaVuSans-51\"/>\r\n      </g>\r\n     </g>\r\n    </g>\r\n    <g id=\"ytick_45\">\r\n     <g id=\"line2d_193\">\r\n      <g>\r\n       <use style=\"stroke:#000000;stroke-width:0.8;\" x=\"46.965625\" xlink:href=\"#maf537014b4\" y=\"285.231651\"/>\r\n      </g>\r\n     </g>\r\n     <g id=\"text_194\">\r\n      <!-- 44 -->\r\n      <g transform=\"translate(27.240625 289.03087)scale(0.1 -0.1)\">\r\n       <use xlink:href=\"#DejaVuSans-52\"/>\r\n       <use x=\"63.623047\" xlink:href=\"#DejaVuSans-52\"/>\r\n      </g>\r\n     </g>\r\n    </g>\r\n    <g id=\"ytick_46\">\r\n     <g id=\"line2d_194\">\r\n      <g>\r\n       <use style=\"stroke:#000000;stroke-width:0.8;\" x=\"46.965625\" xlink:href=\"#maf537014b4\" y=\"289.755976\"/>\r\n      </g>\r\n     </g>\r\n     <g id=\"text_195\">\r\n      <!-- 45 -->\r\n      <g transform=\"translate(27.240625 293.555194)scale(0.1 -0.1)\">\r\n       <use xlink:href=\"#DejaVuSans-52\"/>\r\n       <use x=\"63.623047\" xlink:href=\"#DejaVuSans-53\"/>\r\n      </g>\r\n     </g>\r\n    </g>\r\n    <g id=\"ytick_47\">\r\n     <g id=\"line2d_195\">\r\n      <g>\r\n       <use style=\"stroke:#000000;stroke-width:0.8;\" x=\"46.965625\" xlink:href=\"#maf537014b4\" y=\"294.2803\"/>\r\n      </g>\r\n     </g>\r\n     <g id=\"text_196\">\r\n      <!-- 46 -->\r\n      <g transform=\"translate(27.240625 298.079519)scale(0.1 -0.1)\">\r\n       <use xlink:href=\"#DejaVuSans-52\"/>\r\n       <use x=\"63.623047\" xlink:href=\"#DejaVuSans-54\"/>\r\n      </g>\r\n     </g>\r\n    </g>\r\n    <g id=\"ytick_48\">\r\n     <g id=\"line2d_196\">\r\n      <g>\r\n       <use style=\"stroke:#000000;stroke-width:0.8;\" x=\"46.965625\" xlink:href=\"#maf537014b4\" y=\"298.804624\"/>\r\n      </g>\r\n     </g>\r\n     <g id=\"text_197\">\r\n      <!-- 47 -->\r\n      <g transform=\"translate(27.240625 302.603843)scale(0.1 -0.1)\">\r\n       <use xlink:href=\"#DejaVuSans-52\"/>\r\n       <use x=\"63.623047\" xlink:href=\"#DejaVuSans-55\"/>\r\n      </g>\r\n     </g>\r\n    </g>\r\n    <g id=\"ytick_49\">\r\n     <g id=\"line2d_197\">\r\n      <g>\r\n       <use style=\"stroke:#000000;stroke-width:0.8;\" x=\"46.965625\" xlink:href=\"#maf537014b4\" y=\"303.328948\"/>\r\n      </g>\r\n     </g>\r\n     <g id=\"text_198\">\r\n      <!-- 48 -->\r\n      <g transform=\"translate(27.240625 307.128167)scale(0.1 -0.1)\">\r\n       <use xlink:href=\"#DejaVuSans-52\"/>\r\n       <use x=\"63.623047\" xlink:href=\"#DejaVuSans-56\"/>\r\n      </g>\r\n     </g>\r\n    </g>\r\n    <g id=\"ytick_50\">\r\n     <g id=\"line2d_198\">\r\n      <g>\r\n       <use style=\"stroke:#000000;stroke-width:0.8;\" x=\"46.965625\" xlink:href=\"#maf537014b4\" y=\"307.853273\"/>\r\n      </g>\r\n     </g>\r\n     <g id=\"text_199\">\r\n      <!-- 49 -->\r\n      <g transform=\"translate(27.240625 311.652492)scale(0.1 -0.1)\">\r\n       <use xlink:href=\"#DejaVuSans-52\"/>\r\n       <use x=\"63.623047\" xlink:href=\"#DejaVuSans-57\"/>\r\n      </g>\r\n     </g>\r\n    </g>\r\n    <g id=\"ytick_51\">\r\n     <g id=\"line2d_199\">\r\n      <g>\r\n       <use style=\"stroke:#000000;stroke-width:0.8;\" x=\"46.965625\" xlink:href=\"#maf537014b4\" y=\"312.377597\"/>\r\n      </g>\r\n     </g>\r\n     <g id=\"text_200\">\r\n      <!-- 50 -->\r\n      <g transform=\"translate(27.240625 316.176816)scale(0.1 -0.1)\">\r\n       <use xlink:href=\"#DejaVuSans-53\"/>\r\n       <use x=\"63.623047\" xlink:href=\"#DejaVuSans-48\"/>\r\n      </g>\r\n     </g>\r\n    </g>\r\n    <g id=\"ytick_52\">\r\n     <g id=\"line2d_200\">\r\n      <g>\r\n       <use style=\"stroke:#000000;stroke-width:0.8;\" x=\"46.965625\" xlink:href=\"#maf537014b4\" y=\"316.901921\"/>\r\n      </g>\r\n     </g>\r\n     <g id=\"text_201\">\r\n      <!-- 51 -->\r\n      <g transform=\"translate(27.240625 320.70114)scale(0.1 -0.1)\">\r\n       <use xlink:href=\"#DejaVuSans-53\"/>\r\n       <use x=\"63.623047\" xlink:href=\"#DejaVuSans-49\"/>\r\n      </g>\r\n     </g>\r\n    </g>\r\n    <g id=\"ytick_53\">\r\n     <g id=\"line2d_201\">\r\n      <g>\r\n       <use style=\"stroke:#000000;stroke-width:0.8;\" x=\"46.965625\" xlink:href=\"#maf537014b4\" y=\"321.426246\"/>\r\n      </g>\r\n     </g>\r\n     <g id=\"text_202\">\r\n      <!-- 52 -->\r\n      <g transform=\"translate(27.240625 325.225465)scale(0.1 -0.1)\">\r\n       <use xlink:href=\"#DejaVuSans-53\"/>\r\n       <use x=\"63.623047\" xlink:href=\"#DejaVuSans-50\"/>\r\n      </g>\r\n     </g>\r\n    </g>\r\n    <g id=\"ytick_54\">\r\n     <g id=\"line2d_202\">\r\n      <g>\r\n       <use style=\"stroke:#000000;stroke-width:0.8;\" x=\"46.965625\" xlink:href=\"#maf537014b4\" y=\"325.95057\"/>\r\n      </g>\r\n     </g>\r\n     <g id=\"text_203\">\r\n      <!-- 53 -->\r\n      <g transform=\"translate(27.240625 329.749789)scale(0.1 -0.1)\">\r\n       <use xlink:href=\"#DejaVuSans-53\"/>\r\n       <use x=\"63.623047\" xlink:href=\"#DejaVuSans-51\"/>\r\n      </g>\r\n     </g>\r\n    </g>\r\n    <g id=\"ytick_55\">\r\n     <g id=\"line2d_203\">\r\n      <g>\r\n       <use style=\"stroke:#000000;stroke-width:0.8;\" x=\"46.965625\" xlink:href=\"#maf537014b4\" y=\"330.474894\"/>\r\n      </g>\r\n     </g>\r\n     <g id=\"text_204\">\r\n      <!-- 54 -->\r\n      <g transform=\"translate(27.240625 334.274113)scale(0.1 -0.1)\">\r\n       <use xlink:href=\"#DejaVuSans-53\"/>\r\n       <use x=\"63.623047\" xlink:href=\"#DejaVuSans-52\"/>\r\n      </g>\r\n     </g>\r\n    </g>\r\n    <g id=\"ytick_56\">\r\n     <g id=\"line2d_204\">\r\n      <g>\r\n       <use style=\"stroke:#000000;stroke-width:0.8;\" x=\"46.965625\" xlink:href=\"#maf537014b4\" y=\"334.999219\"/>\r\n      </g>\r\n     </g>\r\n     <g id=\"text_205\">\r\n      <!-- 55 -->\r\n      <g transform=\"translate(27.240625 338.798437)scale(0.1 -0.1)\">\r\n       <use xlink:href=\"#DejaVuSans-53\"/>\r\n       <use x=\"63.623047\" xlink:href=\"#DejaVuSans-53\"/>\r\n      </g>\r\n     </g>\r\n    </g>\r\n    <g id=\"ytick_57\">\r\n     <g id=\"line2d_205\">\r\n      <g>\r\n       <use style=\"stroke:#000000;stroke-width:0.8;\" x=\"46.965625\" xlink:href=\"#maf537014b4\" y=\"339.523543\"/>\r\n      </g>\r\n     </g>\r\n     <g id=\"text_206\">\r\n      <!-- 56 -->\r\n      <g transform=\"translate(27.240625 343.322762)scale(0.1 -0.1)\">\r\n       <use xlink:href=\"#DejaVuSans-53\"/>\r\n       <use x=\"63.623047\" xlink:href=\"#DejaVuSans-54\"/>\r\n      </g>\r\n     </g>\r\n    </g>\r\n    <g id=\"ytick_58\">\r\n     <g id=\"line2d_206\">\r\n      <g>\r\n       <use style=\"stroke:#000000;stroke-width:0.8;\" x=\"46.965625\" xlink:href=\"#maf537014b4\" y=\"344.047867\"/>\r\n      </g>\r\n     </g>\r\n     <g id=\"text_207\">\r\n      <!-- 57 -->\r\n      <g transform=\"translate(27.240625 347.847086)scale(0.1 -0.1)\">\r\n       <use xlink:href=\"#DejaVuSans-53\"/>\r\n       <use x=\"63.623047\" xlink:href=\"#DejaVuSans-55\"/>\r\n      </g>\r\n     </g>\r\n    </g>\r\n    <g id=\"ytick_59\">\r\n     <g id=\"line2d_207\">\r\n      <g>\r\n       <use style=\"stroke:#000000;stroke-width:0.8;\" x=\"46.965625\" xlink:href=\"#maf537014b4\" y=\"348.572192\"/>\r\n      </g>\r\n     </g>\r\n     <g id=\"text_208\">\r\n      <!-- 58 -->\r\n      <g transform=\"translate(27.240625 352.37141)scale(0.1 -0.1)\">\r\n       <use xlink:href=\"#DejaVuSans-53\"/>\r\n       <use x=\"63.623047\" xlink:href=\"#DejaVuSans-56\"/>\r\n      </g>\r\n     </g>\r\n    </g>\r\n    <g id=\"ytick_60\">\r\n     <g id=\"line2d_208\">\r\n      <g>\r\n       <use style=\"stroke:#000000;stroke-width:0.8;\" x=\"46.965625\" xlink:href=\"#maf537014b4\" y=\"353.096516\"/>\r\n      </g>\r\n     </g>\r\n     <g id=\"text_209\">\r\n      <!-- 59 -->\r\n      <g transform=\"translate(27.240625 356.895735)scale(0.1 -0.1)\">\r\n       <use xlink:href=\"#DejaVuSans-53\"/>\r\n       <use x=\"63.623047\" xlink:href=\"#DejaVuSans-57\"/>\r\n      </g>\r\n     </g>\r\n    </g>\r\n    <g id=\"ytick_61\">\r\n     <g id=\"line2d_209\">\r\n      <g>\r\n       <use style=\"stroke:#000000;stroke-width:0.8;\" x=\"46.965625\" xlink:href=\"#maf537014b4\" y=\"357.62084\"/>\r\n      </g>\r\n     </g>\r\n     <g id=\"text_210\">\r\n      <!-- 60 -->\r\n      <g transform=\"translate(27.240625 361.420059)scale(0.1 -0.1)\">\r\n       <use xlink:href=\"#DejaVuSans-54\"/>\r\n       <use x=\"63.623047\" xlink:href=\"#DejaVuSans-48\"/>\r\n      </g>\r\n     </g>\r\n    </g>\r\n    <g id=\"ytick_62\">\r\n     <g id=\"line2d_210\">\r\n      <g>\r\n       <use style=\"stroke:#000000;stroke-width:0.8;\" x=\"46.965625\" xlink:href=\"#maf537014b4\" y=\"362.145165\"/>\r\n      </g>\r\n     </g>\r\n     <g id=\"text_211\">\r\n      <!-- 61 -->\r\n      <g transform=\"translate(27.240625 365.944383)scale(0.1 -0.1)\">\r\n       <use xlink:href=\"#DejaVuSans-54\"/>\r\n       <use x=\"63.623047\" xlink:href=\"#DejaVuSans-49\"/>\r\n      </g>\r\n     </g>\r\n    </g>\r\n    <g id=\"ytick_63\">\r\n     <g id=\"line2d_211\">\r\n      <g>\r\n       <use style=\"stroke:#000000;stroke-width:0.8;\" x=\"46.965625\" xlink:href=\"#maf537014b4\" y=\"366.669489\"/>\r\n      </g>\r\n     </g>\r\n     <g id=\"text_212\">\r\n      <!-- 62 -->\r\n      <g transform=\"translate(27.240625 370.468708)scale(0.1 -0.1)\">\r\n       <use xlink:href=\"#DejaVuSans-54\"/>\r\n       <use x=\"63.623047\" xlink:href=\"#DejaVuSans-50\"/>\r\n      </g>\r\n     </g>\r\n    </g>\r\n    <g id=\"ytick_64\">\r\n     <g id=\"line2d_212\">\r\n      <g>\r\n       <use style=\"stroke:#000000;stroke-width:0.8;\" x=\"46.965625\" xlink:href=\"#maf537014b4\" y=\"371.193813\"/>\r\n      </g>\r\n     </g>\r\n     <g id=\"text_213\">\r\n      <!-- 63 -->\r\n      <g transform=\"translate(27.240625 374.993032)scale(0.1 -0.1)\">\r\n       <use xlink:href=\"#DejaVuSans-54\"/>\r\n       <use x=\"63.623047\" xlink:href=\"#DejaVuSans-51\"/>\r\n      </g>\r\n     </g>\r\n    </g>\r\n    <g id=\"ytick_65\">\r\n     <g id=\"line2d_213\">\r\n      <g>\r\n       <use style=\"stroke:#000000;stroke-width:0.8;\" x=\"46.965625\" xlink:href=\"#maf537014b4\" y=\"375.718138\"/>\r\n      </g>\r\n     </g>\r\n     <g id=\"text_214\">\r\n      <!-- 64 -->\r\n      <g transform=\"translate(27.240625 379.517356)scale(0.1 -0.1)\">\r\n       <use xlink:href=\"#DejaVuSans-54\"/>\r\n       <use x=\"63.623047\" xlink:href=\"#DejaVuSans-52\"/>\r\n      </g>\r\n     </g>\r\n    </g>\r\n    <g id=\"ytick_66\">\r\n     <g id=\"line2d_214\">\r\n      <g>\r\n       <use style=\"stroke:#000000;stroke-width:0.8;\" x=\"46.965625\" xlink:href=\"#maf537014b4\" y=\"380.242462\"/>\r\n      </g>\r\n     </g>\r\n     <g id=\"text_215\">\r\n      <!-- 65 -->\r\n      <g transform=\"translate(27.240625 384.041681)scale(0.1 -0.1)\">\r\n       <use xlink:href=\"#DejaVuSans-54\"/>\r\n       <use x=\"63.623047\" xlink:href=\"#DejaVuSans-53\"/>\r\n      </g>\r\n     </g>\r\n    </g>\r\n    <g id=\"ytick_67\">\r\n     <g id=\"line2d_215\">\r\n      <g>\r\n       <use style=\"stroke:#000000;stroke-width:0.8;\" x=\"46.965625\" xlink:href=\"#maf537014b4\" y=\"384.766786\"/>\r\n      </g>\r\n     </g>\r\n     <g id=\"text_216\">\r\n      <!-- 66 -->\r\n      <g transform=\"translate(27.240625 388.566005)scale(0.1 -0.1)\">\r\n       <use xlink:href=\"#DejaVuSans-54\"/>\r\n       <use x=\"63.623047\" xlink:href=\"#DejaVuSans-54\"/>\r\n      </g>\r\n     </g>\r\n    </g>\r\n    <g id=\"ytick_68\">\r\n     <g id=\"line2d_216\">\r\n      <g>\r\n       <use style=\"stroke:#000000;stroke-width:0.8;\" x=\"46.965625\" xlink:href=\"#maf537014b4\" y=\"389.291111\"/>\r\n      </g>\r\n     </g>\r\n     <g id=\"text_217\">\r\n      <!-- 67 -->\r\n      <g transform=\"translate(27.240625 393.090329)scale(0.1 -0.1)\">\r\n       <use xlink:href=\"#DejaVuSans-54\"/>\r\n       <use x=\"63.623047\" xlink:href=\"#DejaVuSans-55\"/>\r\n      </g>\r\n     </g>\r\n    </g>\r\n    <g id=\"ytick_69\">\r\n     <g id=\"line2d_217\">\r\n      <g>\r\n       <use style=\"stroke:#000000;stroke-width:0.8;\" x=\"46.965625\" xlink:href=\"#maf537014b4\" y=\"393.815435\"/>\r\n      </g>\r\n     </g>\r\n     <g id=\"text_218\">\r\n      <!-- 68 -->\r\n      <g transform=\"translate(27.240625 397.614654)scale(0.1 -0.1)\">\r\n       <use xlink:href=\"#DejaVuSans-54\"/>\r\n       <use x=\"63.623047\" xlink:href=\"#DejaVuSans-56\"/>\r\n      </g>\r\n     </g>\r\n    </g>\r\n    <g id=\"ytick_70\">\r\n     <g id=\"line2d_218\">\r\n      <g>\r\n       <use style=\"stroke:#000000;stroke-width:0.8;\" x=\"46.965625\" xlink:href=\"#maf537014b4\" y=\"398.339759\"/>\r\n      </g>\r\n     </g>\r\n     <g id=\"text_219\">\r\n      <!-- 69 -->\r\n      <g transform=\"translate(27.240625 402.138978)scale(0.1 -0.1)\">\r\n       <use xlink:href=\"#DejaVuSans-54\"/>\r\n       <use x=\"63.623047\" xlink:href=\"#DejaVuSans-57\"/>\r\n      </g>\r\n     </g>\r\n    </g>\r\n    <g id=\"ytick_71\">\r\n     <g id=\"line2d_219\">\r\n      <g>\r\n       <use style=\"stroke:#000000;stroke-width:0.8;\" x=\"46.965625\" xlink:href=\"#maf537014b4\" y=\"402.864084\"/>\r\n      </g>\r\n     </g>\r\n     <g id=\"text_220\">\r\n      <!-- 70 -->\r\n      <g transform=\"translate(27.240625 406.663302)scale(0.1 -0.1)\">\r\n       <use xlink:href=\"#DejaVuSans-55\"/>\r\n       <use x=\"63.623047\" xlink:href=\"#DejaVuSans-48\"/>\r\n      </g>\r\n     </g>\r\n    </g>\r\n    <g id=\"ytick_72\">\r\n     <g id=\"line2d_220\">\r\n      <g>\r\n       <use style=\"stroke:#000000;stroke-width:0.8;\" x=\"46.965625\" xlink:href=\"#maf537014b4\" y=\"407.388408\"/>\r\n      </g>\r\n     </g>\r\n     <g id=\"text_221\">\r\n      <!-- 71 -->\r\n      <g transform=\"translate(27.240625 411.187627)scale(0.1 -0.1)\">\r\n       <use xlink:href=\"#DejaVuSans-55\"/>\r\n       <use x=\"63.623047\" xlink:href=\"#DejaVuSans-49\"/>\r\n      </g>\r\n     </g>\r\n    </g>\r\n    <g id=\"ytick_73\">\r\n     <g id=\"line2d_221\">\r\n      <g>\r\n       <use style=\"stroke:#000000;stroke-width:0.8;\" x=\"46.965625\" xlink:href=\"#maf537014b4\" y=\"411.912732\"/>\r\n      </g>\r\n     </g>\r\n     <g id=\"text_222\">\r\n      <!-- 72 -->\r\n      <g transform=\"translate(27.240625 415.711951)scale(0.1 -0.1)\">\r\n       <use xlink:href=\"#DejaVuSans-55\"/>\r\n       <use x=\"63.623047\" xlink:href=\"#DejaVuSans-50\"/>\r\n      </g>\r\n     </g>\r\n    </g>\r\n    <g id=\"ytick_74\">\r\n     <g id=\"line2d_222\">\r\n      <g>\r\n       <use style=\"stroke:#000000;stroke-width:0.8;\" x=\"46.965625\" xlink:href=\"#maf537014b4\" y=\"416.437057\"/>\r\n      </g>\r\n     </g>\r\n     <g id=\"text_223\">\r\n      <!-- 73 -->\r\n      <g transform=\"translate(27.240625 420.236275)scale(0.1 -0.1)\">\r\n       <use xlink:href=\"#DejaVuSans-55\"/>\r\n       <use x=\"63.623047\" xlink:href=\"#DejaVuSans-51\"/>\r\n      </g>\r\n     </g>\r\n    </g>\r\n    <g id=\"ytick_75\">\r\n     <g id=\"line2d_223\">\r\n      <g>\r\n       <use style=\"stroke:#000000;stroke-width:0.8;\" x=\"46.965625\" xlink:href=\"#maf537014b4\" y=\"420.961381\"/>\r\n      </g>\r\n     </g>\r\n     <g id=\"text_224\">\r\n      <!-- 74 -->\r\n      <g transform=\"translate(27.240625 424.7606)scale(0.1 -0.1)\">\r\n       <use xlink:href=\"#DejaVuSans-55\"/>\r\n       <use x=\"63.623047\" xlink:href=\"#DejaVuSans-52\"/>\r\n      </g>\r\n     </g>\r\n    </g>\r\n    <g id=\"ytick_76\">\r\n     <g id=\"line2d_224\">\r\n      <g>\r\n       <use style=\"stroke:#000000;stroke-width:0.8;\" x=\"46.965625\" xlink:href=\"#maf537014b4\" y=\"425.485705\"/>\r\n      </g>\r\n     </g>\r\n     <g id=\"text_225\">\r\n      <!-- 75 -->\r\n      <g transform=\"translate(27.240625 429.284924)scale(0.1 -0.1)\">\r\n       <use xlink:href=\"#DejaVuSans-55\"/>\r\n       <use x=\"63.623047\" xlink:href=\"#DejaVuSans-53\"/>\r\n      </g>\r\n     </g>\r\n    </g>\r\n    <g id=\"ytick_77\">\r\n     <g id=\"line2d_225\">\r\n      <g>\r\n       <use style=\"stroke:#000000;stroke-width:0.8;\" x=\"46.965625\" xlink:href=\"#maf537014b4\" y=\"430.01003\"/>\r\n      </g>\r\n     </g>\r\n     <g id=\"text_226\">\r\n      <!-- 76 -->\r\n      <g transform=\"translate(27.240625 433.809248)scale(0.1 -0.1)\">\r\n       <use xlink:href=\"#DejaVuSans-55\"/>\r\n       <use x=\"63.623047\" xlink:href=\"#DejaVuSans-54\"/>\r\n      </g>\r\n     </g>\r\n    </g>\r\n    <g id=\"ytick_78\">\r\n     <g id=\"line2d_226\">\r\n      <g>\r\n       <use style=\"stroke:#000000;stroke-width:0.8;\" x=\"46.965625\" xlink:href=\"#maf537014b4\" y=\"434.534354\"/>\r\n      </g>\r\n     </g>\r\n     <g id=\"text_227\">\r\n      <!-- 77 -->\r\n      <g transform=\"translate(27.240625 438.333573)scale(0.1 -0.1)\">\r\n       <use xlink:href=\"#DejaVuSans-55\"/>\r\n       <use x=\"63.623047\" xlink:href=\"#DejaVuSans-55\"/>\r\n      </g>\r\n     </g>\r\n    </g>\r\n    <g id=\"ytick_79\">\r\n     <g id=\"line2d_227\">\r\n      <g>\r\n       <use style=\"stroke:#000000;stroke-width:0.8;\" x=\"46.965625\" xlink:href=\"#maf537014b4\" y=\"439.058678\"/>\r\n      </g>\r\n     </g>\r\n     <g id=\"text_228\">\r\n      <!-- 78 -->\r\n      <g transform=\"translate(27.240625 442.857897)scale(0.1 -0.1)\">\r\n       <use xlink:href=\"#DejaVuSans-55\"/>\r\n       <use x=\"63.623047\" xlink:href=\"#DejaVuSans-56\"/>\r\n      </g>\r\n     </g>\r\n    </g>\r\n    <g id=\"ytick_80\">\r\n     <g id=\"line2d_228\">\r\n      <g>\r\n       <use style=\"stroke:#000000;stroke-width:0.8;\" x=\"46.965625\" xlink:href=\"#maf537014b4\" y=\"443.583003\"/>\r\n      </g>\r\n     </g>\r\n     <g id=\"text_229\">\r\n      <!-- 79 -->\r\n      <g transform=\"translate(27.240625 447.382221)scale(0.1 -0.1)\">\r\n       <use xlink:href=\"#DejaVuSans-55\"/>\r\n       <use x=\"63.623047\" xlink:href=\"#DejaVuSans-57\"/>\r\n      </g>\r\n     </g>\r\n    </g>\r\n    <g id=\"ytick_81\">\r\n     <g id=\"line2d_229\">\r\n      <g>\r\n       <use style=\"stroke:#000000;stroke-width:0.8;\" x=\"46.965625\" xlink:href=\"#maf537014b4\" y=\"448.107327\"/>\r\n      </g>\r\n     </g>\r\n     <g id=\"text_230\">\r\n      <!-- 80 -->\r\n      <g transform=\"translate(27.240625 451.906546)scale(0.1 -0.1)\">\r\n       <use xlink:href=\"#DejaVuSans-56\"/>\r\n       <use x=\"63.623047\" xlink:href=\"#DejaVuSans-48\"/>\r\n      </g>\r\n     </g>\r\n    </g>\r\n    <g id=\"ytick_82\">\r\n     <g id=\"line2d_230\">\r\n      <g>\r\n       <use style=\"stroke:#000000;stroke-width:0.8;\" x=\"46.965625\" xlink:href=\"#maf537014b4\" y=\"452.631651\"/>\r\n      </g>\r\n     </g>\r\n     <g id=\"text_231\">\r\n      <!-- 81 -->\r\n      <g transform=\"translate(27.240625 456.43087)scale(0.1 -0.1)\">\r\n       <use xlink:href=\"#DejaVuSans-56\"/>\r\n       <use x=\"63.623047\" xlink:href=\"#DejaVuSans-49\"/>\r\n      </g>\r\n     </g>\r\n    </g>\r\n    <g id=\"ytick_83\">\r\n     <g id=\"line2d_231\">\r\n      <g>\r\n       <use style=\"stroke:#000000;stroke-width:0.8;\" x=\"46.965625\" xlink:href=\"#maf537014b4\" y=\"457.155976\"/>\r\n      </g>\r\n     </g>\r\n     <g id=\"text_232\">\r\n      <!-- 82 -->\r\n      <g transform=\"translate(27.240625 460.955194)scale(0.1 -0.1)\">\r\n       <use xlink:href=\"#DejaVuSans-56\"/>\r\n       <use x=\"63.623047\" xlink:href=\"#DejaVuSans-50\"/>\r\n      </g>\r\n     </g>\r\n    </g>\r\n    <g id=\"ytick_84\">\r\n     <g id=\"line2d_232\">\r\n      <g>\r\n       <use style=\"stroke:#000000;stroke-width:0.8;\" x=\"46.965625\" xlink:href=\"#maf537014b4\" y=\"461.6803\"/>\r\n      </g>\r\n     </g>\r\n     <g id=\"text_233\">\r\n      <!-- 83 -->\r\n      <g transform=\"translate(27.240625 465.479519)scale(0.1 -0.1)\">\r\n       <use xlink:href=\"#DejaVuSans-56\"/>\r\n       <use x=\"63.623047\" xlink:href=\"#DejaVuSans-51\"/>\r\n      </g>\r\n     </g>\r\n    </g>\r\n    <g id=\"ytick_85\">\r\n     <g id=\"line2d_233\">\r\n      <g>\r\n       <use style=\"stroke:#000000;stroke-width:0.8;\" x=\"46.965625\" xlink:href=\"#maf537014b4\" y=\"466.204624\"/>\r\n      </g>\r\n     </g>\r\n     <g id=\"text_234\">\r\n      <!-- 84 -->\r\n      <g transform=\"translate(27.240625 470.003843)scale(0.1 -0.1)\">\r\n       <use xlink:href=\"#DejaVuSans-56\"/>\r\n       <use x=\"63.623047\" xlink:href=\"#DejaVuSans-52\"/>\r\n      </g>\r\n     </g>\r\n    </g>\r\n    <g id=\"ytick_86\">\r\n     <g id=\"line2d_234\">\r\n      <g>\r\n       <use style=\"stroke:#000000;stroke-width:0.8;\" x=\"46.965625\" xlink:href=\"#maf537014b4\" y=\"470.728948\"/>\r\n      </g>\r\n     </g>\r\n     <g id=\"text_235\">\r\n      <!-- 85 -->\r\n      <g transform=\"translate(27.240625 474.528167)scale(0.1 -0.1)\">\r\n       <use xlink:href=\"#DejaVuSans-56\"/>\r\n       <use x=\"63.623047\" xlink:href=\"#DejaVuSans-53\"/>\r\n      </g>\r\n     </g>\r\n    </g>\r\n    <g id=\"ytick_87\">\r\n     <g id=\"line2d_235\">\r\n      <g>\r\n       <use style=\"stroke:#000000;stroke-width:0.8;\" x=\"46.965625\" xlink:href=\"#maf537014b4\" y=\"475.253273\"/>\r\n      </g>\r\n     </g>\r\n     <g id=\"text_236\">\r\n      <!-- 86 -->\r\n      <g transform=\"translate(27.240625 479.052492)scale(0.1 -0.1)\">\r\n       <use xlink:href=\"#DejaVuSans-56\"/>\r\n       <use x=\"63.623047\" xlink:href=\"#DejaVuSans-54\"/>\r\n      </g>\r\n     </g>\r\n    </g>\r\n    <g id=\"ytick_88\">\r\n     <g id=\"line2d_236\">\r\n      <g>\r\n       <use style=\"stroke:#000000;stroke-width:0.8;\" x=\"46.965625\" xlink:href=\"#maf537014b4\" y=\"479.777597\"/>\r\n      </g>\r\n     </g>\r\n     <g id=\"text_237\">\r\n      <!-- 87 -->\r\n      <g transform=\"translate(27.240625 483.576816)scale(0.1 -0.1)\">\r\n       <use xlink:href=\"#DejaVuSans-56\"/>\r\n       <use x=\"63.623047\" xlink:href=\"#DejaVuSans-55\"/>\r\n      </g>\r\n     </g>\r\n    </g>\r\n    <g id=\"ytick_89\">\r\n     <g id=\"line2d_237\">\r\n      <g>\r\n       <use style=\"stroke:#000000;stroke-width:0.8;\" x=\"46.965625\" xlink:href=\"#maf537014b4\" y=\"484.301921\"/>\r\n      </g>\r\n     </g>\r\n     <g id=\"text_238\">\r\n      <!-- 88 -->\r\n      <g transform=\"translate(27.240625 488.10114)scale(0.1 -0.1)\">\r\n       <use xlink:href=\"#DejaVuSans-56\"/>\r\n       <use x=\"63.623047\" xlink:href=\"#DejaVuSans-56\"/>\r\n      </g>\r\n     </g>\r\n    </g>\r\n    <g id=\"ytick_90\">\r\n     <g id=\"line2d_238\">\r\n      <g>\r\n       <use style=\"stroke:#000000;stroke-width:0.8;\" x=\"46.965625\" xlink:href=\"#maf537014b4\" y=\"488.826246\"/>\r\n      </g>\r\n     </g>\r\n     <g id=\"text_239\">\r\n      <!-- 89 -->\r\n      <g transform=\"translate(27.240625 492.625465)scale(0.1 -0.1)\">\r\n       <use xlink:href=\"#DejaVuSans-56\"/>\r\n       <use x=\"63.623047\" xlink:href=\"#DejaVuSans-57\"/>\r\n      </g>\r\n     </g>\r\n    </g>\r\n    <g id=\"ytick_91\">\r\n     <g id=\"line2d_239\">\r\n      <g>\r\n       <use style=\"stroke:#000000;stroke-width:0.8;\" x=\"46.965625\" xlink:href=\"#maf537014b4\" y=\"493.35057\"/>\r\n      </g>\r\n     </g>\r\n     <g id=\"text_240\">\r\n      <!-- 90 -->\r\n      <g transform=\"translate(27.240625 497.149789)scale(0.1 -0.1)\">\r\n       <use xlink:href=\"#DejaVuSans-57\"/>\r\n       <use x=\"63.623047\" xlink:href=\"#DejaVuSans-48\"/>\r\n      </g>\r\n     </g>\r\n    </g>\r\n    <g id=\"ytick_92\">\r\n     <g id=\"line2d_240\">\r\n      <g>\r\n       <use style=\"stroke:#000000;stroke-width:0.8;\" x=\"46.965625\" xlink:href=\"#maf537014b4\" y=\"497.874894\"/>\r\n      </g>\r\n     </g>\r\n     <g id=\"text_241\">\r\n      <!-- 91 -->\r\n      <g transform=\"translate(27.240625 501.674113)scale(0.1 -0.1)\">\r\n       <use xlink:href=\"#DejaVuSans-57\"/>\r\n       <use x=\"63.623047\" xlink:href=\"#DejaVuSans-49\"/>\r\n      </g>\r\n     </g>\r\n    </g>\r\n    <g id=\"ytick_93\">\r\n     <g id=\"line2d_241\">\r\n      <g>\r\n       <use style=\"stroke:#000000;stroke-width:0.8;\" x=\"46.965625\" xlink:href=\"#maf537014b4\" y=\"502.399219\"/>\r\n      </g>\r\n     </g>\r\n     <g id=\"text_242\">\r\n      <!-- 92 -->\r\n      <g transform=\"translate(27.240625 506.198437)scale(0.1 -0.1)\">\r\n       <use xlink:href=\"#DejaVuSans-57\"/>\r\n       <use x=\"63.623047\" xlink:href=\"#DejaVuSans-50\"/>\r\n      </g>\r\n     </g>\r\n    </g>\r\n    <g id=\"ytick_94\">\r\n     <g id=\"line2d_242\">\r\n      <g>\r\n       <use style=\"stroke:#000000;stroke-width:0.8;\" x=\"46.965625\" xlink:href=\"#maf537014b4\" y=\"506.923543\"/>\r\n      </g>\r\n     </g>\r\n     <g id=\"text_243\">\r\n      <!-- 93 -->\r\n      <g transform=\"translate(27.240625 510.722762)scale(0.1 -0.1)\">\r\n       <use xlink:href=\"#DejaVuSans-57\"/>\r\n       <use x=\"63.623047\" xlink:href=\"#DejaVuSans-51\"/>\r\n      </g>\r\n     </g>\r\n    </g>\r\n    <g id=\"ytick_95\">\r\n     <g id=\"line2d_243\">\r\n      <g>\r\n       <use style=\"stroke:#000000;stroke-width:0.8;\" x=\"46.965625\" xlink:href=\"#maf537014b4\" y=\"511.447867\"/>\r\n      </g>\r\n     </g>\r\n     <g id=\"text_244\">\r\n      <!-- 94 -->\r\n      <g transform=\"translate(27.240625 515.247086)scale(0.1 -0.1)\">\r\n       <use xlink:href=\"#DejaVuSans-57\"/>\r\n       <use x=\"63.623047\" xlink:href=\"#DejaVuSans-52\"/>\r\n      </g>\r\n     </g>\r\n    </g>\r\n    <g id=\"ytick_96\">\r\n     <g id=\"line2d_244\">\r\n      <g>\r\n       <use style=\"stroke:#000000;stroke-width:0.8;\" x=\"46.965625\" xlink:href=\"#maf537014b4\" y=\"515.972192\"/>\r\n      </g>\r\n     </g>\r\n     <g id=\"text_245\">\r\n      <!-- 95 -->\r\n      <g transform=\"translate(27.240625 519.77141)scale(0.1 -0.1)\">\r\n       <use xlink:href=\"#DejaVuSans-57\"/>\r\n       <use x=\"63.623047\" xlink:href=\"#DejaVuSans-53\"/>\r\n      </g>\r\n     </g>\r\n    </g>\r\n    <g id=\"ytick_97\">\r\n     <g id=\"line2d_245\">\r\n      <g>\r\n       <use style=\"stroke:#000000;stroke-width:0.8;\" x=\"46.965625\" xlink:href=\"#maf537014b4\" y=\"520.496516\"/>\r\n      </g>\r\n     </g>\r\n     <g id=\"text_246\">\r\n      <!-- 96 -->\r\n      <g transform=\"translate(27.240625 524.295735)scale(0.1 -0.1)\">\r\n       <use xlink:href=\"#DejaVuSans-57\"/>\r\n       <use x=\"63.623047\" xlink:href=\"#DejaVuSans-54\"/>\r\n      </g>\r\n     </g>\r\n    </g>\r\n    <g id=\"ytick_98\">\r\n     <g id=\"line2d_246\">\r\n      <g>\r\n       <use style=\"stroke:#000000;stroke-width:0.8;\" x=\"46.965625\" xlink:href=\"#maf537014b4\" y=\"525.02084\"/>\r\n      </g>\r\n     </g>\r\n     <g id=\"text_247\">\r\n      <!-- 97 -->\r\n      <g transform=\"translate(27.240625 528.820059)scale(0.1 -0.1)\">\r\n       <use xlink:href=\"#DejaVuSans-57\"/>\r\n       <use x=\"63.623047\" xlink:href=\"#DejaVuSans-55\"/>\r\n      </g>\r\n     </g>\r\n    </g>\r\n    <g id=\"ytick_99\">\r\n     <g id=\"line2d_247\">\r\n      <g>\r\n       <use style=\"stroke:#000000;stroke-width:0.8;\" x=\"46.965625\" xlink:href=\"#maf537014b4\" y=\"529.545165\"/>\r\n      </g>\r\n     </g>\r\n     <g id=\"text_248\">\r\n      <!-- 98 -->\r\n      <g transform=\"translate(27.240625 533.344383)scale(0.1 -0.1)\">\r\n       <use xlink:href=\"#DejaVuSans-57\"/>\r\n       <use x=\"63.623047\" xlink:href=\"#DejaVuSans-56\"/>\r\n      </g>\r\n     </g>\r\n    </g>\r\n    <g id=\"ytick_100\">\r\n     <g id=\"line2d_248\">\r\n      <g>\r\n       <use style=\"stroke:#000000;stroke-width:0.8;\" x=\"46.965625\" xlink:href=\"#maf537014b4\" y=\"534.069489\"/>\r\n      </g>\r\n     </g>\r\n     <g id=\"text_249\">\r\n      <!-- 99 -->\r\n      <g transform=\"translate(27.240625 537.868708)scale(0.1 -0.1)\">\r\n       <use xlink:href=\"#DejaVuSans-57\"/>\r\n       <use x=\"63.623047\" xlink:href=\"#DejaVuSans-57\"/>\r\n      </g>\r\n     </g>\r\n    </g>\r\n    <g id=\"ytick_101\">\r\n     <g id=\"line2d_249\">\r\n      <g>\r\n       <use style=\"stroke:#000000;stroke-width:0.8;\" x=\"46.965625\" xlink:href=\"#maf537014b4\" y=\"538.593813\"/>\r\n      </g>\r\n     </g>\r\n     <g id=\"text_250\">\r\n      <!-- 100 -->\r\n      <g transform=\"translate(20.878125 542.393032)scale(0.1 -0.1)\">\r\n       <use xlink:href=\"#DejaVuSans-49\"/>\r\n       <use x=\"63.623047\" xlink:href=\"#DejaVuSans-48\"/>\r\n       <use x=\"127.246094\" xlink:href=\"#DejaVuSans-48\"/>\r\n      </g>\r\n     </g>\r\n    </g>\r\n    <g id=\"ytick_102\">\r\n     <g id=\"line2d_250\">\r\n      <g>\r\n       <use style=\"stroke:#000000;stroke-width:0.8;\" x=\"46.965625\" xlink:href=\"#maf537014b4\" y=\"543.118138\"/>\r\n      </g>\r\n     </g>\r\n     <g id=\"text_251\">\r\n      <!-- 101 -->\r\n      <g transform=\"translate(20.878125 546.917356)scale(0.1 -0.1)\">\r\n       <use xlink:href=\"#DejaVuSans-49\"/>\r\n       <use x=\"63.623047\" xlink:href=\"#DejaVuSans-48\"/>\r\n       <use x=\"127.246094\" xlink:href=\"#DejaVuSans-49\"/>\r\n      </g>\r\n     </g>\r\n    </g>\r\n    <g id=\"ytick_103\">\r\n     <g id=\"line2d_251\">\r\n      <g>\r\n       <use style=\"stroke:#000000;stroke-width:0.8;\" x=\"46.965625\" xlink:href=\"#maf537014b4\" y=\"547.642462\"/>\r\n      </g>\r\n     </g>\r\n     <g id=\"text_252\">\r\n      <!-- 102 -->\r\n      <g transform=\"translate(20.878125 551.441681)scale(0.1 -0.1)\">\r\n       <use xlink:href=\"#DejaVuSans-49\"/>\r\n       <use x=\"63.623047\" xlink:href=\"#DejaVuSans-48\"/>\r\n       <use x=\"127.246094\" xlink:href=\"#DejaVuSans-50\"/>\r\n      </g>\r\n     </g>\r\n    </g>\r\n    <g id=\"ytick_104\">\r\n     <g id=\"line2d_252\">\r\n      <g>\r\n       <use style=\"stroke:#000000;stroke-width:0.8;\" x=\"46.965625\" xlink:href=\"#maf537014b4\" y=\"552.166786\"/>\r\n      </g>\r\n     </g>\r\n     <g id=\"text_253\">\r\n      <!-- 103 -->\r\n      <g transform=\"translate(20.878125 555.966005)scale(0.1 -0.1)\">\r\n       <use xlink:href=\"#DejaVuSans-49\"/>\r\n       <use x=\"63.623047\" xlink:href=\"#DejaVuSans-48\"/>\r\n       <use x=\"127.246094\" xlink:href=\"#DejaVuSans-51\"/>\r\n      </g>\r\n     </g>\r\n    </g>\r\n    <g id=\"ytick_105\">\r\n     <g id=\"line2d_253\">\r\n      <g>\r\n       <use style=\"stroke:#000000;stroke-width:0.8;\" x=\"46.965625\" xlink:href=\"#maf537014b4\" y=\"556.691111\"/>\r\n      </g>\r\n     </g>\r\n     <g id=\"text_254\">\r\n      <!-- 104 -->\r\n      <g transform=\"translate(20.878125 560.490329)scale(0.1 -0.1)\">\r\n       <use xlink:href=\"#DejaVuSans-49\"/>\r\n       <use x=\"63.623047\" xlink:href=\"#DejaVuSans-48\"/>\r\n       <use x=\"127.246094\" xlink:href=\"#DejaVuSans-52\"/>\r\n      </g>\r\n     </g>\r\n    </g>\r\n    <g id=\"ytick_106\">\r\n     <g id=\"line2d_254\">\r\n      <g>\r\n       <use style=\"stroke:#000000;stroke-width:0.8;\" x=\"46.965625\" xlink:href=\"#maf537014b4\" y=\"561.215435\"/>\r\n      </g>\r\n     </g>\r\n     <g id=\"text_255\">\r\n      <!-- 105 -->\r\n      <g transform=\"translate(20.878125 565.014654)scale(0.1 -0.1)\">\r\n       <use xlink:href=\"#DejaVuSans-49\"/>\r\n       <use x=\"63.623047\" xlink:href=\"#DejaVuSans-48\"/>\r\n       <use x=\"127.246094\" xlink:href=\"#DejaVuSans-53\"/>\r\n      </g>\r\n     </g>\r\n    </g>\r\n    <g id=\"ytick_107\">\r\n     <g id=\"line2d_255\">\r\n      <g>\r\n       <use style=\"stroke:#000000;stroke-width:0.8;\" x=\"46.965625\" xlink:href=\"#maf537014b4\" y=\"565.739759\"/>\r\n      </g>\r\n     </g>\r\n     <g id=\"text_256\">\r\n      <!-- 106 -->\r\n      <g transform=\"translate(20.878125 569.538978)scale(0.1 -0.1)\">\r\n       <use xlink:href=\"#DejaVuSans-49\"/>\r\n       <use x=\"63.623047\" xlink:href=\"#DejaVuSans-48\"/>\r\n       <use x=\"127.246094\" xlink:href=\"#DejaVuSans-54\"/>\r\n      </g>\r\n     </g>\r\n    </g>\r\n    <g id=\"ytick_108\">\r\n     <g id=\"line2d_256\">\r\n      <g>\r\n       <use style=\"stroke:#000000;stroke-width:0.8;\" x=\"46.965625\" xlink:href=\"#maf537014b4\" y=\"570.264084\"/>\r\n      </g>\r\n     </g>\r\n     <g id=\"text_257\">\r\n      <!-- 107 -->\r\n      <g transform=\"translate(20.878125 574.063302)scale(0.1 -0.1)\">\r\n       <use xlink:href=\"#DejaVuSans-49\"/>\r\n       <use x=\"63.623047\" xlink:href=\"#DejaVuSans-48\"/>\r\n       <use x=\"127.246094\" xlink:href=\"#DejaVuSans-55\"/>\r\n      </g>\r\n     </g>\r\n    </g>\r\n    <g id=\"ytick_109\">\r\n     <g id=\"line2d_257\">\r\n      <g>\r\n       <use style=\"stroke:#000000;stroke-width:0.8;\" x=\"46.965625\" xlink:href=\"#maf537014b4\" y=\"574.788408\"/>\r\n      </g>\r\n     </g>\r\n     <g id=\"text_258\">\r\n      <!-- 108 -->\r\n      <g transform=\"translate(20.878125 578.587627)scale(0.1 -0.1)\">\r\n       <use xlink:href=\"#DejaVuSans-49\"/>\r\n       <use x=\"63.623047\" xlink:href=\"#DejaVuSans-48\"/>\r\n       <use x=\"127.246094\" xlink:href=\"#DejaVuSans-56\"/>\r\n      </g>\r\n     </g>\r\n    </g>\r\n    <g id=\"ytick_110\">\r\n     <g id=\"line2d_258\">\r\n      <g>\r\n       <use style=\"stroke:#000000;stroke-width:0.8;\" x=\"46.965625\" xlink:href=\"#maf537014b4\" y=\"579.312732\"/>\r\n      </g>\r\n     </g>\r\n     <g id=\"text_259\">\r\n      <!-- 109 -->\r\n      <g transform=\"translate(20.878125 583.111951)scale(0.1 -0.1)\">\r\n       <use xlink:href=\"#DejaVuSans-49\"/>\r\n       <use x=\"63.623047\" xlink:href=\"#DejaVuSans-48\"/>\r\n       <use x=\"127.246094\" xlink:href=\"#DejaVuSans-57\"/>\r\n      </g>\r\n     </g>\r\n    </g>\r\n    <g id=\"ytick_111\">\r\n     <g id=\"line2d_259\">\r\n      <g>\r\n       <use style=\"stroke:#000000;stroke-width:0.8;\" x=\"46.965625\" xlink:href=\"#maf537014b4\" y=\"583.837057\"/>\r\n      </g>\r\n     </g>\r\n     <g id=\"text_260\">\r\n      <!-- 110 -->\r\n      <g transform=\"translate(20.878125 587.636275)scale(0.1 -0.1)\">\r\n       <use xlink:href=\"#DejaVuSans-49\"/>\r\n       <use x=\"63.623047\" xlink:href=\"#DejaVuSans-49\"/>\r\n       <use x=\"127.246094\" xlink:href=\"#DejaVuSans-48\"/>\r\n      </g>\r\n     </g>\r\n    </g>\r\n    <g id=\"ytick_112\">\r\n     <g id=\"line2d_260\">\r\n      <g>\r\n       <use style=\"stroke:#000000;stroke-width:0.8;\" x=\"46.965625\" xlink:href=\"#maf537014b4\" y=\"588.361381\"/>\r\n      </g>\r\n     </g>\r\n     <g id=\"text_261\">\r\n      <!-- 111 -->\r\n      <g transform=\"translate(20.878125 592.1606)scale(0.1 -0.1)\">\r\n       <use xlink:href=\"#DejaVuSans-49\"/>\r\n       <use x=\"63.623047\" xlink:href=\"#DejaVuSans-49\"/>\r\n       <use x=\"127.246094\" xlink:href=\"#DejaVuSans-49\"/>\r\n      </g>\r\n     </g>\r\n    </g>\r\n    <g id=\"ytick_113\">\r\n     <g id=\"line2d_261\">\r\n      <g>\r\n       <use style=\"stroke:#000000;stroke-width:0.8;\" x=\"46.965625\" xlink:href=\"#maf537014b4\" y=\"592.885705\"/>\r\n      </g>\r\n     </g>\r\n     <g id=\"text_262\">\r\n      <!-- 112 -->\r\n      <g transform=\"translate(20.878125 596.684924)scale(0.1 -0.1)\">\r\n       <use xlink:href=\"#DejaVuSans-49\"/>\r\n       <use x=\"63.623047\" xlink:href=\"#DejaVuSans-49\"/>\r\n       <use x=\"127.246094\" xlink:href=\"#DejaVuSans-50\"/>\r\n      </g>\r\n     </g>\r\n    </g>\r\n    <g id=\"ytick_114\">\r\n     <g id=\"line2d_262\">\r\n      <g>\r\n       <use style=\"stroke:#000000;stroke-width:0.8;\" x=\"46.965625\" xlink:href=\"#maf537014b4\" y=\"597.41003\"/>\r\n      </g>\r\n     </g>\r\n     <g id=\"text_263\">\r\n      <!-- 113 -->\r\n      <g transform=\"translate(20.878125 601.209248)scale(0.1 -0.1)\">\r\n       <use xlink:href=\"#DejaVuSans-49\"/>\r\n       <use x=\"63.623047\" xlink:href=\"#DejaVuSans-49\"/>\r\n       <use x=\"127.246094\" xlink:href=\"#DejaVuSans-51\"/>\r\n      </g>\r\n     </g>\r\n    </g>\r\n    <g id=\"ytick_115\">\r\n     <g id=\"line2d_263\">\r\n      <g>\r\n       <use style=\"stroke:#000000;stroke-width:0.8;\" x=\"46.965625\" xlink:href=\"#maf537014b4\" y=\"601.934354\"/>\r\n      </g>\r\n     </g>\r\n     <g id=\"text_264\">\r\n      <!-- 114 -->\r\n      <g transform=\"translate(20.878125 605.733573)scale(0.1 -0.1)\">\r\n       <use xlink:href=\"#DejaVuSans-49\"/>\r\n       <use x=\"63.623047\" xlink:href=\"#DejaVuSans-49\"/>\r\n       <use x=\"127.246094\" xlink:href=\"#DejaVuSans-52\"/>\r\n      </g>\r\n     </g>\r\n    </g>\r\n    <g id=\"ytick_116\">\r\n     <g id=\"line2d_264\">\r\n      <g>\r\n       <use style=\"stroke:#000000;stroke-width:0.8;\" x=\"46.965625\" xlink:href=\"#maf537014b4\" y=\"606.458678\"/>\r\n      </g>\r\n     </g>\r\n     <g id=\"text_265\">\r\n      <!-- 115 -->\r\n      <g transform=\"translate(20.878125 610.257897)scale(0.1 -0.1)\">\r\n       <use xlink:href=\"#DejaVuSans-49\"/>\r\n       <use x=\"63.623047\" xlink:href=\"#DejaVuSans-49\"/>\r\n       <use x=\"127.246094\" xlink:href=\"#DejaVuSans-53\"/>\r\n      </g>\r\n     </g>\r\n    </g>\r\n    <g id=\"ytick_117\">\r\n     <g id=\"line2d_265\">\r\n      <g>\r\n       <use style=\"stroke:#000000;stroke-width:0.8;\" x=\"46.965625\" xlink:href=\"#maf537014b4\" y=\"610.983003\"/>\r\n      </g>\r\n     </g>\r\n     <g id=\"text_266\">\r\n      <!-- 116 -->\r\n      <g transform=\"translate(20.878125 614.782221)scale(0.1 -0.1)\">\r\n       <use xlink:href=\"#DejaVuSans-49\"/>\r\n       <use x=\"63.623047\" xlink:href=\"#DejaVuSans-49\"/>\r\n       <use x=\"127.246094\" xlink:href=\"#DejaVuSans-54\"/>\r\n      </g>\r\n     </g>\r\n    </g>\r\n    <g id=\"ytick_118\">\r\n     <g id=\"line2d_266\">\r\n      <g>\r\n       <use style=\"stroke:#000000;stroke-width:0.8;\" x=\"46.965625\" xlink:href=\"#maf537014b4\" y=\"615.507327\"/>\r\n      </g>\r\n     </g>\r\n     <g id=\"text_267\">\r\n      <!-- 117 -->\r\n      <g transform=\"translate(20.878125 619.306546)scale(0.1 -0.1)\">\r\n       <use xlink:href=\"#DejaVuSans-49\"/>\r\n       <use x=\"63.623047\" xlink:href=\"#DejaVuSans-49\"/>\r\n       <use x=\"127.246094\" xlink:href=\"#DejaVuSans-55\"/>\r\n      </g>\r\n     </g>\r\n    </g>\r\n    <g id=\"ytick_119\">\r\n     <g id=\"line2d_267\">\r\n      <g>\r\n       <use style=\"stroke:#000000;stroke-width:0.8;\" x=\"46.965625\" xlink:href=\"#maf537014b4\" y=\"620.031651\"/>\r\n      </g>\r\n     </g>\r\n     <g id=\"text_268\">\r\n      <!-- 118 -->\r\n      <g transform=\"translate(20.878125 623.83087)scale(0.1 -0.1)\">\r\n       <use xlink:href=\"#DejaVuSans-49\"/>\r\n       <use x=\"63.623047\" xlink:href=\"#DejaVuSans-49\"/>\r\n       <use x=\"127.246094\" xlink:href=\"#DejaVuSans-56\"/>\r\n      </g>\r\n     </g>\r\n    </g>\r\n    <g id=\"ytick_120\">\r\n     <g id=\"line2d_268\">\r\n      <g>\r\n       <use style=\"stroke:#000000;stroke-width:0.8;\" x=\"46.965625\" xlink:href=\"#maf537014b4\" y=\"624.555976\"/>\r\n      </g>\r\n     </g>\r\n     <g id=\"text_269\">\r\n      <!-- 119 -->\r\n      <g transform=\"translate(20.878125 628.355194)scale(0.1 -0.1)\">\r\n       <use xlink:href=\"#DejaVuSans-49\"/>\r\n       <use x=\"63.623047\" xlink:href=\"#DejaVuSans-49\"/>\r\n       <use x=\"127.246094\" xlink:href=\"#DejaVuSans-57\"/>\r\n      </g>\r\n     </g>\r\n    </g>\r\n    <g id=\"ytick_121\">\r\n     <g id=\"line2d_269\">\r\n      <g>\r\n       <use style=\"stroke:#000000;stroke-width:0.8;\" x=\"46.965625\" xlink:href=\"#maf537014b4\" y=\"629.0803\"/>\r\n      </g>\r\n     </g>\r\n     <g id=\"text_270\">\r\n      <!-- 120 -->\r\n      <g transform=\"translate(20.878125 632.879519)scale(0.1 -0.1)\">\r\n       <use xlink:href=\"#DejaVuSans-49\"/>\r\n       <use x=\"63.623047\" xlink:href=\"#DejaVuSans-50\"/>\r\n       <use x=\"127.246094\" xlink:href=\"#DejaVuSans-48\"/>\r\n      </g>\r\n     </g>\r\n    </g>\r\n    <g id=\"ytick_122\">\r\n     <g id=\"line2d_270\">\r\n      <g>\r\n       <use style=\"stroke:#000000;stroke-width:0.8;\" x=\"46.965625\" xlink:href=\"#maf537014b4\" y=\"633.604624\"/>\r\n      </g>\r\n     </g>\r\n     <g id=\"text_271\">\r\n      <!-- 121 -->\r\n      <g transform=\"translate(20.878125 637.403843)scale(0.1 -0.1)\">\r\n       <use xlink:href=\"#DejaVuSans-49\"/>\r\n       <use x=\"63.623047\" xlink:href=\"#DejaVuSans-50\"/>\r\n       <use x=\"127.246094\" xlink:href=\"#DejaVuSans-49\"/>\r\n      </g>\r\n     </g>\r\n    </g>\r\n    <g id=\"ytick_123\">\r\n     <g id=\"line2d_271\">\r\n      <g>\r\n       <use style=\"stroke:#000000;stroke-width:0.8;\" x=\"46.965625\" xlink:href=\"#maf537014b4\" y=\"638.128948\"/>\r\n      </g>\r\n     </g>\r\n     <g id=\"text_272\">\r\n      <!-- 122 -->\r\n      <g transform=\"translate(20.878125 641.928167)scale(0.1 -0.1)\">\r\n       <use xlink:href=\"#DejaVuSans-49\"/>\r\n       <use x=\"63.623047\" xlink:href=\"#DejaVuSans-50\"/>\r\n       <use x=\"127.246094\" xlink:href=\"#DejaVuSans-50\"/>\r\n      </g>\r\n     </g>\r\n    </g>\r\n    <g id=\"ytick_124\">\r\n     <g id=\"line2d_272\">\r\n      <g>\r\n       <use style=\"stroke:#000000;stroke-width:0.8;\" x=\"46.965625\" xlink:href=\"#maf537014b4\" y=\"642.653273\"/>\r\n      </g>\r\n     </g>\r\n     <g id=\"text_273\">\r\n      <!-- 123 -->\r\n      <g transform=\"translate(20.878125 646.452492)scale(0.1 -0.1)\">\r\n       <use xlink:href=\"#DejaVuSans-49\"/>\r\n       <use x=\"63.623047\" xlink:href=\"#DejaVuSans-50\"/>\r\n       <use x=\"127.246094\" xlink:href=\"#DejaVuSans-51\"/>\r\n      </g>\r\n     </g>\r\n    </g>\r\n    <g id=\"ytick_125\">\r\n     <g id=\"line2d_273\">\r\n      <g>\r\n       <use style=\"stroke:#000000;stroke-width:0.8;\" x=\"46.965625\" xlink:href=\"#maf537014b4\" y=\"647.177597\"/>\r\n      </g>\r\n     </g>\r\n     <g id=\"text_274\">\r\n      <!-- 124 -->\r\n      <g transform=\"translate(20.878125 650.976816)scale(0.1 -0.1)\">\r\n       <use xlink:href=\"#DejaVuSans-49\"/>\r\n       <use x=\"63.623047\" xlink:href=\"#DejaVuSans-50\"/>\r\n       <use x=\"127.246094\" xlink:href=\"#DejaVuSans-52\"/>\r\n      </g>\r\n     </g>\r\n    </g>\r\n    <g id=\"ytick_126\">\r\n     <g id=\"line2d_274\">\r\n      <g>\r\n       <use style=\"stroke:#000000;stroke-width:0.8;\" x=\"46.965625\" xlink:href=\"#maf537014b4\" y=\"651.701921\"/>\r\n      </g>\r\n     </g>\r\n     <g id=\"text_275\">\r\n      <!-- 125 -->\r\n      <g transform=\"translate(20.878125 655.50114)scale(0.1 -0.1)\">\r\n       <use xlink:href=\"#DejaVuSans-49\"/>\r\n       <use x=\"63.623047\" xlink:href=\"#DejaVuSans-50\"/>\r\n       <use x=\"127.246094\" xlink:href=\"#DejaVuSans-53\"/>\r\n      </g>\r\n     </g>\r\n    </g>\r\n    <g id=\"ytick_127\">\r\n     <g id=\"line2d_275\">\r\n      <g>\r\n       <use style=\"stroke:#000000;stroke-width:0.8;\" x=\"46.965625\" xlink:href=\"#maf537014b4\" y=\"656.226246\"/>\r\n      </g>\r\n     </g>\r\n     <g id=\"text_276\">\r\n      <!-- 126 -->\r\n      <g transform=\"translate(20.878125 660.025465)scale(0.1 -0.1)\">\r\n       <use xlink:href=\"#DejaVuSans-49\"/>\r\n       <use x=\"63.623047\" xlink:href=\"#DejaVuSans-50\"/>\r\n       <use x=\"127.246094\" xlink:href=\"#DejaVuSans-54\"/>\r\n      </g>\r\n     </g>\r\n    </g>\r\n    <g id=\"ytick_128\">\r\n     <g id=\"line2d_276\">\r\n      <g>\r\n       <use style=\"stroke:#000000;stroke-width:0.8;\" x=\"46.965625\" xlink:href=\"#maf537014b4\" y=\"660.75057\"/>\r\n      </g>\r\n     </g>\r\n     <g id=\"text_277\">\r\n      <!-- 127 -->\r\n      <g transform=\"translate(20.878125 664.549789)scale(0.1 -0.1)\">\r\n       <use xlink:href=\"#DejaVuSans-49\"/>\r\n       <use x=\"63.623047\" xlink:href=\"#DejaVuSans-50\"/>\r\n       <use x=\"127.246094\" xlink:href=\"#DejaVuSans-55\"/>\r\n      </g>\r\n     </g>\r\n    </g>\r\n    <g id=\"ytick_129\">\r\n     <g id=\"line2d_277\">\r\n      <g>\r\n       <use style=\"stroke:#000000;stroke-width:0.8;\" x=\"46.965625\" xlink:href=\"#maf537014b4\" y=\"665.274894\"/>\r\n      </g>\r\n     </g>\r\n     <g id=\"text_278\">\r\n      <!-- 128 -->\r\n      <g transform=\"translate(20.878125 669.074113)scale(0.1 -0.1)\">\r\n       <use xlink:href=\"#DejaVuSans-49\"/>\r\n       <use x=\"63.623047\" xlink:href=\"#DejaVuSans-50\"/>\r\n       <use x=\"127.246094\" xlink:href=\"#DejaVuSans-56\"/>\r\n      </g>\r\n     </g>\r\n    </g>\r\n    <g id=\"ytick_130\">\r\n     <g id=\"line2d_278\">\r\n      <g>\r\n       <use style=\"stroke:#000000;stroke-width:0.8;\" x=\"46.965625\" xlink:href=\"#maf537014b4\" y=\"669.799219\"/>\r\n      </g>\r\n     </g>\r\n     <g id=\"text_279\">\r\n      <!-- 129 -->\r\n      <g transform=\"translate(20.878125 673.598437)scale(0.1 -0.1)\">\r\n       <use xlink:href=\"#DejaVuSans-49\"/>\r\n       <use x=\"63.623047\" xlink:href=\"#DejaVuSans-50\"/>\r\n       <use x=\"127.246094\" xlink:href=\"#DejaVuSans-57\"/>\r\n      </g>\r\n     </g>\r\n    </g>\r\n    <g id=\"ytick_131\">\r\n     <g id=\"line2d_279\">\r\n      <g>\r\n       <use style=\"stroke:#000000;stroke-width:0.8;\" x=\"46.965625\" xlink:href=\"#maf537014b4\" y=\"674.323543\"/>\r\n      </g>\r\n     </g>\r\n     <g id=\"text_280\">\r\n      <!-- 130 -->\r\n      <g transform=\"translate(20.878125 678.122762)scale(0.1 -0.1)\">\r\n       <use xlink:href=\"#DejaVuSans-49\"/>\r\n       <use x=\"63.623047\" xlink:href=\"#DejaVuSans-51\"/>\r\n       <use x=\"127.246094\" xlink:href=\"#DejaVuSans-48\"/>\r\n      </g>\r\n     </g>\r\n    </g>\r\n    <g id=\"ytick_132\">\r\n     <g id=\"line2d_280\">\r\n      <g>\r\n       <use style=\"stroke:#000000;stroke-width:0.8;\" x=\"46.965625\" xlink:href=\"#maf537014b4\" y=\"678.847867\"/>\r\n      </g>\r\n     </g>\r\n     <g id=\"text_281\">\r\n      <!-- 131 -->\r\n      <g transform=\"translate(20.878125 682.647086)scale(0.1 -0.1)\">\r\n       <use xlink:href=\"#DejaVuSans-49\"/>\r\n       <use x=\"63.623047\" xlink:href=\"#DejaVuSans-51\"/>\r\n       <use x=\"127.246094\" xlink:href=\"#DejaVuSans-49\"/>\r\n      </g>\r\n     </g>\r\n    </g>\r\n    <g id=\"ytick_133\">\r\n     <g id=\"line2d_281\">\r\n      <g>\r\n       <use style=\"stroke:#000000;stroke-width:0.8;\" x=\"46.965625\" xlink:href=\"#maf537014b4\" y=\"683.372192\"/>\r\n      </g>\r\n     </g>\r\n     <g id=\"text_282\">\r\n      <!-- 132 -->\r\n      <g transform=\"translate(20.878125 687.17141)scale(0.1 -0.1)\">\r\n       <use xlink:href=\"#DejaVuSans-49\"/>\r\n       <use x=\"63.623047\" xlink:href=\"#DejaVuSans-51\"/>\r\n       <use x=\"127.246094\" xlink:href=\"#DejaVuSans-50\"/>\r\n      </g>\r\n     </g>\r\n    </g>\r\n    <g id=\"ytick_134\">\r\n     <g id=\"line2d_282\">\r\n      <g>\r\n       <use style=\"stroke:#000000;stroke-width:0.8;\" x=\"46.965625\" xlink:href=\"#maf537014b4\" y=\"687.896516\"/>\r\n      </g>\r\n     </g>\r\n     <g id=\"text_283\">\r\n      <!-- 133 -->\r\n      <g transform=\"translate(20.878125 691.695735)scale(0.1 -0.1)\">\r\n       <use xlink:href=\"#DejaVuSans-49\"/>\r\n       <use x=\"63.623047\" xlink:href=\"#DejaVuSans-51\"/>\r\n       <use x=\"127.246094\" xlink:href=\"#DejaVuSans-51\"/>\r\n      </g>\r\n     </g>\r\n    </g>\r\n    <g id=\"ytick_135\">\r\n     <g id=\"line2d_283\">\r\n      <g>\r\n       <use style=\"stroke:#000000;stroke-width:0.8;\" x=\"46.965625\" xlink:href=\"#maf537014b4\" y=\"692.42084\"/>\r\n      </g>\r\n     </g>\r\n     <g id=\"text_284\">\r\n      <!-- 134 -->\r\n      <g transform=\"translate(20.878125 696.220059)scale(0.1 -0.1)\">\r\n       <use xlink:href=\"#DejaVuSans-49\"/>\r\n       <use x=\"63.623047\" xlink:href=\"#DejaVuSans-51\"/>\r\n       <use x=\"127.246094\" xlink:href=\"#DejaVuSans-52\"/>\r\n      </g>\r\n     </g>\r\n    </g>\r\n    <g id=\"ytick_136\">\r\n     <g id=\"line2d_284\">\r\n      <g>\r\n       <use style=\"stroke:#000000;stroke-width:0.8;\" x=\"46.965625\" xlink:href=\"#maf537014b4\" y=\"696.945165\"/>\r\n      </g>\r\n     </g>\r\n     <g id=\"text_285\">\r\n      <!-- 135 -->\r\n      <g transform=\"translate(20.878125 700.744383)scale(0.1 -0.1)\">\r\n       <use xlink:href=\"#DejaVuSans-49\"/>\r\n       <use x=\"63.623047\" xlink:href=\"#DejaVuSans-51\"/>\r\n       <use x=\"127.246094\" xlink:href=\"#DejaVuSans-53\"/>\r\n      </g>\r\n     </g>\r\n    </g>\r\n    <g id=\"ytick_137\">\r\n     <g id=\"line2d_285\">\r\n      <g>\r\n       <use style=\"stroke:#000000;stroke-width:0.8;\" x=\"46.965625\" xlink:href=\"#maf537014b4\" y=\"701.469489\"/>\r\n      </g>\r\n     </g>\r\n     <g id=\"text_286\">\r\n      <!-- 136 -->\r\n      <g transform=\"translate(20.878125 705.268708)scale(0.1 -0.1)\">\r\n       <use xlink:href=\"#DejaVuSans-49\"/>\r\n       <use x=\"63.623047\" xlink:href=\"#DejaVuSans-51\"/>\r\n       <use x=\"127.246094\" xlink:href=\"#DejaVuSans-54\"/>\r\n      </g>\r\n     </g>\r\n    </g>\r\n    <g id=\"ytick_138\">\r\n     <g id=\"line2d_286\">\r\n      <g>\r\n       <use style=\"stroke:#000000;stroke-width:0.8;\" x=\"46.965625\" xlink:href=\"#maf537014b4\" y=\"705.993813\"/>\r\n      </g>\r\n     </g>\r\n     <g id=\"text_287\">\r\n      <!-- 137 -->\r\n      <g transform=\"translate(20.878125 709.793032)scale(0.1 -0.1)\">\r\n       <use xlink:href=\"#DejaVuSans-49\"/>\r\n       <use x=\"63.623047\" xlink:href=\"#DejaVuSans-51\"/>\r\n       <use x=\"127.246094\" xlink:href=\"#DejaVuSans-55\"/>\r\n      </g>\r\n     </g>\r\n    </g>\r\n    <g id=\"ytick_139\">\r\n     <g id=\"line2d_287\">\r\n      <g>\r\n       <use style=\"stroke:#000000;stroke-width:0.8;\" x=\"46.965625\" xlink:href=\"#maf537014b4\" y=\"710.518138\"/>\r\n      </g>\r\n     </g>\r\n     <g id=\"text_288\">\r\n      <!-- 138 -->\r\n      <g transform=\"translate(20.878125 714.317356)scale(0.1 -0.1)\">\r\n       <use xlink:href=\"#DejaVuSans-49\"/>\r\n       <use x=\"63.623047\" xlink:href=\"#DejaVuSans-51\"/>\r\n       <use x=\"127.246094\" xlink:href=\"#DejaVuSans-56\"/>\r\n      </g>\r\n     </g>\r\n    </g>\r\n    <g id=\"ytick_140\">\r\n     <g id=\"line2d_288\">\r\n      <g>\r\n       <use style=\"stroke:#000000;stroke-width:0.8;\" x=\"46.965625\" xlink:href=\"#maf537014b4\" y=\"715.042462\"/>\r\n      </g>\r\n     </g>\r\n     <g id=\"text_289\">\r\n      <!-- 139 -->\r\n      <g transform=\"translate(20.878125 718.841681)scale(0.1 -0.1)\">\r\n       <use xlink:href=\"#DejaVuSans-49\"/>\r\n       <use x=\"63.623047\" xlink:href=\"#DejaVuSans-51\"/>\r\n       <use x=\"127.246094\" xlink:href=\"#DejaVuSans-57\"/>\r\n      </g>\r\n     </g>\r\n    </g>\r\n    <g id=\"ytick_141\">\r\n     <g id=\"line2d_289\">\r\n      <g>\r\n       <use style=\"stroke:#000000;stroke-width:0.8;\" x=\"46.965625\" xlink:href=\"#maf537014b4\" y=\"719.566786\"/>\r\n      </g>\r\n     </g>\r\n     <g id=\"text_290\">\r\n      <!-- 140 -->\r\n      <g transform=\"translate(20.878125 723.366005)scale(0.1 -0.1)\">\r\n       <use xlink:href=\"#DejaVuSans-49\"/>\r\n       <use x=\"63.623047\" xlink:href=\"#DejaVuSans-52\"/>\r\n       <use x=\"127.246094\" xlink:href=\"#DejaVuSans-48\"/>\r\n      </g>\r\n     </g>\r\n    </g>\r\n    <g id=\"ytick_142\">\r\n     <g id=\"line2d_290\">\r\n      <g>\r\n       <use style=\"stroke:#000000;stroke-width:0.8;\" x=\"46.965625\" xlink:href=\"#maf537014b4\" y=\"724.091111\"/>\r\n      </g>\r\n     </g>\r\n     <g id=\"text_291\">\r\n      <!-- 141 -->\r\n      <g transform=\"translate(20.878125 727.890329)scale(0.1 -0.1)\">\r\n       <use xlink:href=\"#DejaVuSans-49\"/>\r\n       <use x=\"63.623047\" xlink:href=\"#DejaVuSans-52\"/>\r\n       <use x=\"127.246094\" xlink:href=\"#DejaVuSans-49\"/>\r\n      </g>\r\n     </g>\r\n    </g>\r\n    <g id=\"ytick_143\">\r\n     <g id=\"line2d_291\">\r\n      <g>\r\n       <use style=\"stroke:#000000;stroke-width:0.8;\" x=\"46.965625\" xlink:href=\"#maf537014b4\" y=\"728.615435\"/>\r\n      </g>\r\n     </g>\r\n     <g id=\"text_292\">\r\n      <!-- 142 -->\r\n      <g transform=\"translate(20.878125 732.414654)scale(0.1 -0.1)\">\r\n       <use xlink:href=\"#DejaVuSans-49\"/>\r\n       <use x=\"63.623047\" xlink:href=\"#DejaVuSans-52\"/>\r\n       <use x=\"127.246094\" xlink:href=\"#DejaVuSans-50\"/>\r\n      </g>\r\n     </g>\r\n    </g>\r\n    <g id=\"ytick_144\">\r\n     <g id=\"line2d_292\">\r\n      <g>\r\n       <use style=\"stroke:#000000;stroke-width:0.8;\" x=\"46.965625\" xlink:href=\"#maf537014b4\" y=\"733.139759\"/>\r\n      </g>\r\n     </g>\r\n     <g id=\"text_293\">\r\n      <!-- 143 -->\r\n      <g transform=\"translate(20.878125 736.938978)scale(0.1 -0.1)\">\r\n       <use xlink:href=\"#DejaVuSans-49\"/>\r\n       <use x=\"63.623047\" xlink:href=\"#DejaVuSans-52\"/>\r\n       <use x=\"127.246094\" xlink:href=\"#DejaVuSans-51\"/>\r\n      </g>\r\n     </g>\r\n    </g>\r\n    <g id=\"ytick_145\">\r\n     <g id=\"line2d_293\">\r\n      <g>\r\n       <use style=\"stroke:#000000;stroke-width:0.8;\" x=\"46.965625\" xlink:href=\"#maf537014b4\" y=\"737.664084\"/>\r\n      </g>\r\n     </g>\r\n     <g id=\"text_294\">\r\n      <!-- 144 -->\r\n      <g transform=\"translate(20.878125 741.463302)scale(0.1 -0.1)\">\r\n       <use xlink:href=\"#DejaVuSans-49\"/>\r\n       <use x=\"63.623047\" xlink:href=\"#DejaVuSans-52\"/>\r\n       <use x=\"127.246094\" xlink:href=\"#DejaVuSans-52\"/>\r\n      </g>\r\n     </g>\r\n    </g>\r\n    <g id=\"ytick_146\">\r\n     <g id=\"line2d_294\">\r\n      <g>\r\n       <use style=\"stroke:#000000;stroke-width:0.8;\" x=\"46.965625\" xlink:href=\"#maf537014b4\" y=\"742.188408\"/>\r\n      </g>\r\n     </g>\r\n     <g id=\"text_295\">\r\n      <!-- 145 -->\r\n      <g transform=\"translate(20.878125 745.987627)scale(0.1 -0.1)\">\r\n       <use xlink:href=\"#DejaVuSans-49\"/>\r\n       <use x=\"63.623047\" xlink:href=\"#DejaVuSans-52\"/>\r\n       <use x=\"127.246094\" xlink:href=\"#DejaVuSans-53\"/>\r\n      </g>\r\n     </g>\r\n    </g>\r\n    <g id=\"ytick_147\">\r\n     <g id=\"line2d_295\">\r\n      <g>\r\n       <use style=\"stroke:#000000;stroke-width:0.8;\" x=\"46.965625\" xlink:href=\"#maf537014b4\" y=\"746.712732\"/>\r\n      </g>\r\n     </g>\r\n     <g id=\"text_296\">\r\n      <!-- 146 -->\r\n      <g transform=\"translate(20.878125 750.511951)scale(0.1 -0.1)\">\r\n       <use xlink:href=\"#DejaVuSans-49\"/>\r\n       <use x=\"63.623047\" xlink:href=\"#DejaVuSans-52\"/>\r\n       <use x=\"127.246094\" xlink:href=\"#DejaVuSans-54\"/>\r\n      </g>\r\n     </g>\r\n    </g>\r\n    <g id=\"ytick_148\">\r\n     <g id=\"line2d_296\">\r\n      <g>\r\n       <use style=\"stroke:#000000;stroke-width:0.8;\" x=\"46.965625\" xlink:href=\"#maf537014b4\" y=\"751.237057\"/>\r\n      </g>\r\n     </g>\r\n     <g id=\"text_297\">\r\n      <!-- 147 -->\r\n      <g transform=\"translate(20.878125 755.036275)scale(0.1 -0.1)\">\r\n       <use xlink:href=\"#DejaVuSans-49\"/>\r\n       <use x=\"63.623047\" xlink:href=\"#DejaVuSans-52\"/>\r\n       <use x=\"127.246094\" xlink:href=\"#DejaVuSans-55\"/>\r\n      </g>\r\n     </g>\r\n    </g>\r\n    <g id=\"text_298\">\r\n     <!-- True label -->\r\n     <defs>\r\n      <path d=\"M -0.296875 72.90625 \r\nL 61.375 72.90625 \r\nL 61.375 64.59375 \r\nL 35.5 64.59375 \r\nL 35.5 0 \r\nL 25.59375 0 \r\nL 25.59375 64.59375 \r\nL -0.296875 64.59375 \r\nz\r\n\" id=\"DejaVuSans-84\"/>\r\n      <path d=\"M 8.5 21.578125 \r\nL 8.5 54.6875 \r\nL 17.484375 54.6875 \r\nL 17.484375 21.921875 \r\nQ 17.484375 14.15625 20.5 10.265625 \r\nQ 23.53125 6.390625 29.59375 6.390625 \r\nQ 36.859375 6.390625 41.078125 11.03125 \r\nQ 45.3125 15.671875 45.3125 23.6875 \r\nL 45.3125 54.6875 \r\nL 54.296875 54.6875 \r\nL 54.296875 0 \r\nL 45.3125 0 \r\nL 45.3125 8.40625 \r\nQ 42.046875 3.421875 37.71875 1 \r\nQ 33.40625 -1.421875 27.6875 -1.421875 \r\nQ 18.265625 -1.421875 13.375 4.4375 \r\nQ 8.5 10.296875 8.5 21.578125 \r\nz\r\nM 31.109375 56 \r\nz\r\n\" id=\"DejaVuSans-117\"/>\r\n     </defs>\r\n     <g transform=\"translate(14.798438 443.725)rotate(-90)scale(0.1 -0.1)\">\r\n      <use xlink:href=\"#DejaVuSans-84\"/>\r\n      <use x=\"60.865234\" xlink:href=\"#DejaVuSans-114\"/>\r\n      <use x=\"101.978516\" xlink:href=\"#DejaVuSans-117\"/>\r\n      <use x=\"165.357422\" xlink:href=\"#DejaVuSans-101\"/>\r\n      <use x=\"226.880859\" xlink:href=\"#DejaVuSans-32\"/>\r\n      <use x=\"258.667969\" xlink:href=\"#DejaVuSans-108\"/>\r\n      <use x=\"286.451172\" xlink:href=\"#DejaVuSans-97\"/>\r\n      <use x=\"347.730469\" xlink:href=\"#DejaVuSans-98\"/>\r\n      <use x=\"411.207031\" xlink:href=\"#DejaVuSans-101\"/>\r\n      <use x=\"472.730469\" xlink:href=\"#DejaVuSans-108\"/>\r\n     </g>\r\n    </g>\r\n   </g>\r\n   <g id=\"patch_3\">\r\n    <path d=\"M 46.965625 753.499219 \r\nL 46.965625 83.899219 \r\n\" style=\"fill:none;stroke:#000000;stroke-linecap:square;stroke-linejoin:miter;stroke-width:0.8;\"/>\r\n   </g>\r\n   <g id=\"patch_4\">\r\n    <path d=\"M 716.565625 753.499219 \r\nL 716.565625 83.899219 \r\n\" style=\"fill:none;stroke:#000000;stroke-linecap:square;stroke-linejoin:miter;stroke-width:0.8;\"/>\r\n   </g>\r\n   <g id=\"patch_5\">\r\n    <path d=\"M 46.965625 753.499219 \r\nL 716.565625 753.499219 \r\n\" style=\"fill:none;stroke:#000000;stroke-linecap:square;stroke-linejoin:miter;stroke-width:0.8;\"/>\r\n   </g>\r\n   <g id=\"patch_6\">\r\n    <path d=\"M 46.965625 83.899219 \r\nL 716.565625 83.899219 \r\n\" style=\"fill:none;stroke:#000000;stroke-linecap:square;stroke-linejoin:miter;stroke-width:0.8;\"/>\r\n   </g>\r\n  </g>\r\n  <g id=\"axes_2\">\r\n   <g id=\"patch_7\">\r\n    <path clip-path=\"url(#p00cbaa26c5)\" d=\"M 758.415625 826.399219 \r\nL 758.415625 823.214062 \r\nL 758.415625 14.184375 \r\nL 758.415625 10.999219 \r\nL 799.185625 10.999219 \r\nL 799.185625 14.184375 \r\nL 799.185625 823.214062 \r\nL 799.185625 826.399219 \r\nz\r\n\" style=\"fill:#ffffff;stroke:#ffffff;stroke-linejoin:miter;stroke-width:0.01;\"/>\r\n   </g>\r\n   <image height=\"815\" id=\"image5df15348be\" transform=\"scale(1 -1)translate(0 -815)\" width=\"41\" x=\"758\" xlink:href=\"data:image/png;base64,\r\niVBORw0KGgoAAAANSUhEUgAAACkAAAMvCAYAAABP0fl2AAAABHNCSVQICAgIfAhkiAAABVZJREFUeJzt3dGN4zAQwFBJntK2hO2/lPOVkP0gEBHgq4CIopHsy+L2z/591+XOtwP+QhE5a9/feX/hkkTOPvvbDR8pPklFZLuboohsd1OKpDSCKIrIWY0ghiJy1m65EYrI2ef+zvsLlySy3U1RRM5qdzOKpDSCKIrIHh8oisjZvRxgKCLb3RRFZGc3pUhK30mKIrJHWooist1NUUS23BRFZMtNUUT2tEgpktIIoigi+/ESRRHZiUNRRDbMKYrIlptSJKXvJEUR2QWDoohsd1MUkfO23AxF5BgyBYlFcjpxKIrIlpuiiGy5KYrI7pMURWT3SYoismFOKZLSd5KiiOyCQVFEdsGgKCIb5hRFZMOcUiRl1v1fSccnqYjsxKEoIucVZAoSJZHtbooict77V9vxSSoi292UIik9PlAUkb3BoCgiex1NUUS2uymKyM5uSpGUHmkpisgeaSmKyHY3RRHZBYOiiOxPpylFUjpxKIrIThyKIrLdTVFE9rRIUUS2uymKyM5uSpGURhBFEdkFg6KIbHdTFJFdMCiKyP72gVIkpRFEUUR2waAoInt8oCgi290URWRnN0UR2e6mFElpBFEUkY0giiKy3U1RRLa7KYrIdjelSEp/8EtRRDaCKIrILhgURWS7m6KIbLkpRVI6cSiKyEYQRRHZ7qYoItvdFEVku5uiiGx3U4qk9J2kKCI7cSiKyHY3RRE577cL/kDxSSoi292UIil9JymKyO6TFEVku5uiiGx3UxSR7W6KIrLlphRJ6cShKCIbQRRFZMtNUUQ2zCmKyHY3pUhKI4iiiGwEURSRLTdFEdkwpygi292UIilFUhSRnTgURWQnDkUR2XJTFJENc4oist1NKZLSCKIoIhtBFEXkrH3/H2ApPklFZMOcoohsmFOKpPSdpCgiO3Eoish2N0UR2XJTFJE9LVIUkZ3dlCIpRVIUkV0wKIrIThyKIrL7JEUR2TCnFEnpO0lRRLbcFEVkFwyKIrLdTVFE9rRIKZLSiUNRRHbiUBSRI/iP0B2fpCKyYU5RRDbMKYrIlptSJGXW6sRBKCIbQRRF5OzukwxFZLuboohsd1OKpDSCKIrI3k9SFJG9n6QoIrtgUBSRDXOKIrLdTSmS0uMDRRHZCKIoIkewuR2fpCKy3U1RRLbclCIpPdJSFJFzGkEMRWQnDkUR2XJTFJGd3ZQiKV0wKIrIThyKInJOP4ZnKCK7YFAUkZ3dFEVkZzelSEojiKKIbARRFJHtbooisqdFiiKyYU4pktKJQ1FEttwURWTLTVFEttwURWSPDxRFZLubUiSl7yRFEdlyUxSRLTdFEdl9kqKIbHdTiqTM2f++3fCR4pNURDaCKIrILhgURWS7m6KI7OymFEmZpxHEUER2waAoIjtxKIrI7pMUReQ8DXOGIrJhTimS0olDUUT2tEhRRM5ZnTgIRWTDnKKInKfdzSiS0giiKCLn6ZGWoYjsXx8oish2N0UR2ftJiiKyf32gFElpBFEUkY0giiKy3U1RRPZ+kqKI7NUfpUhKI4iiiOyFFUUR2etoiiKy3U1RRPbjJUqRlH4/SVFE9vhAUUT2fpKiiGx3UxSRnd0URWSPD5QiKb3BoCgiu2BQFJG9jqYoIhvmFEVkv1WjFEnpGYeiiOzEoSgiO3Eoish+P0lRRPZygKKIbJhTiqR04lAUkY0giiKy5aYoIufsbyd8pvgkFZHtbkqRlDFUGhodkfN04jAUkfOs+9db8UkqIhvmFEXkPLvdjVBEzmmYM4qkdMGgKCIbQRRFZBcMiiJyjqDz/sIliWyYU4qkzLPv77y/cEkiO3Eoisj/iIGRYCMB2qQAAAAASUVORK5CYII=\" y=\"-11\"/>\r\n   <g id=\"matplotlib.axis_3\"/>\r\n   <g id=\"matplotlib.axis_4\">\r\n    <g id=\"ytick_149\">\r\n     <g id=\"line2d_297\">\r\n      <defs>\r\n       <path d=\"M 0 0 \r\nL 3.5 0 \r\n\" id=\"maec5777008\" style=\"stroke:#000000;stroke-width:0.8;\"/>\r\n      </defs>\r\n      <g>\r\n       <use style=\"stroke:#000000;stroke-width:0.8;\" x=\"799.185625\" xlink:href=\"#maec5777008\" y=\"826.399219\"/>\r\n      </g>\r\n     </g>\r\n     <g id=\"text_299\">\r\n      <!-- 0 -->\r\n      <g transform=\"translate(806.185625 830.198437)scale(0.1 -0.1)\">\r\n       <use xlink:href=\"#DejaVuSans-48\"/>\r\n      </g>\r\n     </g>\r\n    </g>\r\n    <g id=\"ytick_150\">\r\n     <g id=\"line2d_298\">\r\n      <g>\r\n       <use style=\"stroke:#000000;stroke-width:0.8;\" x=\"799.185625\" xlink:href=\"#maec5777008\" y=\"663.319219\"/>\r\n      </g>\r\n     </g>\r\n     <g id=\"text_300\">\r\n      <!-- 1 -->\r\n      <g transform=\"translate(806.185625 667.118437)scale(0.1 -0.1)\">\r\n       <use xlink:href=\"#DejaVuSans-49\"/>\r\n      </g>\r\n     </g>\r\n    </g>\r\n    <g id=\"ytick_151\">\r\n     <g id=\"line2d_299\">\r\n      <g>\r\n       <use style=\"stroke:#000000;stroke-width:0.8;\" x=\"799.185625\" xlink:href=\"#maec5777008\" y=\"500.239219\"/>\r\n      </g>\r\n     </g>\r\n     <g id=\"text_301\">\r\n      <!-- 2 -->\r\n      <g transform=\"translate(806.185625 504.038437)scale(0.1 -0.1)\">\r\n       <use xlink:href=\"#DejaVuSans-50\"/>\r\n      </g>\r\n     </g>\r\n    </g>\r\n    <g id=\"ytick_152\">\r\n     <g id=\"line2d_300\">\r\n      <g>\r\n       <use style=\"stroke:#000000;stroke-width:0.8;\" x=\"799.185625\" xlink:href=\"#maec5777008\" y=\"337.159219\"/>\r\n      </g>\r\n     </g>\r\n     <g id=\"text_302\">\r\n      <!-- 3 -->\r\n      <g transform=\"translate(806.185625 340.958437)scale(0.1 -0.1)\">\r\n       <use xlink:href=\"#DejaVuSans-51\"/>\r\n      </g>\r\n     </g>\r\n    </g>\r\n    <g id=\"ytick_153\">\r\n     <g id=\"line2d_301\">\r\n      <g>\r\n       <use style=\"stroke:#000000;stroke-width:0.8;\" x=\"799.185625\" xlink:href=\"#maec5777008\" y=\"174.079219\"/>\r\n      </g>\r\n     </g>\r\n     <g id=\"text_303\">\r\n      <!-- 4 -->\r\n      <g transform=\"translate(806.185625 177.878437)scale(0.1 -0.1)\">\r\n       <use xlink:href=\"#DejaVuSans-52\"/>\r\n      </g>\r\n     </g>\r\n    </g>\r\n    <g id=\"ytick_154\">\r\n     <g id=\"line2d_302\">\r\n      <g>\r\n       <use style=\"stroke:#000000;stroke-width:0.8;\" x=\"799.185625\" xlink:href=\"#maec5777008\" y=\"10.999219\"/>\r\n      </g>\r\n     </g>\r\n     <g id=\"text_304\">\r\n      <!-- 5 -->\r\n      <g transform=\"translate(806.185625 14.798437)scale(0.1 -0.1)\">\r\n       <use xlink:href=\"#DejaVuSans-53\"/>\r\n      </g>\r\n     </g>\r\n    </g>\r\n   </g>\r\n   <g id=\"patch_8\">\r\n    <path d=\"M 758.415625 826.399219 \r\nL 758.415625 823.214062 \r\nL 758.415625 14.184375 \r\nL 758.415625 10.999219 \r\nL 799.185625 10.999219 \r\nL 799.185625 14.184375 \r\nL 799.185625 823.214062 \r\nL 799.185625 826.399219 \r\nz\r\n\" style=\"fill:none;stroke:#000000;stroke-linejoin:miter;stroke-width:0.8;\"/>\r\n   </g>\r\n  </g>\r\n </g>\r\n <defs>\r\n  <clipPath id=\"p46194d84ed\">\r\n   <rect height=\"669.6\" width=\"669.6\" x=\"46.965625\" y=\"83.899219\"/>\r\n  </clipPath>\r\n  <clipPath id=\"p00cbaa26c5\">\r\n   <rect height=\"815.4\" width=\"40.77\" x=\"758.415625\" y=\"10.999219\"/>\r\n  </clipPath>\r\n </defs>\r\n</svg>\r\n",
      "image/png": "[encoded data removed]"
     },
     "metadata": {
      "needs_background": "light"
     }
    }
   ],
   "source": [
    "fig = plt.figure(figsize=(15, 15))\n",
    "cm = confusion_matrix(valset.get_labels(), outputs)\n",
    "ax = fig.add_subplot(111)\n",
    "cm_display = ConfusionMatrixDisplay(cm,\n",
    "                                    display_labels=np.arange(155)).plot(ax=ax,\n",
    "                                                                       xticks_rotation=\"vertical\",include_values = False)"
   ]
  },
  {
   "cell_type": "code",
   "execution_count": null,
   "metadata": {},
   "outputs": [],
   "source": []
  }
 ],
 "metadata": {
  "hide_input": false,
  "kernelspec": {
   "name": "python368jvsc74a57bd0a0e368d3b96ff839f50733807465d562260f9a4b35566a05ef4810ed78bf1098",
   "display_name": "Python 3.6.8 64-bit ('python36': conda)"
  },
  "language_info": {
   "codemirror_mode": {
    "name": "ipython",
    "version": 3
   },
   "file_extension": ".py",
   "mimetype": "text/x-python",
   "name": "python",
   "nbconvert_exporter": "python",
   "pygments_lexer": "ipython3",
   "version": "3.6.8"
  }
 },
 "nbformat": 4,
 "nbformat_minor": 4
}